{
 "cells": [
  {
   "cell_type": "code",
   "execution_count": 4,
   "metadata": {},
   "outputs": [
    {
     "data": {
      "text/html": [
       "        <script type=\"text/javascript\">\n",
       "        window.PlotlyConfig = {MathJaxConfig: 'local'};\n",
       "        if (window.MathJax) {MathJax.Hub.Config({SVG: {font: \"STIX-Web\"}});}\n",
       "        if (typeof require !== 'undefined') {\n",
       "        require.undef(\"plotly\");\n",
       "        requirejs.config({\n",
       "            paths: {\n",
       "                'plotly': ['https://cdn.plot.ly/plotly-latest.min']\n",
       "            }\n",
       "        });\n",
       "        require(['plotly'], function(Plotly) {\n",
       "            window._Plotly = Plotly;\n",
       "        });\n",
       "        }\n",
       "        </script>\n",
       "        "
      ]
     },
     "metadata": {},
     "output_type": "display_data"
    }
   ],
   "source": [
    "import pandas as pd\n",
    "import numpy as np\n",
    "\n",
    "import cufflinks as cf\n",
    "cf.go_offline()\n",
    "import plotly.graph_objs as go\n",
    "import plotly.offline as py\n",
    "import seaborn as sns\n",
    "sns.set()\n",
    "from plotly.offline import init_notebook_mode, iplot \n",
    "import plotly.express as px\n",
    "import warnings\n",
    "warnings.filterwarnings('ignore')"
   ]
  },
  {
   "cell_type": "code",
   "execution_count": 116,
   "metadata": {},
   "outputs": [
    {
     "data": {
      "text/html": [
       "<div>\n",
       "<style scoped>\n",
       "    .dataframe tbody tr th:only-of-type {\n",
       "        vertical-align: middle;\n",
       "    }\n",
       "\n",
       "    .dataframe tbody tr th {\n",
       "        vertical-align: top;\n",
       "    }\n",
       "\n",
       "    .dataframe thead th {\n",
       "        text-align: right;\n",
       "    }\n",
       "</style>\n",
       "<table border=\"1\" class=\"dataframe\">\n",
       "  <thead>\n",
       "    <tr style=\"text-align: right;\">\n",
       "      <th></th>\n",
       "      <th>Country/Region</th>\n",
       "      <th>Date</th>\n",
       "      <th>Confirmed</th>\n",
       "      <th>Deaths</th>\n",
       "      <th>Recovered</th>\n",
       "    </tr>\n",
       "  </thead>\n",
       "  <tbody>\n",
       "    <tr>\n",
       "      <td>0</td>\n",
       "      <td>Australia</td>\n",
       "      <td>2020-01-22</td>\n",
       "      <td>0</td>\n",
       "      <td>0</td>\n",
       "      <td>0</td>\n",
       "    </tr>\n",
       "    <tr>\n",
       "      <td>1</td>\n",
       "      <td>Canada</td>\n",
       "      <td>2020-01-22</td>\n",
       "      <td>0</td>\n",
       "      <td>0</td>\n",
       "      <td>0</td>\n",
       "    </tr>\n",
       "    <tr>\n",
       "      <td>2</td>\n",
       "      <td>China</td>\n",
       "      <td>2020-01-22</td>\n",
       "      <td>548</td>\n",
       "      <td>17</td>\n",
       "      <td>28</td>\n",
       "    </tr>\n",
       "    <tr>\n",
       "      <td>3</td>\n",
       "      <td>Denmark</td>\n",
       "      <td>2020-01-22</td>\n",
       "      <td>0</td>\n",
       "      <td>0</td>\n",
       "      <td>0</td>\n",
       "    </tr>\n",
       "    <tr>\n",
       "      <td>4</td>\n",
       "      <td>France</td>\n",
       "      <td>2020-01-22</td>\n",
       "      <td>0</td>\n",
       "      <td>0</td>\n",
       "      <td>0</td>\n",
       "    </tr>\n",
       "  </tbody>\n",
       "</table>\n",
       "</div>"
      ],
      "text/plain": [
       "  Country/Region       Date  Confirmed  Deaths  Recovered\n",
       "0      Australia 2020-01-22          0       0          0\n",
       "1         Canada 2020-01-22          0       0          0\n",
       "2          China 2020-01-22        548      17         28\n",
       "3        Denmark 2020-01-22          0       0          0\n",
       "4         France 2020-01-22          0       0          0"
      ]
     },
     "execution_count": 116,
     "metadata": {},
     "output_type": "execute_result"
    }
   ],
   "source": [
    "dataset = pd.read_excel(r\"C:\\Users\\hp\\Downloads\\assignment-covid-19-data-set-cleaned.xlsx\",sheet_name = 'data_after_cleaning',parse_dates=['Date'])\n",
    "df = pd.DataFrame(dataset)\n",
    "df.head()"
   ]
  },
  {
   "cell_type": "markdown",
   "metadata": {},
   "source": [
    "## Graphical representation of confirmed case trend across the globe"
   ]
  },
  {
   "cell_type": "code",
   "execution_count": 51,
   "metadata": {},
   "outputs": [
    {
     "data": {
      "application/vnd.plotly.v1+json": {
       "config": {
        "plotlyServerURL": "https://plot.ly"
       },
       "data": [
        {
         "mode": "lines+markers",
         "name": "Total Cases",
         "type": "scatter",
         "x": [
          "2020-01-22T00:00:00",
          "2020-01-23T00:00:00",
          "2020-01-24T00:00:00",
          "2020-01-25T00:00:00",
          "2020-01-26T00:00:00",
          "2020-01-27T00:00:00",
          "2020-01-28T00:00:00",
          "2020-01-29T00:00:00",
          "2020-01-30T00:00:00",
          "2020-01-31T00:00:00",
          "2020-02-01T00:00:00",
          "2020-02-02T00:00:00",
          "2020-02-03T00:00:00",
          "2020-02-04T00:00:00",
          "2020-02-05T00:00:00",
          "2020-02-06T00:00:00",
          "2020-02-07T00:00:00",
          "2020-02-08T00:00:00",
          "2020-02-09T00:00:00",
          "2020-02-10T00:00:00",
          "2020-02-11T00:00:00",
          "2020-02-12T00:00:00",
          "2020-02-13T00:00:00",
          "2020-02-14T00:00:00",
          "2020-02-15T00:00:00",
          "2020-02-16T00:00:00",
          "2020-02-17T00:00:00",
          "2020-02-18T00:00:00",
          "2020-02-19T00:00:00",
          "2020-02-20T00:00:00",
          "2020-02-21T00:00:00",
          "2020-02-22T00:00:00",
          "2020-02-23T00:00:00",
          "2020-02-24T00:00:00",
          "2020-02-25T00:00:00",
          "2020-02-26T00:00:00",
          "2020-02-27T00:00:00",
          "2020-02-28T00:00:00",
          "2020-02-29T00:00:00",
          "2020-03-01T00:00:00",
          "2020-03-02T00:00:00",
          "2020-03-03T00:00:00",
          "2020-03-04T00:00:00",
          "2020-03-05T00:00:00",
          "2020-03-06T00:00:00",
          "2020-03-07T00:00:00",
          "2020-03-08T00:00:00",
          "2020-03-09T00:00:00",
          "2020-03-10T00:00:00",
          "2020-03-11T00:00:00",
          "2020-03-12T00:00:00",
          "2020-03-13T00:00:00",
          "2020-03-14T00:00:00",
          "2020-03-15T00:00:00",
          "2020-03-16T00:00:00",
          "2020-03-17T00:00:00",
          "2020-03-18T00:00:00",
          "2020-03-19T00:00:00",
          "2020-03-20T00:00:00",
          "2020-03-21T00:00:00",
          "2020-03-22T00:00:00",
          "2020-03-23T00:00:00",
          "2020-03-24T00:00:00",
          "2020-03-25T00:00:00",
          "2020-03-26T00:00:00",
          "2020-03-27T00:00:00",
          "2020-03-28T00:00:00",
          "2020-03-29T00:00:00",
          "2020-03-30T00:00:00",
          "2020-03-31T00:00:00",
          "2020-04-01T00:00:00",
          "2020-04-02T00:00:00",
          "2020-04-03T00:00:00"
         ],
         "y": [
          555,
          654,
          941,
          1434,
          2118,
          2927,
          5578,
          6166,
          8234,
          9927,
          12038,
          16787,
          19881,
          23892,
          27635,
          30794,
          34391,
          37120,
          40150,
          42762,
          44802,
          46729,
          60368,
          66885,
          69030,
          71224,
          73258,
          75136,
          75639,
          76197,
          76819,
          78572,
          78958,
          79561,
          80406,
          81388,
          82746,
          84112,
          86011,
          88369,
          90306,
          92840,
          95120,
          97886,
          101801,
          105847,
          109821,
          113590,
          118620,
          125875,
          128352,
          145205,
          156101,
          167454,
          181574,
          197102,
          214821,
          242500,
          272035,
          304396,
          336953,
          378235,
          418045,
          467653,
          529591,
          593291,
          660706,
          720117,
          782365,
          857487,
          932605,
          1013155,
          1095915
         ]
        }
       ],
       "layout": {
        "template": {
         "data": {
          "bar": [
           {
            "error_x": {
             "color": "#2a3f5f"
            },
            "error_y": {
             "color": "#2a3f5f"
            },
            "marker": {
             "line": {
              "color": "#E5ECF6",
              "width": 0.5
             }
            },
            "type": "bar"
           }
          ],
          "barpolar": [
           {
            "marker": {
             "line": {
              "color": "#E5ECF6",
              "width": 0.5
             }
            },
            "type": "barpolar"
           }
          ],
          "carpet": [
           {
            "aaxis": {
             "endlinecolor": "#2a3f5f",
             "gridcolor": "white",
             "linecolor": "white",
             "minorgridcolor": "white",
             "startlinecolor": "#2a3f5f"
            },
            "baxis": {
             "endlinecolor": "#2a3f5f",
             "gridcolor": "white",
             "linecolor": "white",
             "minorgridcolor": "white",
             "startlinecolor": "#2a3f5f"
            },
            "type": "carpet"
           }
          ],
          "choropleth": [
           {
            "colorbar": {
             "outlinewidth": 0,
             "ticks": ""
            },
            "type": "choropleth"
           }
          ],
          "contour": [
           {
            "colorbar": {
             "outlinewidth": 0,
             "ticks": ""
            },
            "colorscale": [
             [
              0,
              "#0d0887"
             ],
             [
              0.1111111111111111,
              "#46039f"
             ],
             [
              0.2222222222222222,
              "#7201a8"
             ],
             [
              0.3333333333333333,
              "#9c179e"
             ],
             [
              0.4444444444444444,
              "#bd3786"
             ],
             [
              0.5555555555555556,
              "#d8576b"
             ],
             [
              0.6666666666666666,
              "#ed7953"
             ],
             [
              0.7777777777777778,
              "#fb9f3a"
             ],
             [
              0.8888888888888888,
              "#fdca26"
             ],
             [
              1,
              "#f0f921"
             ]
            ],
            "type": "contour"
           }
          ],
          "contourcarpet": [
           {
            "colorbar": {
             "outlinewidth": 0,
             "ticks": ""
            },
            "type": "contourcarpet"
           }
          ],
          "heatmap": [
           {
            "colorbar": {
             "outlinewidth": 0,
             "ticks": ""
            },
            "colorscale": [
             [
              0,
              "#0d0887"
             ],
             [
              0.1111111111111111,
              "#46039f"
             ],
             [
              0.2222222222222222,
              "#7201a8"
             ],
             [
              0.3333333333333333,
              "#9c179e"
             ],
             [
              0.4444444444444444,
              "#bd3786"
             ],
             [
              0.5555555555555556,
              "#d8576b"
             ],
             [
              0.6666666666666666,
              "#ed7953"
             ],
             [
              0.7777777777777778,
              "#fb9f3a"
             ],
             [
              0.8888888888888888,
              "#fdca26"
             ],
             [
              1,
              "#f0f921"
             ]
            ],
            "type": "heatmap"
           }
          ],
          "heatmapgl": [
           {
            "colorbar": {
             "outlinewidth": 0,
             "ticks": ""
            },
            "colorscale": [
             [
              0,
              "#0d0887"
             ],
             [
              0.1111111111111111,
              "#46039f"
             ],
             [
              0.2222222222222222,
              "#7201a8"
             ],
             [
              0.3333333333333333,
              "#9c179e"
             ],
             [
              0.4444444444444444,
              "#bd3786"
             ],
             [
              0.5555555555555556,
              "#d8576b"
             ],
             [
              0.6666666666666666,
              "#ed7953"
             ],
             [
              0.7777777777777778,
              "#fb9f3a"
             ],
             [
              0.8888888888888888,
              "#fdca26"
             ],
             [
              1,
              "#f0f921"
             ]
            ],
            "type": "heatmapgl"
           }
          ],
          "histogram": [
           {
            "marker": {
             "colorbar": {
              "outlinewidth": 0,
              "ticks": ""
             }
            },
            "type": "histogram"
           }
          ],
          "histogram2d": [
           {
            "colorbar": {
             "outlinewidth": 0,
             "ticks": ""
            },
            "colorscale": [
             [
              0,
              "#0d0887"
             ],
             [
              0.1111111111111111,
              "#46039f"
             ],
             [
              0.2222222222222222,
              "#7201a8"
             ],
             [
              0.3333333333333333,
              "#9c179e"
             ],
             [
              0.4444444444444444,
              "#bd3786"
             ],
             [
              0.5555555555555556,
              "#d8576b"
             ],
             [
              0.6666666666666666,
              "#ed7953"
             ],
             [
              0.7777777777777778,
              "#fb9f3a"
             ],
             [
              0.8888888888888888,
              "#fdca26"
             ],
             [
              1,
              "#f0f921"
             ]
            ],
            "type": "histogram2d"
           }
          ],
          "histogram2dcontour": [
           {
            "colorbar": {
             "outlinewidth": 0,
             "ticks": ""
            },
            "colorscale": [
             [
              0,
              "#0d0887"
             ],
             [
              0.1111111111111111,
              "#46039f"
             ],
             [
              0.2222222222222222,
              "#7201a8"
             ],
             [
              0.3333333333333333,
              "#9c179e"
             ],
             [
              0.4444444444444444,
              "#bd3786"
             ],
             [
              0.5555555555555556,
              "#d8576b"
             ],
             [
              0.6666666666666666,
              "#ed7953"
             ],
             [
              0.7777777777777778,
              "#fb9f3a"
             ],
             [
              0.8888888888888888,
              "#fdca26"
             ],
             [
              1,
              "#f0f921"
             ]
            ],
            "type": "histogram2dcontour"
           }
          ],
          "mesh3d": [
           {
            "colorbar": {
             "outlinewidth": 0,
             "ticks": ""
            },
            "type": "mesh3d"
           }
          ],
          "parcoords": [
           {
            "line": {
             "colorbar": {
              "outlinewidth": 0,
              "ticks": ""
             }
            },
            "type": "parcoords"
           }
          ],
          "pie": [
           {
            "automargin": true,
            "type": "pie"
           }
          ],
          "scatter": [
           {
            "marker": {
             "colorbar": {
              "outlinewidth": 0,
              "ticks": ""
             }
            },
            "type": "scatter"
           }
          ],
          "scatter3d": [
           {
            "line": {
             "colorbar": {
              "outlinewidth": 0,
              "ticks": ""
             }
            },
            "marker": {
             "colorbar": {
              "outlinewidth": 0,
              "ticks": ""
             }
            },
            "type": "scatter3d"
           }
          ],
          "scattercarpet": [
           {
            "marker": {
             "colorbar": {
              "outlinewidth": 0,
              "ticks": ""
             }
            },
            "type": "scattercarpet"
           }
          ],
          "scattergeo": [
           {
            "marker": {
             "colorbar": {
              "outlinewidth": 0,
              "ticks": ""
             }
            },
            "type": "scattergeo"
           }
          ],
          "scattergl": [
           {
            "marker": {
             "colorbar": {
              "outlinewidth": 0,
              "ticks": ""
             }
            },
            "type": "scattergl"
           }
          ],
          "scattermapbox": [
           {
            "marker": {
             "colorbar": {
              "outlinewidth": 0,
              "ticks": ""
             }
            },
            "type": "scattermapbox"
           }
          ],
          "scatterpolar": [
           {
            "marker": {
             "colorbar": {
              "outlinewidth": 0,
              "ticks": ""
             }
            },
            "type": "scatterpolar"
           }
          ],
          "scatterpolargl": [
           {
            "marker": {
             "colorbar": {
              "outlinewidth": 0,
              "ticks": ""
             }
            },
            "type": "scatterpolargl"
           }
          ],
          "scatterternary": [
           {
            "marker": {
             "colorbar": {
              "outlinewidth": 0,
              "ticks": ""
             }
            },
            "type": "scatterternary"
           }
          ],
          "surface": [
           {
            "colorbar": {
             "outlinewidth": 0,
             "ticks": ""
            },
            "colorscale": [
             [
              0,
              "#0d0887"
             ],
             [
              0.1111111111111111,
              "#46039f"
             ],
             [
              0.2222222222222222,
              "#7201a8"
             ],
             [
              0.3333333333333333,
              "#9c179e"
             ],
             [
              0.4444444444444444,
              "#bd3786"
             ],
             [
              0.5555555555555556,
              "#d8576b"
             ],
             [
              0.6666666666666666,
              "#ed7953"
             ],
             [
              0.7777777777777778,
              "#fb9f3a"
             ],
             [
              0.8888888888888888,
              "#fdca26"
             ],
             [
              1,
              "#f0f921"
             ]
            ],
            "type": "surface"
           }
          ],
          "table": [
           {
            "cells": {
             "fill": {
              "color": "#EBF0F8"
             },
             "line": {
              "color": "white"
             }
            },
            "header": {
             "fill": {
              "color": "#C8D4E3"
             },
             "line": {
              "color": "white"
             }
            },
            "type": "table"
           }
          ]
         },
         "layout": {
          "annotationdefaults": {
           "arrowcolor": "#2a3f5f",
           "arrowhead": 0,
           "arrowwidth": 1
          },
          "coloraxis": {
           "colorbar": {
            "outlinewidth": 0,
            "ticks": ""
           }
          },
          "colorscale": {
           "diverging": [
            [
             0,
             "#8e0152"
            ],
            [
             0.1,
             "#c51b7d"
            ],
            [
             0.2,
             "#de77ae"
            ],
            [
             0.3,
             "#f1b6da"
            ],
            [
             0.4,
             "#fde0ef"
            ],
            [
             0.5,
             "#f7f7f7"
            ],
            [
             0.6,
             "#e6f5d0"
            ],
            [
             0.7,
             "#b8e186"
            ],
            [
             0.8,
             "#7fbc41"
            ],
            [
             0.9,
             "#4d9221"
            ],
            [
             1,
             "#276419"
            ]
           ],
           "sequential": [
            [
             0,
             "#0d0887"
            ],
            [
             0.1111111111111111,
             "#46039f"
            ],
            [
             0.2222222222222222,
             "#7201a8"
            ],
            [
             0.3333333333333333,
             "#9c179e"
            ],
            [
             0.4444444444444444,
             "#bd3786"
            ],
            [
             0.5555555555555556,
             "#d8576b"
            ],
            [
             0.6666666666666666,
             "#ed7953"
            ],
            [
             0.7777777777777778,
             "#fb9f3a"
            ],
            [
             0.8888888888888888,
             "#fdca26"
            ],
            [
             1,
             "#f0f921"
            ]
           ],
           "sequentialminus": [
            [
             0,
             "#0d0887"
            ],
            [
             0.1111111111111111,
             "#46039f"
            ],
            [
             0.2222222222222222,
             "#7201a8"
            ],
            [
             0.3333333333333333,
             "#9c179e"
            ],
            [
             0.4444444444444444,
             "#bd3786"
            ],
            [
             0.5555555555555556,
             "#d8576b"
            ],
            [
             0.6666666666666666,
             "#ed7953"
            ],
            [
             0.7777777777777778,
             "#fb9f3a"
            ],
            [
             0.8888888888888888,
             "#fdca26"
            ],
            [
             1,
             "#f0f921"
            ]
           ]
          },
          "colorway": [
           "#636efa",
           "#EF553B",
           "#00cc96",
           "#ab63fa",
           "#FFA15A",
           "#19d3f3",
           "#FF6692",
           "#B6E880",
           "#FF97FF",
           "#FECB52"
          ],
          "font": {
           "color": "#2a3f5f"
          },
          "geo": {
           "bgcolor": "white",
           "lakecolor": "white",
           "landcolor": "#E5ECF6",
           "showlakes": true,
           "showland": true,
           "subunitcolor": "white"
          },
          "hoverlabel": {
           "align": "left"
          },
          "hovermode": "closest",
          "mapbox": {
           "style": "light"
          },
          "paper_bgcolor": "white",
          "plot_bgcolor": "#E5ECF6",
          "polar": {
           "angularaxis": {
            "gridcolor": "white",
            "linecolor": "white",
            "ticks": ""
           },
           "bgcolor": "#E5ECF6",
           "radialaxis": {
            "gridcolor": "white",
            "linecolor": "white",
            "ticks": ""
           }
          },
          "scene": {
           "xaxis": {
            "backgroundcolor": "#E5ECF6",
            "gridcolor": "white",
            "gridwidth": 2,
            "linecolor": "white",
            "showbackground": true,
            "ticks": "",
            "zerolinecolor": "white"
           },
           "yaxis": {
            "backgroundcolor": "#E5ECF6",
            "gridcolor": "white",
            "gridwidth": 2,
            "linecolor": "white",
            "showbackground": true,
            "ticks": "",
            "zerolinecolor": "white"
           },
           "zaxis": {
            "backgroundcolor": "#E5ECF6",
            "gridcolor": "white",
            "gridwidth": 2,
            "linecolor": "white",
            "showbackground": true,
            "ticks": "",
            "zerolinecolor": "white"
           }
          },
          "shapedefaults": {
           "line": {
            "color": "#2a3f5f"
           }
          },
          "ternary": {
           "aaxis": {
            "gridcolor": "white",
            "linecolor": "white",
            "ticks": ""
           },
           "baxis": {
            "gridcolor": "white",
            "linecolor": "white",
            "ticks": ""
           },
           "bgcolor": "#E5ECF6",
           "caxis": {
            "gridcolor": "white",
            "linecolor": "white",
            "ticks": ""
           }
          },
          "title": {
           "x": 0.05
          },
          "xaxis": {
           "automargin": true,
           "gridcolor": "white",
           "linecolor": "white",
           "ticks": "",
           "title": {
            "standoff": 15
           },
           "zerolinecolor": "white",
           "zerolinewidth": 2
          },
          "yaxis": {
           "automargin": true,
           "gridcolor": "white",
           "linecolor": "white",
           "ticks": "",
           "title": {
            "standoff": 15
           },
           "zerolinecolor": "white",
           "zerolinewidth": 2
          }
         }
        },
        "title": {
         "text": "Trend of confirmed Coronavirus Cases on daily basis"
        }
       }
      },
      "text/html": [
       "<div>\n",
       "        \n",
       "        \n",
       "            <div id=\"5620e259-c81f-4abe-a94f-428cf0dccbec\" class=\"plotly-graph-div\" style=\"height:525px; width:100%;\"></div>\n",
       "            <script type=\"text/javascript\">\n",
       "                require([\"plotly\"], function(Plotly) {\n",
       "                    window.PLOTLYENV=window.PLOTLYENV || {};\n",
       "                    \n",
       "                if (document.getElementById(\"5620e259-c81f-4abe-a94f-428cf0dccbec\")) {\n",
       "                    Plotly.newPlot(\n",
       "                        '5620e259-c81f-4abe-a94f-428cf0dccbec',\n",
       "                        [{\"mode\": \"lines+markers\", \"name\": \"Total Cases\", \"type\": \"scatter\", \"x\": [\"2020-01-22T00:00:00\", \"2020-01-23T00:00:00\", \"2020-01-24T00:00:00\", \"2020-01-25T00:00:00\", \"2020-01-26T00:00:00\", \"2020-01-27T00:00:00\", \"2020-01-28T00:00:00\", \"2020-01-29T00:00:00\", \"2020-01-30T00:00:00\", \"2020-01-31T00:00:00\", \"2020-02-01T00:00:00\", \"2020-02-02T00:00:00\", \"2020-02-03T00:00:00\", \"2020-02-04T00:00:00\", \"2020-02-05T00:00:00\", \"2020-02-06T00:00:00\", \"2020-02-07T00:00:00\", \"2020-02-08T00:00:00\", \"2020-02-09T00:00:00\", \"2020-02-10T00:00:00\", \"2020-02-11T00:00:00\", \"2020-02-12T00:00:00\", \"2020-02-13T00:00:00\", \"2020-02-14T00:00:00\", \"2020-02-15T00:00:00\", \"2020-02-16T00:00:00\", \"2020-02-17T00:00:00\", \"2020-02-18T00:00:00\", \"2020-02-19T00:00:00\", \"2020-02-20T00:00:00\", \"2020-02-21T00:00:00\", \"2020-02-22T00:00:00\", \"2020-02-23T00:00:00\", \"2020-02-24T00:00:00\", \"2020-02-25T00:00:00\", \"2020-02-26T00:00:00\", \"2020-02-27T00:00:00\", \"2020-02-28T00:00:00\", \"2020-02-29T00:00:00\", \"2020-03-01T00:00:00\", \"2020-03-02T00:00:00\", \"2020-03-03T00:00:00\", \"2020-03-04T00:00:00\", \"2020-03-05T00:00:00\", \"2020-03-06T00:00:00\", \"2020-03-07T00:00:00\", \"2020-03-08T00:00:00\", \"2020-03-09T00:00:00\", \"2020-03-10T00:00:00\", \"2020-03-11T00:00:00\", \"2020-03-12T00:00:00\", \"2020-03-13T00:00:00\", \"2020-03-14T00:00:00\", \"2020-03-15T00:00:00\", \"2020-03-16T00:00:00\", \"2020-03-17T00:00:00\", \"2020-03-18T00:00:00\", \"2020-03-19T00:00:00\", \"2020-03-20T00:00:00\", \"2020-03-21T00:00:00\", \"2020-03-22T00:00:00\", \"2020-03-23T00:00:00\", \"2020-03-24T00:00:00\", \"2020-03-25T00:00:00\", \"2020-03-26T00:00:00\", \"2020-03-27T00:00:00\", \"2020-03-28T00:00:00\", \"2020-03-29T00:00:00\", \"2020-03-30T00:00:00\", \"2020-03-31T00:00:00\", \"2020-04-01T00:00:00\", \"2020-04-02T00:00:00\", \"2020-04-03T00:00:00\"], \"y\": [555, 654, 941, 1434, 2118, 2927, 5578, 6166, 8234, 9927, 12038, 16787, 19881, 23892, 27635, 30794, 34391, 37120, 40150, 42762, 44802, 46729, 60368, 66885, 69030, 71224, 73258, 75136, 75639, 76197, 76819, 78572, 78958, 79561, 80406, 81388, 82746, 84112, 86011, 88369, 90306, 92840, 95120, 97886, 101801, 105847, 109821, 113590, 118620, 125875, 128352, 145205, 156101, 167454, 181574, 197102, 214821, 242500, 272035, 304396, 336953, 378235, 418045, 467653, 529591, 593291, 660706, 720117, 782365, 857487, 932605, 1013155, 1095915]}],\n",
       "                        {\"template\": {\"data\": {\"bar\": [{\"error_x\": {\"color\": \"#2a3f5f\"}, \"error_y\": {\"color\": \"#2a3f5f\"}, \"marker\": {\"line\": {\"color\": \"#E5ECF6\", \"width\": 0.5}}, \"type\": \"bar\"}], \"barpolar\": [{\"marker\": {\"line\": {\"color\": \"#E5ECF6\", \"width\": 0.5}}, \"type\": \"barpolar\"}], \"carpet\": [{\"aaxis\": {\"endlinecolor\": \"#2a3f5f\", \"gridcolor\": \"white\", \"linecolor\": \"white\", \"minorgridcolor\": \"white\", \"startlinecolor\": \"#2a3f5f\"}, \"baxis\": {\"endlinecolor\": \"#2a3f5f\", \"gridcolor\": \"white\", \"linecolor\": \"white\", \"minorgridcolor\": \"white\", \"startlinecolor\": \"#2a3f5f\"}, \"type\": \"carpet\"}], \"choropleth\": [{\"colorbar\": {\"outlinewidth\": 0, \"ticks\": \"\"}, \"type\": \"choropleth\"}], \"contour\": [{\"colorbar\": {\"outlinewidth\": 0, \"ticks\": \"\"}, \"colorscale\": [[0.0, \"#0d0887\"], [0.1111111111111111, \"#46039f\"], [0.2222222222222222, \"#7201a8\"], [0.3333333333333333, \"#9c179e\"], [0.4444444444444444, \"#bd3786\"], [0.5555555555555556, \"#d8576b\"], [0.6666666666666666, \"#ed7953\"], [0.7777777777777778, \"#fb9f3a\"], [0.8888888888888888, \"#fdca26\"], [1.0, \"#f0f921\"]], \"type\": \"contour\"}], \"contourcarpet\": [{\"colorbar\": {\"outlinewidth\": 0, \"ticks\": \"\"}, \"type\": \"contourcarpet\"}], \"heatmap\": [{\"colorbar\": {\"outlinewidth\": 0, \"ticks\": \"\"}, \"colorscale\": [[0.0, \"#0d0887\"], [0.1111111111111111, \"#46039f\"], [0.2222222222222222, \"#7201a8\"], [0.3333333333333333, \"#9c179e\"], [0.4444444444444444, \"#bd3786\"], [0.5555555555555556, \"#d8576b\"], [0.6666666666666666, \"#ed7953\"], [0.7777777777777778, \"#fb9f3a\"], [0.8888888888888888, \"#fdca26\"], [1.0, \"#f0f921\"]], \"type\": \"heatmap\"}], \"heatmapgl\": [{\"colorbar\": {\"outlinewidth\": 0, \"ticks\": \"\"}, \"colorscale\": [[0.0, \"#0d0887\"], [0.1111111111111111, \"#46039f\"], [0.2222222222222222, \"#7201a8\"], [0.3333333333333333, \"#9c179e\"], [0.4444444444444444, \"#bd3786\"], [0.5555555555555556, \"#d8576b\"], [0.6666666666666666, \"#ed7953\"], [0.7777777777777778, \"#fb9f3a\"], [0.8888888888888888, \"#fdca26\"], [1.0, \"#f0f921\"]], \"type\": \"heatmapgl\"}], \"histogram\": [{\"marker\": {\"colorbar\": {\"outlinewidth\": 0, \"ticks\": \"\"}}, \"type\": \"histogram\"}], \"histogram2d\": [{\"colorbar\": {\"outlinewidth\": 0, \"ticks\": \"\"}, \"colorscale\": [[0.0, \"#0d0887\"], [0.1111111111111111, \"#46039f\"], [0.2222222222222222, \"#7201a8\"], [0.3333333333333333, \"#9c179e\"], [0.4444444444444444, \"#bd3786\"], [0.5555555555555556, \"#d8576b\"], [0.6666666666666666, \"#ed7953\"], [0.7777777777777778, \"#fb9f3a\"], [0.8888888888888888, \"#fdca26\"], [1.0, \"#f0f921\"]], \"type\": \"histogram2d\"}], \"histogram2dcontour\": [{\"colorbar\": {\"outlinewidth\": 0, \"ticks\": \"\"}, \"colorscale\": [[0.0, \"#0d0887\"], [0.1111111111111111, \"#46039f\"], [0.2222222222222222, \"#7201a8\"], [0.3333333333333333, \"#9c179e\"], [0.4444444444444444, \"#bd3786\"], [0.5555555555555556, \"#d8576b\"], [0.6666666666666666, \"#ed7953\"], [0.7777777777777778, \"#fb9f3a\"], [0.8888888888888888, \"#fdca26\"], [1.0, \"#f0f921\"]], \"type\": \"histogram2dcontour\"}], \"mesh3d\": [{\"colorbar\": {\"outlinewidth\": 0, \"ticks\": \"\"}, \"type\": \"mesh3d\"}], \"parcoords\": [{\"line\": {\"colorbar\": {\"outlinewidth\": 0, \"ticks\": \"\"}}, \"type\": \"parcoords\"}], \"pie\": [{\"automargin\": true, \"type\": \"pie\"}], \"scatter\": [{\"marker\": {\"colorbar\": {\"outlinewidth\": 0, \"ticks\": \"\"}}, \"type\": \"scatter\"}], \"scatter3d\": [{\"line\": {\"colorbar\": {\"outlinewidth\": 0, \"ticks\": \"\"}}, \"marker\": {\"colorbar\": {\"outlinewidth\": 0, \"ticks\": \"\"}}, \"type\": \"scatter3d\"}], \"scattercarpet\": [{\"marker\": {\"colorbar\": {\"outlinewidth\": 0, \"ticks\": \"\"}}, \"type\": \"scattercarpet\"}], \"scattergeo\": [{\"marker\": {\"colorbar\": {\"outlinewidth\": 0, \"ticks\": \"\"}}, \"type\": \"scattergeo\"}], \"scattergl\": [{\"marker\": {\"colorbar\": {\"outlinewidth\": 0, \"ticks\": \"\"}}, \"type\": \"scattergl\"}], \"scattermapbox\": [{\"marker\": {\"colorbar\": {\"outlinewidth\": 0, \"ticks\": \"\"}}, \"type\": \"scattermapbox\"}], \"scatterpolar\": [{\"marker\": {\"colorbar\": {\"outlinewidth\": 0, \"ticks\": \"\"}}, \"type\": \"scatterpolar\"}], \"scatterpolargl\": [{\"marker\": {\"colorbar\": {\"outlinewidth\": 0, \"ticks\": \"\"}}, \"type\": \"scatterpolargl\"}], \"scatterternary\": [{\"marker\": {\"colorbar\": {\"outlinewidth\": 0, \"ticks\": \"\"}}, \"type\": \"scatterternary\"}], \"surface\": [{\"colorbar\": {\"outlinewidth\": 0, \"ticks\": \"\"}, \"colorscale\": [[0.0, \"#0d0887\"], [0.1111111111111111, \"#46039f\"], [0.2222222222222222, \"#7201a8\"], [0.3333333333333333, \"#9c179e\"], [0.4444444444444444, \"#bd3786\"], [0.5555555555555556, \"#d8576b\"], [0.6666666666666666, \"#ed7953\"], [0.7777777777777778, \"#fb9f3a\"], [0.8888888888888888, \"#fdca26\"], [1.0, \"#f0f921\"]], \"type\": \"surface\"}], \"table\": [{\"cells\": {\"fill\": {\"color\": \"#EBF0F8\"}, \"line\": {\"color\": \"white\"}}, \"header\": {\"fill\": {\"color\": \"#C8D4E3\"}, \"line\": {\"color\": \"white\"}}, \"type\": \"table\"}]}, \"layout\": {\"annotationdefaults\": {\"arrowcolor\": \"#2a3f5f\", \"arrowhead\": 0, \"arrowwidth\": 1}, \"coloraxis\": {\"colorbar\": {\"outlinewidth\": 0, \"ticks\": \"\"}}, \"colorscale\": {\"diverging\": [[0, \"#8e0152\"], [0.1, \"#c51b7d\"], [0.2, \"#de77ae\"], [0.3, \"#f1b6da\"], [0.4, \"#fde0ef\"], [0.5, \"#f7f7f7\"], [0.6, \"#e6f5d0\"], [0.7, \"#b8e186\"], [0.8, \"#7fbc41\"], [0.9, \"#4d9221\"], [1, \"#276419\"]], \"sequential\": [[0.0, \"#0d0887\"], [0.1111111111111111, \"#46039f\"], [0.2222222222222222, \"#7201a8\"], [0.3333333333333333, \"#9c179e\"], [0.4444444444444444, \"#bd3786\"], [0.5555555555555556, \"#d8576b\"], [0.6666666666666666, \"#ed7953\"], [0.7777777777777778, \"#fb9f3a\"], [0.8888888888888888, \"#fdca26\"], [1.0, \"#f0f921\"]], \"sequentialminus\": [[0.0, \"#0d0887\"], [0.1111111111111111, \"#46039f\"], [0.2222222222222222, \"#7201a8\"], [0.3333333333333333, \"#9c179e\"], [0.4444444444444444, \"#bd3786\"], [0.5555555555555556, \"#d8576b\"], [0.6666666666666666, \"#ed7953\"], [0.7777777777777778, \"#fb9f3a\"], [0.8888888888888888, \"#fdca26\"], [1.0, \"#f0f921\"]]}, \"colorway\": [\"#636efa\", \"#EF553B\", \"#00cc96\", \"#ab63fa\", \"#FFA15A\", \"#19d3f3\", \"#FF6692\", \"#B6E880\", \"#FF97FF\", \"#FECB52\"], \"font\": {\"color\": \"#2a3f5f\"}, \"geo\": {\"bgcolor\": \"white\", \"lakecolor\": \"white\", \"landcolor\": \"#E5ECF6\", \"showlakes\": true, \"showland\": true, \"subunitcolor\": \"white\"}, \"hoverlabel\": {\"align\": \"left\"}, \"hovermode\": \"closest\", \"mapbox\": {\"style\": \"light\"}, \"paper_bgcolor\": \"white\", \"plot_bgcolor\": \"#E5ECF6\", \"polar\": {\"angularaxis\": {\"gridcolor\": \"white\", \"linecolor\": \"white\", \"ticks\": \"\"}, \"bgcolor\": \"#E5ECF6\", \"radialaxis\": {\"gridcolor\": \"white\", \"linecolor\": \"white\", \"ticks\": \"\"}}, \"scene\": {\"xaxis\": {\"backgroundcolor\": \"#E5ECF6\", \"gridcolor\": \"white\", \"gridwidth\": 2, \"linecolor\": \"white\", \"showbackground\": true, \"ticks\": \"\", \"zerolinecolor\": \"white\"}, \"yaxis\": {\"backgroundcolor\": \"#E5ECF6\", \"gridcolor\": \"white\", \"gridwidth\": 2, \"linecolor\": \"white\", \"showbackground\": true, \"ticks\": \"\", \"zerolinecolor\": \"white\"}, \"zaxis\": {\"backgroundcolor\": \"#E5ECF6\", \"gridcolor\": \"white\", \"gridwidth\": 2, \"linecolor\": \"white\", \"showbackground\": true, \"ticks\": \"\", \"zerolinecolor\": \"white\"}}, \"shapedefaults\": {\"line\": {\"color\": \"#2a3f5f\"}}, \"ternary\": {\"aaxis\": {\"gridcolor\": \"white\", \"linecolor\": \"white\", \"ticks\": \"\"}, \"baxis\": {\"gridcolor\": \"white\", \"linecolor\": \"white\", \"ticks\": \"\"}, \"bgcolor\": \"#E5ECF6\", \"caxis\": {\"gridcolor\": \"white\", \"linecolor\": \"white\", \"ticks\": \"\"}}, \"title\": {\"x\": 0.05}, \"xaxis\": {\"automargin\": true, \"gridcolor\": \"white\", \"linecolor\": \"white\", \"ticks\": \"\", \"title\": {\"standoff\": 15}, \"zerolinecolor\": \"white\", \"zerolinewidth\": 2}, \"yaxis\": {\"automargin\": true, \"gridcolor\": \"white\", \"linecolor\": \"white\", \"ticks\": \"\", \"title\": {\"standoff\": 15}, \"zerolinecolor\": \"white\", \"zerolinewidth\": 2}}}, \"title\": {\"text\": \"Trend of confirmed Coronavirus Cases on daily basis\"}},\n",
       "                        {\"responsive\": true}\n",
       "                    ).then(function(){\n",
       "                            \n",
       "var gd = document.getElementById('5620e259-c81f-4abe-a94f-428cf0dccbec');\n",
       "var x = new MutationObserver(function (mutations, observer) {{\n",
       "        var display = window.getComputedStyle(gd).display;\n",
       "        if (!display || display === 'none') {{\n",
       "            console.log([gd, 'removed!']);\n",
       "            Plotly.purge(gd);\n",
       "            observer.disconnect();\n",
       "        }}\n",
       "}});\n",
       "\n",
       "// Listen for the removal of the full notebook cells\n",
       "var notebookContainer = gd.closest('#notebook-container');\n",
       "if (notebookContainer) {{\n",
       "    x.observe(notebookContainer, {childList: true});\n",
       "}}\n",
       "\n",
       "// Listen for the clearing of the current output cell\n",
       "var outputEl = gd.closest('.output');\n",
       "if (outputEl) {{\n",
       "    x.observe(outputEl, {childList: true});\n",
       "}}\n",
       "\n",
       "                        })\n",
       "                };\n",
       "                });\n",
       "            </script>\n",
       "        </div>"
      ]
     },
     "metadata": {},
     "output_type": "display_data"
    }
   ],
   "source": [
    "daily_cases = df.groupby('Date')['Confirmed'].sum().to_frame()\n",
    "fig = go.Figure()\n",
    "fig.add_trace(go.Scatter(x=daily_cases.index, y=daily_cases['Confirmed'],\n",
    "                    mode='lines+markers',name='Total Cases'))\n",
    "fig.update_layout(title_text='Trend of confirmed Coronavirus Cases on daily basis')\n",
    "\n",
    "fig.show()"
   ]
  },
  {
   "cell_type": "markdown",
   "metadata": {},
   "source": [
    "### Graphical representation of confirmed case trend in following countries (China, US, Italy, Spain, Germany, Iran, France, South Korea, United Kingdom & Switzerland)"
   ]
  },
  {
   "cell_type": "code",
   "execution_count": 15,
   "metadata": {},
   "outputs": [
    {
     "data": {
      "text/html": [
       "<style  type=\"text/css\" >\n",
       "    #T_45097c2c_50df_11eb_a2cd_9457a5da7b96row0_col0 {\n",
       "            background-color:  #67000d;\n",
       "            color:  #f1f1f1;\n",
       "        }    #T_45097c2c_50df_11eb_a2cd_9457a5da7b96row1_col0 {\n",
       "            background-color:  #fc8666;\n",
       "            color:  #000000;\n",
       "        }    #T_45097c2c_50df_11eb_a2cd_9457a5da7b96row2_col0 {\n",
       "            background-color:  #fc9b7c;\n",
       "            color:  #000000;\n",
       "        }    #T_45097c2c_50df_11eb_a2cd_9457a5da7b96row3_col0 {\n",
       "            background-color:  #fcbda4;\n",
       "            color:  #000000;\n",
       "        }    #T_45097c2c_50df_11eb_a2cd_9457a5da7b96row4_col0 {\n",
       "            background-color:  #fdcdb9;\n",
       "            color:  #000000;\n",
       "        }    #T_45097c2c_50df_11eb_a2cd_9457a5da7b96row5_col0 {\n",
       "            background-color:  #fed8c7;\n",
       "            color:  #000000;\n",
       "        }    #T_45097c2c_50df_11eb_a2cd_9457a5da7b96row6_col0 {\n",
       "            background-color:  #fedecf;\n",
       "            color:  #000000;\n",
       "        }    #T_45097c2c_50df_11eb_a2cd_9457a5da7b96row7_col0 {\n",
       "            background-color:  #feeae1;\n",
       "            color:  #000000;\n",
       "        }    #T_45097c2c_50df_11eb_a2cd_9457a5da7b96row8_col0 {\n",
       "            background-color:  #ffebe2;\n",
       "            color:  #000000;\n",
       "        }    #T_45097c2c_50df_11eb_a2cd_9457a5da7b96row9_col0 {\n",
       "            background-color:  #ffede5;\n",
       "            color:  #000000;\n",
       "        }    #T_45097c2c_50df_11eb_a2cd_9457a5da7b96row10_col0 {\n",
       "            background-color:  #fff0e8;\n",
       "            color:  #000000;\n",
       "        }    #T_45097c2c_50df_11eb_a2cd_9457a5da7b96row11_col0 {\n",
       "            background-color:  #fff0e9;\n",
       "            color:  #000000;\n",
       "        }    #T_45097c2c_50df_11eb_a2cd_9457a5da7b96row12_col0 {\n",
       "            background-color:  #fff1ea;\n",
       "            color:  #000000;\n",
       "        }    #T_45097c2c_50df_11eb_a2cd_9457a5da7b96row13_col0 {\n",
       "            background-color:  #fff1ea;\n",
       "            color:  #000000;\n",
       "        }    #T_45097c2c_50df_11eb_a2cd_9457a5da7b96row14_col0 {\n",
       "            background-color:  #fff2ec;\n",
       "            color:  #000000;\n",
       "        }    #T_45097c2c_50df_11eb_a2cd_9457a5da7b96row15_col0 {\n",
       "            background-color:  #fff2ec;\n",
       "            color:  #000000;\n",
       "        }    #T_45097c2c_50df_11eb_a2cd_9457a5da7b96row16_col0 {\n",
       "            background-color:  #fff3ed;\n",
       "            color:  #000000;\n",
       "        }    #T_45097c2c_50df_11eb_a2cd_9457a5da7b96row17_col0 {\n",
       "            background-color:  #fff3ed;\n",
       "            color:  #000000;\n",
       "        }    #T_45097c2c_50df_11eb_a2cd_9457a5da7b96row18_col0 {\n",
       "            background-color:  #fff3ed;\n",
       "            color:  #000000;\n",
       "        }    #T_45097c2c_50df_11eb_a2cd_9457a5da7b96row19_col0 {\n",
       "            background-color:  #fff3ed;\n",
       "            color:  #000000;\n",
       "        }    #T_45097c2c_50df_11eb_a2cd_9457a5da7b96row20_col0 {\n",
       "            background-color:  #fff4ee;\n",
       "            color:  #000000;\n",
       "        }    #T_45097c2c_50df_11eb_a2cd_9457a5da7b96row21_col0 {\n",
       "            background-color:  #fff4ee;\n",
       "            color:  #000000;\n",
       "        }    #T_45097c2c_50df_11eb_a2cd_9457a5da7b96row22_col0 {\n",
       "            background-color:  #fff4ee;\n",
       "            color:  #000000;\n",
       "        }    #T_45097c2c_50df_11eb_a2cd_9457a5da7b96row23_col0 {\n",
       "            background-color:  #fff4ee;\n",
       "            color:  #000000;\n",
       "        }    #T_45097c2c_50df_11eb_a2cd_9457a5da7b96row24_col0 {\n",
       "            background-color:  #fff4ee;\n",
       "            color:  #000000;\n",
       "        }    #T_45097c2c_50df_11eb_a2cd_9457a5da7b96row25_col0 {\n",
       "            background-color:  #fff4ee;\n",
       "            color:  #000000;\n",
       "        }    #T_45097c2c_50df_11eb_a2cd_9457a5da7b96row26_col0 {\n",
       "            background-color:  #fff4ef;\n",
       "            color:  #000000;\n",
       "        }    #T_45097c2c_50df_11eb_a2cd_9457a5da7b96row27_col0 {\n",
       "            background-color:  #fff4ef;\n",
       "            color:  #000000;\n",
       "        }    #T_45097c2c_50df_11eb_a2cd_9457a5da7b96row28_col0 {\n",
       "            background-color:  #fff4ef;\n",
       "            color:  #000000;\n",
       "        }    #T_45097c2c_50df_11eb_a2cd_9457a5da7b96row29_col0 {\n",
       "            background-color:  #fff4ef;\n",
       "            color:  #000000;\n",
       "        }    #T_45097c2c_50df_11eb_a2cd_9457a5da7b96row30_col0 {\n",
       "            background-color:  #fff4ef;\n",
       "            color:  #000000;\n",
       "        }    #T_45097c2c_50df_11eb_a2cd_9457a5da7b96row31_col0 {\n",
       "            background-color:  #fff4ef;\n",
       "            color:  #000000;\n",
       "        }    #T_45097c2c_50df_11eb_a2cd_9457a5da7b96row32_col0 {\n",
       "            background-color:  #fff4ef;\n",
       "            color:  #000000;\n",
       "        }    #T_45097c2c_50df_11eb_a2cd_9457a5da7b96row33_col0 {\n",
       "            background-color:  #fff4ef;\n",
       "            color:  #000000;\n",
       "        }    #T_45097c2c_50df_11eb_a2cd_9457a5da7b96row34_col0 {\n",
       "            background-color:  #fff4ef;\n",
       "            color:  #000000;\n",
       "        }    #T_45097c2c_50df_11eb_a2cd_9457a5da7b96row35_col0 {\n",
       "            background-color:  #fff4ef;\n",
       "            color:  #000000;\n",
       "        }    #T_45097c2c_50df_11eb_a2cd_9457a5da7b96row36_col0 {\n",
       "            background-color:  #fff4ef;\n",
       "            color:  #000000;\n",
       "        }    #T_45097c2c_50df_11eb_a2cd_9457a5da7b96row37_col0 {\n",
       "            background-color:  #fff4ef;\n",
       "            color:  #000000;\n",
       "        }    #T_45097c2c_50df_11eb_a2cd_9457a5da7b96row38_col0 {\n",
       "            background-color:  #fff4ef;\n",
       "            color:  #000000;\n",
       "        }    #T_45097c2c_50df_11eb_a2cd_9457a5da7b96row39_col0 {\n",
       "            background-color:  #fff4ef;\n",
       "            color:  #000000;\n",
       "        }    #T_45097c2c_50df_11eb_a2cd_9457a5da7b96row40_col0 {\n",
       "            background-color:  #fff4ef;\n",
       "            color:  #000000;\n",
       "        }    #T_45097c2c_50df_11eb_a2cd_9457a5da7b96row41_col0 {\n",
       "            background-color:  #fff5f0;\n",
       "            color:  #000000;\n",
       "        }    #T_45097c2c_50df_11eb_a2cd_9457a5da7b96row42_col0 {\n",
       "            background-color:  #fff5f0;\n",
       "            color:  #000000;\n",
       "        }    #T_45097c2c_50df_11eb_a2cd_9457a5da7b96row43_col0 {\n",
       "            background-color:  #fff5f0;\n",
       "            color:  #000000;\n",
       "        }    #T_45097c2c_50df_11eb_a2cd_9457a5da7b96row44_col0 {\n",
       "            background-color:  #fff5f0;\n",
       "            color:  #000000;\n",
       "        }    #T_45097c2c_50df_11eb_a2cd_9457a5da7b96row45_col0 {\n",
       "            background-color:  #fff5f0;\n",
       "            color:  #000000;\n",
       "        }    #T_45097c2c_50df_11eb_a2cd_9457a5da7b96row46_col0 {\n",
       "            background-color:  #fff5f0;\n",
       "            color:  #000000;\n",
       "        }    #T_45097c2c_50df_11eb_a2cd_9457a5da7b96row47_col0 {\n",
       "            background-color:  #fff5f0;\n",
       "            color:  #000000;\n",
       "        }    #T_45097c2c_50df_11eb_a2cd_9457a5da7b96row48_col0 {\n",
       "            background-color:  #fff5f0;\n",
       "            color:  #000000;\n",
       "        }    #T_45097c2c_50df_11eb_a2cd_9457a5da7b96row49_col0 {\n",
       "            background-color:  #fff5f0;\n",
       "            color:  #000000;\n",
       "        }    #T_45097c2c_50df_11eb_a2cd_9457a5da7b96row50_col0 {\n",
       "            background-color:  #fff5f0;\n",
       "            color:  #000000;\n",
       "        }    #T_45097c2c_50df_11eb_a2cd_9457a5da7b96row51_col0 {\n",
       "            background-color:  #fff5f0;\n",
       "            color:  #000000;\n",
       "        }    #T_45097c2c_50df_11eb_a2cd_9457a5da7b96row52_col0 {\n",
       "            background-color:  #fff5f0;\n",
       "            color:  #000000;\n",
       "        }    #T_45097c2c_50df_11eb_a2cd_9457a5da7b96row53_col0 {\n",
       "            background-color:  #fff5f0;\n",
       "            color:  #000000;\n",
       "        }    #T_45097c2c_50df_11eb_a2cd_9457a5da7b96row54_col0 {\n",
       "            background-color:  #fff5f0;\n",
       "            color:  #000000;\n",
       "        }    #T_45097c2c_50df_11eb_a2cd_9457a5da7b96row55_col0 {\n",
       "            background-color:  #fff5f0;\n",
       "            color:  #000000;\n",
       "        }    #T_45097c2c_50df_11eb_a2cd_9457a5da7b96row56_col0 {\n",
       "            background-color:  #fff5f0;\n",
       "            color:  #000000;\n",
       "        }    #T_45097c2c_50df_11eb_a2cd_9457a5da7b96row57_col0 {\n",
       "            background-color:  #fff5f0;\n",
       "            color:  #000000;\n",
       "        }    #T_45097c2c_50df_11eb_a2cd_9457a5da7b96row58_col0 {\n",
       "            background-color:  #fff5f0;\n",
       "            color:  #000000;\n",
       "        }    #T_45097c2c_50df_11eb_a2cd_9457a5da7b96row59_col0 {\n",
       "            background-color:  #fff5f0;\n",
       "            color:  #000000;\n",
       "        }    #T_45097c2c_50df_11eb_a2cd_9457a5da7b96row60_col0 {\n",
       "            background-color:  #fff5f0;\n",
       "            color:  #000000;\n",
       "        }    #T_45097c2c_50df_11eb_a2cd_9457a5da7b96row61_col0 {\n",
       "            background-color:  #fff5f0;\n",
       "            color:  #000000;\n",
       "        }    #T_45097c2c_50df_11eb_a2cd_9457a5da7b96row62_col0 {\n",
       "            background-color:  #fff5f0;\n",
       "            color:  #000000;\n",
       "        }    #T_45097c2c_50df_11eb_a2cd_9457a5da7b96row63_col0 {\n",
       "            background-color:  #fff5f0;\n",
       "            color:  #000000;\n",
       "        }    #T_45097c2c_50df_11eb_a2cd_9457a5da7b96row64_col0 {\n",
       "            background-color:  #fff5f0;\n",
       "            color:  #000000;\n",
       "        }    #T_45097c2c_50df_11eb_a2cd_9457a5da7b96row65_col0 {\n",
       "            background-color:  #fff5f0;\n",
       "            color:  #000000;\n",
       "        }    #T_45097c2c_50df_11eb_a2cd_9457a5da7b96row66_col0 {\n",
       "            background-color:  #fff5f0;\n",
       "            color:  #000000;\n",
       "        }    #T_45097c2c_50df_11eb_a2cd_9457a5da7b96row67_col0 {\n",
       "            background-color:  #fff5f0;\n",
       "            color:  #000000;\n",
       "        }    #T_45097c2c_50df_11eb_a2cd_9457a5da7b96row68_col0 {\n",
       "            background-color:  #fff5f0;\n",
       "            color:  #000000;\n",
       "        }    #T_45097c2c_50df_11eb_a2cd_9457a5da7b96row69_col0 {\n",
       "            background-color:  #fff5f0;\n",
       "            color:  #000000;\n",
       "        }    #T_45097c2c_50df_11eb_a2cd_9457a5da7b96row70_col0 {\n",
       "            background-color:  #fff5f0;\n",
       "            color:  #000000;\n",
       "        }    #T_45097c2c_50df_11eb_a2cd_9457a5da7b96row71_col0 {\n",
       "            background-color:  #fff5f0;\n",
       "            color:  #000000;\n",
       "        }    #T_45097c2c_50df_11eb_a2cd_9457a5da7b96row72_col0 {\n",
       "            background-color:  #fff5f0;\n",
       "            color:  #000000;\n",
       "        }    #T_45097c2c_50df_11eb_a2cd_9457a5da7b96row73_col0 {\n",
       "            background-color:  #fff5f0;\n",
       "            color:  #000000;\n",
       "        }    #T_45097c2c_50df_11eb_a2cd_9457a5da7b96row74_col0 {\n",
       "            background-color:  #fff5f0;\n",
       "            color:  #000000;\n",
       "        }    #T_45097c2c_50df_11eb_a2cd_9457a5da7b96row75_col0 {\n",
       "            background-color:  #fff5f0;\n",
       "            color:  #000000;\n",
       "        }    #T_45097c2c_50df_11eb_a2cd_9457a5da7b96row76_col0 {\n",
       "            background-color:  #fff5f0;\n",
       "            color:  #000000;\n",
       "        }    #T_45097c2c_50df_11eb_a2cd_9457a5da7b96row77_col0 {\n",
       "            background-color:  #fff5f0;\n",
       "            color:  #000000;\n",
       "        }    #T_45097c2c_50df_11eb_a2cd_9457a5da7b96row78_col0 {\n",
       "            background-color:  #fff5f0;\n",
       "            color:  #000000;\n",
       "        }    #T_45097c2c_50df_11eb_a2cd_9457a5da7b96row79_col0 {\n",
       "            background-color:  #fff5f0;\n",
       "            color:  #000000;\n",
       "        }    #T_45097c2c_50df_11eb_a2cd_9457a5da7b96row80_col0 {\n",
       "            background-color:  #fff5f0;\n",
       "            color:  #000000;\n",
       "        }    #T_45097c2c_50df_11eb_a2cd_9457a5da7b96row81_col0 {\n",
       "            background-color:  #fff5f0;\n",
       "            color:  #000000;\n",
       "        }    #T_45097c2c_50df_11eb_a2cd_9457a5da7b96row82_col0 {\n",
       "            background-color:  #fff5f0;\n",
       "            color:  #000000;\n",
       "        }    #T_45097c2c_50df_11eb_a2cd_9457a5da7b96row83_col0 {\n",
       "            background-color:  #fff5f0;\n",
       "            color:  #000000;\n",
       "        }    #T_45097c2c_50df_11eb_a2cd_9457a5da7b96row84_col0 {\n",
       "            background-color:  #fff5f0;\n",
       "            color:  #000000;\n",
       "        }    #T_45097c2c_50df_11eb_a2cd_9457a5da7b96row85_col0 {\n",
       "            background-color:  #fff5f0;\n",
       "            color:  #000000;\n",
       "        }    #T_45097c2c_50df_11eb_a2cd_9457a5da7b96row86_col0 {\n",
       "            background-color:  #fff5f0;\n",
       "            color:  #000000;\n",
       "        }    #T_45097c2c_50df_11eb_a2cd_9457a5da7b96row87_col0 {\n",
       "            background-color:  #fff5f0;\n",
       "            color:  #000000;\n",
       "        }    #T_45097c2c_50df_11eb_a2cd_9457a5da7b96row88_col0 {\n",
       "            background-color:  #fff5f0;\n",
       "            color:  #000000;\n",
       "        }    #T_45097c2c_50df_11eb_a2cd_9457a5da7b96row89_col0 {\n",
       "            background-color:  #fff5f0;\n",
       "            color:  #000000;\n",
       "        }    #T_45097c2c_50df_11eb_a2cd_9457a5da7b96row90_col0 {\n",
       "            background-color:  #fff5f0;\n",
       "            color:  #000000;\n",
       "        }    #T_45097c2c_50df_11eb_a2cd_9457a5da7b96row91_col0 {\n",
       "            background-color:  #fff5f0;\n",
       "            color:  #000000;\n",
       "        }    #T_45097c2c_50df_11eb_a2cd_9457a5da7b96row92_col0 {\n",
       "            background-color:  #fff5f0;\n",
       "            color:  #000000;\n",
       "        }    #T_45097c2c_50df_11eb_a2cd_9457a5da7b96row93_col0 {\n",
       "            background-color:  #fff5f0;\n",
       "            color:  #000000;\n",
       "        }    #T_45097c2c_50df_11eb_a2cd_9457a5da7b96row94_col0 {\n",
       "            background-color:  #fff5f0;\n",
       "            color:  #000000;\n",
       "        }    #T_45097c2c_50df_11eb_a2cd_9457a5da7b96row95_col0 {\n",
       "            background-color:  #fff5f0;\n",
       "            color:  #000000;\n",
       "        }    #T_45097c2c_50df_11eb_a2cd_9457a5da7b96row96_col0 {\n",
       "            background-color:  #fff5f0;\n",
       "            color:  #000000;\n",
       "        }    #T_45097c2c_50df_11eb_a2cd_9457a5da7b96row97_col0 {\n",
       "            background-color:  #fff5f0;\n",
       "            color:  #000000;\n",
       "        }    #T_45097c2c_50df_11eb_a2cd_9457a5da7b96row98_col0 {\n",
       "            background-color:  #fff5f0;\n",
       "            color:  #000000;\n",
       "        }    #T_45097c2c_50df_11eb_a2cd_9457a5da7b96row99_col0 {\n",
       "            background-color:  #fff5f0;\n",
       "            color:  #000000;\n",
       "        }    #T_45097c2c_50df_11eb_a2cd_9457a5da7b96row100_col0 {\n",
       "            background-color:  #fff5f0;\n",
       "            color:  #000000;\n",
       "        }    #T_45097c2c_50df_11eb_a2cd_9457a5da7b96row101_col0 {\n",
       "            background-color:  #fff5f0;\n",
       "            color:  #000000;\n",
       "        }    #T_45097c2c_50df_11eb_a2cd_9457a5da7b96row102_col0 {\n",
       "            background-color:  #fff5f0;\n",
       "            color:  #000000;\n",
       "        }    #T_45097c2c_50df_11eb_a2cd_9457a5da7b96row103_col0 {\n",
       "            background-color:  #fff5f0;\n",
       "            color:  #000000;\n",
       "        }    #T_45097c2c_50df_11eb_a2cd_9457a5da7b96row104_col0 {\n",
       "            background-color:  #fff5f0;\n",
       "            color:  #000000;\n",
       "        }    #T_45097c2c_50df_11eb_a2cd_9457a5da7b96row105_col0 {\n",
       "            background-color:  #fff5f0;\n",
       "            color:  #000000;\n",
       "        }    #T_45097c2c_50df_11eb_a2cd_9457a5da7b96row106_col0 {\n",
       "            background-color:  #fff5f0;\n",
       "            color:  #000000;\n",
       "        }    #T_45097c2c_50df_11eb_a2cd_9457a5da7b96row107_col0 {\n",
       "            background-color:  #fff5f0;\n",
       "            color:  #000000;\n",
       "        }    #T_45097c2c_50df_11eb_a2cd_9457a5da7b96row108_col0 {\n",
       "            background-color:  #fff5f0;\n",
       "            color:  #000000;\n",
       "        }    #T_45097c2c_50df_11eb_a2cd_9457a5da7b96row109_col0 {\n",
       "            background-color:  #fff5f0;\n",
       "            color:  #000000;\n",
       "        }    #T_45097c2c_50df_11eb_a2cd_9457a5da7b96row110_col0 {\n",
       "            background-color:  #fff5f0;\n",
       "            color:  #000000;\n",
       "        }    #T_45097c2c_50df_11eb_a2cd_9457a5da7b96row111_col0 {\n",
       "            background-color:  #fff5f0;\n",
       "            color:  #000000;\n",
       "        }    #T_45097c2c_50df_11eb_a2cd_9457a5da7b96row112_col0 {\n",
       "            background-color:  #fff5f0;\n",
       "            color:  #000000;\n",
       "        }    #T_45097c2c_50df_11eb_a2cd_9457a5da7b96row113_col0 {\n",
       "            background-color:  #fff5f0;\n",
       "            color:  #000000;\n",
       "        }    #T_45097c2c_50df_11eb_a2cd_9457a5da7b96row114_col0 {\n",
       "            background-color:  #fff5f0;\n",
       "            color:  #000000;\n",
       "        }    #T_45097c2c_50df_11eb_a2cd_9457a5da7b96row115_col0 {\n",
       "            background-color:  #fff5f0;\n",
       "            color:  #000000;\n",
       "        }    #T_45097c2c_50df_11eb_a2cd_9457a5da7b96row116_col0 {\n",
       "            background-color:  #fff5f0;\n",
       "            color:  #000000;\n",
       "        }    #T_45097c2c_50df_11eb_a2cd_9457a5da7b96row117_col0 {\n",
       "            background-color:  #fff5f0;\n",
       "            color:  #000000;\n",
       "        }    #T_45097c2c_50df_11eb_a2cd_9457a5da7b96row118_col0 {\n",
       "            background-color:  #fff5f0;\n",
       "            color:  #000000;\n",
       "        }    #T_45097c2c_50df_11eb_a2cd_9457a5da7b96row119_col0 {\n",
       "            background-color:  #fff5f0;\n",
       "            color:  #000000;\n",
       "        }    #T_45097c2c_50df_11eb_a2cd_9457a5da7b96row120_col0 {\n",
       "            background-color:  #fff5f0;\n",
       "            color:  #000000;\n",
       "        }    #T_45097c2c_50df_11eb_a2cd_9457a5da7b96row121_col0 {\n",
       "            background-color:  #fff5f0;\n",
       "            color:  #000000;\n",
       "        }    #T_45097c2c_50df_11eb_a2cd_9457a5da7b96row122_col0 {\n",
       "            background-color:  #fff5f0;\n",
       "            color:  #000000;\n",
       "        }    #T_45097c2c_50df_11eb_a2cd_9457a5da7b96row123_col0 {\n",
       "            background-color:  #fff5f0;\n",
       "            color:  #000000;\n",
       "        }    #T_45097c2c_50df_11eb_a2cd_9457a5da7b96row124_col0 {\n",
       "            background-color:  #fff5f0;\n",
       "            color:  #000000;\n",
       "        }    #T_45097c2c_50df_11eb_a2cd_9457a5da7b96row125_col0 {\n",
       "            background-color:  #fff5f0;\n",
       "            color:  #000000;\n",
       "        }    #T_45097c2c_50df_11eb_a2cd_9457a5da7b96row126_col0 {\n",
       "            background-color:  #fff5f0;\n",
       "            color:  #000000;\n",
       "        }    #T_45097c2c_50df_11eb_a2cd_9457a5da7b96row127_col0 {\n",
       "            background-color:  #fff5f0;\n",
       "            color:  #000000;\n",
       "        }    #T_45097c2c_50df_11eb_a2cd_9457a5da7b96row128_col0 {\n",
       "            background-color:  #fff5f0;\n",
       "            color:  #000000;\n",
       "        }    #T_45097c2c_50df_11eb_a2cd_9457a5da7b96row129_col0 {\n",
       "            background-color:  #fff5f0;\n",
       "            color:  #000000;\n",
       "        }    #T_45097c2c_50df_11eb_a2cd_9457a5da7b96row130_col0 {\n",
       "            background-color:  #fff5f0;\n",
       "            color:  #000000;\n",
       "        }    #T_45097c2c_50df_11eb_a2cd_9457a5da7b96row131_col0 {\n",
       "            background-color:  #fff5f0;\n",
       "            color:  #000000;\n",
       "        }    #T_45097c2c_50df_11eb_a2cd_9457a5da7b96row132_col0 {\n",
       "            background-color:  #fff5f0;\n",
       "            color:  #000000;\n",
       "        }    #T_45097c2c_50df_11eb_a2cd_9457a5da7b96row133_col0 {\n",
       "            background-color:  #fff5f0;\n",
       "            color:  #000000;\n",
       "        }    #T_45097c2c_50df_11eb_a2cd_9457a5da7b96row134_col0 {\n",
       "            background-color:  #fff5f0;\n",
       "            color:  #000000;\n",
       "        }    #T_45097c2c_50df_11eb_a2cd_9457a5da7b96row135_col0 {\n",
       "            background-color:  #fff5f0;\n",
       "            color:  #000000;\n",
       "        }    #T_45097c2c_50df_11eb_a2cd_9457a5da7b96row136_col0 {\n",
       "            background-color:  #fff5f0;\n",
       "            color:  #000000;\n",
       "        }    #T_45097c2c_50df_11eb_a2cd_9457a5da7b96row137_col0 {\n",
       "            background-color:  #fff5f0;\n",
       "            color:  #000000;\n",
       "        }    #T_45097c2c_50df_11eb_a2cd_9457a5da7b96row138_col0 {\n",
       "            background-color:  #fff5f0;\n",
       "            color:  #000000;\n",
       "        }    #T_45097c2c_50df_11eb_a2cd_9457a5da7b96row139_col0 {\n",
       "            background-color:  #fff5f0;\n",
       "            color:  #000000;\n",
       "        }    #T_45097c2c_50df_11eb_a2cd_9457a5da7b96row140_col0 {\n",
       "            background-color:  #fff5f0;\n",
       "            color:  #000000;\n",
       "        }    #T_45097c2c_50df_11eb_a2cd_9457a5da7b96row141_col0 {\n",
       "            background-color:  #fff5f0;\n",
       "            color:  #000000;\n",
       "        }    #T_45097c2c_50df_11eb_a2cd_9457a5da7b96row142_col0 {\n",
       "            background-color:  #fff5f0;\n",
       "            color:  #000000;\n",
       "        }    #T_45097c2c_50df_11eb_a2cd_9457a5da7b96row143_col0 {\n",
       "            background-color:  #fff5f0;\n",
       "            color:  #000000;\n",
       "        }    #T_45097c2c_50df_11eb_a2cd_9457a5da7b96row144_col0 {\n",
       "            background-color:  #fff5f0;\n",
       "            color:  #000000;\n",
       "        }    #T_45097c2c_50df_11eb_a2cd_9457a5da7b96row145_col0 {\n",
       "            background-color:  #fff5f0;\n",
       "            color:  #000000;\n",
       "        }    #T_45097c2c_50df_11eb_a2cd_9457a5da7b96row146_col0 {\n",
       "            background-color:  #fff5f0;\n",
       "            color:  #000000;\n",
       "        }    #T_45097c2c_50df_11eb_a2cd_9457a5da7b96row147_col0 {\n",
       "            background-color:  #fff5f0;\n",
       "            color:  #000000;\n",
       "        }    #T_45097c2c_50df_11eb_a2cd_9457a5da7b96row148_col0 {\n",
       "            background-color:  #fff5f0;\n",
       "            color:  #000000;\n",
       "        }    #T_45097c2c_50df_11eb_a2cd_9457a5da7b96row149_col0 {\n",
       "            background-color:  #fff5f0;\n",
       "            color:  #000000;\n",
       "        }    #T_45097c2c_50df_11eb_a2cd_9457a5da7b96row150_col0 {\n",
       "            background-color:  #fff5f0;\n",
       "            color:  #000000;\n",
       "        }    #T_45097c2c_50df_11eb_a2cd_9457a5da7b96row151_col0 {\n",
       "            background-color:  #fff5f0;\n",
       "            color:  #000000;\n",
       "        }    #T_45097c2c_50df_11eb_a2cd_9457a5da7b96row152_col0 {\n",
       "            background-color:  #fff5f0;\n",
       "            color:  #000000;\n",
       "        }    #T_45097c2c_50df_11eb_a2cd_9457a5da7b96row153_col0 {\n",
       "            background-color:  #fff5f0;\n",
       "            color:  #000000;\n",
       "        }    #T_45097c2c_50df_11eb_a2cd_9457a5da7b96row154_col0 {\n",
       "            background-color:  #fff5f0;\n",
       "            color:  #000000;\n",
       "        }    #T_45097c2c_50df_11eb_a2cd_9457a5da7b96row155_col0 {\n",
       "            background-color:  #fff5f0;\n",
       "            color:  #000000;\n",
       "        }    #T_45097c2c_50df_11eb_a2cd_9457a5da7b96row156_col0 {\n",
       "            background-color:  #fff5f0;\n",
       "            color:  #000000;\n",
       "        }    #T_45097c2c_50df_11eb_a2cd_9457a5da7b96row157_col0 {\n",
       "            background-color:  #fff5f0;\n",
       "            color:  #000000;\n",
       "        }    #T_45097c2c_50df_11eb_a2cd_9457a5da7b96row158_col0 {\n",
       "            background-color:  #fff5f0;\n",
       "            color:  #000000;\n",
       "        }    #T_45097c2c_50df_11eb_a2cd_9457a5da7b96row159_col0 {\n",
       "            background-color:  #fff5f0;\n",
       "            color:  #000000;\n",
       "        }    #T_45097c2c_50df_11eb_a2cd_9457a5da7b96row160_col0 {\n",
       "            background-color:  #fff5f0;\n",
       "            color:  #000000;\n",
       "        }    #T_45097c2c_50df_11eb_a2cd_9457a5da7b96row161_col0 {\n",
       "            background-color:  #fff5f0;\n",
       "            color:  #000000;\n",
       "        }    #T_45097c2c_50df_11eb_a2cd_9457a5da7b96row162_col0 {\n",
       "            background-color:  #fff5f0;\n",
       "            color:  #000000;\n",
       "        }    #T_45097c2c_50df_11eb_a2cd_9457a5da7b96row163_col0 {\n",
       "            background-color:  #fff5f0;\n",
       "            color:  #000000;\n",
       "        }    #T_45097c2c_50df_11eb_a2cd_9457a5da7b96row164_col0 {\n",
       "            background-color:  #fff5f0;\n",
       "            color:  #000000;\n",
       "        }    #T_45097c2c_50df_11eb_a2cd_9457a5da7b96row165_col0 {\n",
       "            background-color:  #fff5f0;\n",
       "            color:  #000000;\n",
       "        }    #T_45097c2c_50df_11eb_a2cd_9457a5da7b96row166_col0 {\n",
       "            background-color:  #fff5f0;\n",
       "            color:  #000000;\n",
       "        }    #T_45097c2c_50df_11eb_a2cd_9457a5da7b96row167_col0 {\n",
       "            background-color:  #fff5f0;\n",
       "            color:  #000000;\n",
       "        }    #T_45097c2c_50df_11eb_a2cd_9457a5da7b96row168_col0 {\n",
       "            background-color:  #fff5f0;\n",
       "            color:  #000000;\n",
       "        }    #T_45097c2c_50df_11eb_a2cd_9457a5da7b96row169_col0 {\n",
       "            background-color:  #fff5f0;\n",
       "            color:  #000000;\n",
       "        }    #T_45097c2c_50df_11eb_a2cd_9457a5da7b96row170_col0 {\n",
       "            background-color:  #fff5f0;\n",
       "            color:  #000000;\n",
       "        }    #T_45097c2c_50df_11eb_a2cd_9457a5da7b96row171_col0 {\n",
       "            background-color:  #fff5f0;\n",
       "            color:  #000000;\n",
       "        }    #T_45097c2c_50df_11eb_a2cd_9457a5da7b96row172_col0 {\n",
       "            background-color:  #fff5f0;\n",
       "            color:  #000000;\n",
       "        }    #T_45097c2c_50df_11eb_a2cd_9457a5da7b96row173_col0 {\n",
       "            background-color:  #fff5f0;\n",
       "            color:  #000000;\n",
       "        }    #T_45097c2c_50df_11eb_a2cd_9457a5da7b96row174_col0 {\n",
       "            background-color:  #fff5f0;\n",
       "            color:  #000000;\n",
       "        }    #T_45097c2c_50df_11eb_a2cd_9457a5da7b96row175_col0 {\n",
       "            background-color:  #fff5f0;\n",
       "            color:  #000000;\n",
       "        }    #T_45097c2c_50df_11eb_a2cd_9457a5da7b96row176_col0 {\n",
       "            background-color:  #fff5f0;\n",
       "            color:  #000000;\n",
       "        }    #T_45097c2c_50df_11eb_a2cd_9457a5da7b96row177_col0 {\n",
       "            background-color:  #fff5f0;\n",
       "            color:  #000000;\n",
       "        }    #T_45097c2c_50df_11eb_a2cd_9457a5da7b96row178_col0 {\n",
       "            background-color:  #fff5f0;\n",
       "            color:  #000000;\n",
       "        }    #T_45097c2c_50df_11eb_a2cd_9457a5da7b96row179_col0 {\n",
       "            background-color:  #fff5f0;\n",
       "            color:  #000000;\n",
       "        }    #T_45097c2c_50df_11eb_a2cd_9457a5da7b96row180_col0 {\n",
       "            background-color:  #fff5f0;\n",
       "            color:  #000000;\n",
       "        }</style><table id=\"T_45097c2c_50df_11eb_a2cd_9457a5da7b96\" ><thead>    <tr>        <th class=\"blank level0\" ></th>        <th class=\"col_heading level0 col0\" >Confirmed</th>    </tr>    <tr>        <th class=\"index_name level0\" >Country/Region</th>        <th class=\"blank\" ></th>    </tr></thead><tbody>\n",
       "                <tr>\n",
       "                        <th id=\"T_45097c2c_50df_11eb_a2cd_9457a5da7b96level0_row0\" class=\"row_heading level0 row0\" >China</th>\n",
       "                        <td id=\"T_45097c2c_50df_11eb_a2cd_9457a5da7b96row0_col0\" class=\"data row0 col0\" >4435607</td>\n",
       "            </tr>\n",
       "            <tr>\n",
       "                        <th id=\"T_45097c2c_50df_11eb_a2cd_9457a5da7b96level0_row1\" class=\"row_heading level0 row1\" >US</th>\n",
       "                        <td id=\"T_45097c2c_50df_11eb_a2cd_9457a5da7b96row1_col0\" class=\"data row1 col0\" >1819379</td>\n",
       "            </tr>\n",
       "            <tr>\n",
       "                        <th id=\"T_45097c2c_50df_11eb_a2cd_9457a5da7b96level0_row2\" class=\"row_heading level0 row2\" >Italy</th>\n",
       "                        <td id=\"T_45097c2c_50df_11eb_a2cd_9457a5da7b96row2_col0\" class=\"data row2 col0\" >1556732</td>\n",
       "            </tr>\n",
       "            <tr>\n",
       "                        <th id=\"T_45097c2c_50df_11eb_a2cd_9457a5da7b96level0_row3\" class=\"row_heading level0 row3\" >Spain</th>\n",
       "                        <td id=\"T_45097c2c_50df_11eb_a2cd_9457a5da7b96row3_col0\" class=\"data row3 col0\" >1078079</td>\n",
       "            </tr>\n",
       "            <tr>\n",
       "                        <th id=\"T_45097c2c_50df_11eb_a2cd_9457a5da7b96level0_row4\" class=\"row_heading level0 row4\" >Germany</th>\n",
       "                        <td id=\"T_45097c2c_50df_11eb_a2cd_9457a5da7b96row4_col0\" class=\"data row4 col0\" >842583</td>\n",
       "            </tr>\n",
       "            <tr>\n",
       "                        <th id=\"T_45097c2c_50df_11eb_a2cd_9457a5da7b96level0_row5\" class=\"row_heading level0 row5\" >Iran</th>\n",
       "                        <td id=\"T_45097c2c_50df_11eb_a2cd_9457a5da7b96row5_col0\" class=\"data row5 col0\" >678808</td>\n",
       "            </tr>\n",
       "            <tr>\n",
       "                        <th id=\"T_45097c2c_50df_11eb_a2cd_9457a5da7b96level0_row6\" class=\"row_heading level0 row6\" >France</th>\n",
       "                        <td id=\"T_45097c2c_50df_11eb_a2cd_9457a5da7b96row6_col0\" class=\"data row6 col0\" >593692</td>\n",
       "            </tr>\n",
       "            <tr>\n",
       "                        <th id=\"T_45097c2c_50df_11eb_a2cd_9457a5da7b96level0_row7\" class=\"row_heading level0 row7\" >South Korea</th>\n",
       "                        <td id=\"T_45097c2c_50df_11eb_a2cd_9457a5da7b96row7_col0\" class=\"data row7 col0\" >287007</td>\n",
       "            </tr>\n",
       "            <tr>\n",
       "                        <th id=\"T_45097c2c_50df_11eb_a2cd_9457a5da7b96level0_row8\" class=\"row_heading level0 row8\" >United Kingdom</th>\n",
       "                        <td id=\"T_45097c2c_50df_11eb_a2cd_9457a5da7b96row8_col0\" class=\"data row8 col0\" >268468</td>\n",
       "            </tr>\n",
       "            <tr>\n",
       "                        <th id=\"T_45097c2c_50df_11eb_a2cd_9457a5da7b96level0_row9\" class=\"row_heading level0 row9\" >Switzerland</th>\n",
       "                        <td id=\"T_45097c2c_50df_11eb_a2cd_9457a5da7b96row9_col0\" class=\"data row9 col0\" >211338</td>\n",
       "            </tr>\n",
       "            <tr>\n",
       "                        <th id=\"T_45097c2c_50df_11eb_a2cd_9457a5da7b96level0_row10\" class=\"row_heading level0 row10\" >Netherlands</th>\n",
       "                        <td id=\"T_45097c2c_50df_11eb_a2cd_9457a5da7b96row10_col0\" class=\"data row10 col0\" >146319</td>\n",
       "            </tr>\n",
       "            <tr>\n",
       "                        <th id=\"T_45097c2c_50df_11eb_a2cd_9457a5da7b96level0_row11\" class=\"row_heading level0 row11\" >Belgium</th>\n",
       "                        <td id=\"T_45097c2c_50df_11eb_a2cd_9457a5da7b96row11_col0\" class=\"data row11 col0\" >135117</td>\n",
       "            </tr>\n",
       "            <tr>\n",
       "                        <th id=\"T_45097c2c_50df_11eb_a2cd_9457a5da7b96level0_row12\" class=\"row_heading level0 row12\" >Austria</th>\n",
       "                        <td id=\"T_45097c2c_50df_11eb_a2cd_9457a5da7b96row12_col0\" class=\"data row12 col0\" >118185</td>\n",
       "            </tr>\n",
       "            <tr>\n",
       "                        <th id=\"T_45097c2c_50df_11eb_a2cd_9457a5da7b96level0_row13\" class=\"row_heading level0 row13\" >Turkey</th>\n",
       "                        <td id=\"T_45097c2c_50df_11eb_a2cd_9457a5da7b96row13_col0\" class=\"data row13 col0\" >113511</td>\n",
       "            </tr>\n",
       "            <tr>\n",
       "                        <th id=\"T_45097c2c_50df_11eb_a2cd_9457a5da7b96level0_row14\" class=\"row_heading level0 row14\" >Canada</th>\n",
       "                        <td id=\"T_45097c2c_50df_11eb_a2cd_9457a5da7b96row14_col0\" class=\"data row14 col0\" >85542</td>\n",
       "            </tr>\n",
       "            <tr>\n",
       "                        <th id=\"T_45097c2c_50df_11eb_a2cd_9457a5da7b96level0_row15\" class=\"row_heading level0 row15\" >Portugal</th>\n",
       "                        <td id=\"T_45097c2c_50df_11eb_a2cd_9457a5da7b96row15_col0\" class=\"data row15 col0\" >74090</td>\n",
       "            </tr>\n",
       "            <tr>\n",
       "                        <th id=\"T_45097c2c_50df_11eb_a2cd_9457a5da7b96level0_row16\" class=\"row_heading level0 row16\" >Norway</th>\n",
       "                        <td id=\"T_45097c2c_50df_11eb_a2cd_9457a5da7b96row16_col0\" class=\"data row16 col0\" >66851</td>\n",
       "            </tr>\n",
       "            <tr>\n",
       "                        <th id=\"T_45097c2c_50df_11eb_a2cd_9457a5da7b96level0_row17\" class=\"row_heading level0 row17\" >Brazil</th>\n",
       "                        <td id=\"T_45097c2c_50df_11eb_a2cd_9457a5da7b96row17_col0\" class=\"data row17 col0\" >61068</td>\n",
       "            </tr>\n",
       "            <tr>\n",
       "                        <th id=\"T_45097c2c_50df_11eb_a2cd_9457a5da7b96level0_row18\" class=\"row_heading level0 row18\" >Sweden</th>\n",
       "                        <td id=\"T_45097c2c_50df_11eb_a2cd_9457a5da7b96row18_col0\" class=\"data row18 col0\" >60567</td>\n",
       "            </tr>\n",
       "            <tr>\n",
       "                        <th id=\"T_45097c2c_50df_11eb_a2cd_9457a5da7b96level0_row19\" class=\"row_heading level0 row19\" >Israel</th>\n",
       "                        <td id=\"T_45097c2c_50df_11eb_a2cd_9457a5da7b96row19_col0\" class=\"data row19 col0\" >53063</td>\n",
       "            </tr>\n",
       "            <tr>\n",
       "                        <th id=\"T_45097c2c_50df_11eb_a2cd_9457a5da7b96level0_row20\" class=\"row_heading level0 row20\" >Australia</th>\n",
       "                        <td id=\"T_45097c2c_50df_11eb_a2cd_9457a5da7b96row20_col0\" class=\"data row20 col0\" >51456</td>\n",
       "            </tr>\n",
       "            <tr>\n",
       "                        <th id=\"T_45097c2c_50df_11eb_a2cd_9457a5da7b96level0_row21\" class=\"row_heading level0 row21\" >Denmark</th>\n",
       "                        <td id=\"T_45097c2c_50df_11eb_a2cd_9457a5da7b96row21_col0\" class=\"data row21 col0\" >43536</td>\n",
       "            </tr>\n",
       "            <tr>\n",
       "                        <th id=\"T_45097c2c_50df_11eb_a2cd_9457a5da7b96level0_row22\" class=\"row_heading level0 row22\" >Japan</th>\n",
       "                        <td id=\"T_45097c2c_50df_11eb_a2cd_9457a5da7b96row22_col0\" class=\"data row22 col0\" >37722</td>\n",
       "            </tr>\n",
       "            <tr>\n",
       "                        <th id=\"T_45097c2c_50df_11eb_a2cd_9457a5da7b96level0_row23\" class=\"row_heading level0 row23\" >Malaysia</th>\n",
       "                        <td id=\"T_45097c2c_50df_11eb_a2cd_9457a5da7b96row23_col0\" class=\"data row23 col0\" >37560</td>\n",
       "            </tr>\n",
       "            <tr>\n",
       "                        <th id=\"T_45097c2c_50df_11eb_a2cd_9457a5da7b96level0_row24\" class=\"row_heading level0 row24\" >Czechia</th>\n",
       "                        <td id=\"T_45097c2c_50df_11eb_a2cd_9457a5da7b96row24_col0\" class=\"data row24 col0\" >37441</td>\n",
       "            </tr>\n",
       "            <tr>\n",
       "                        <th id=\"T_45097c2c_50df_11eb_a2cd_9457a5da7b96level0_row25\" class=\"row_heading level0 row25\" >Ireland</th>\n",
       "                        <td id=\"T_45097c2c_50df_11eb_a2cd_9457a5da7b96row25_col0\" class=\"data row25 col0\" >34878</td>\n",
       "            </tr>\n",
       "            <tr>\n",
       "                        <th id=\"T_45097c2c_50df_11eb_a2cd_9457a5da7b96level0_row26\" class=\"row_heading level0 row26\" >Diamond Princess</th>\n",
       "                        <td id=\"T_45097c2c_50df_11eb_a2cd_9457a5da7b96row26_col0\" class=\"data row26 col0\" >34180</td>\n",
       "            </tr>\n",
       "            <tr>\n",
       "                        <th id=\"T_45097c2c_50df_11eb_a2cd_9457a5da7b96level0_row27\" class=\"row_heading level0 row27\" >Chile</th>\n",
       "                        <td id=\"T_45097c2c_50df_11eb_a2cd_9457a5da7b96row27_col0\" class=\"data row27 col0\" >27835</td>\n",
       "            </tr>\n",
       "            <tr>\n",
       "                        <th id=\"T_45097c2c_50df_11eb_a2cd_9457a5da7b96level0_row28\" class=\"row_heading level0 row28\" >Ecuador</th>\n",
       "                        <td id=\"T_45097c2c_50df_11eb_a2cd_9457a5da7b96row28_col0\" class=\"data row28 col0\" >25748</td>\n",
       "            </tr>\n",
       "            <tr>\n",
       "                        <th id=\"T_45097c2c_50df_11eb_a2cd_9457a5da7b96level0_row29\" class=\"row_heading level0 row29\" >Poland</th>\n",
       "                        <td id=\"T_45097c2c_50df_11eb_a2cd_9457a5da7b96row29_col0\" class=\"data row29 col0\" >25107</td>\n",
       "            </tr>\n",
       "            <tr>\n",
       "                        <th id=\"T_45097c2c_50df_11eb_a2cd_9457a5da7b96level0_row30\" class=\"row_heading level0 row30\" >Luxembourg</th>\n",
       "                        <td id=\"T_45097c2c_50df_11eb_a2cd_9457a5da7b96row30_col0\" class=\"data row30 col0\" >24628</td>\n",
       "            </tr>\n",
       "            <tr>\n",
       "                        <th id=\"T_45097c2c_50df_11eb_a2cd_9457a5da7b96level0_row31\" class=\"row_heading level0 row31\" >Romania</th>\n",
       "                        <td id=\"T_45097c2c_50df_11eb_a2cd_9457a5da7b96row31_col0\" class=\"data row31 col0\" >23123</td>\n",
       "            </tr>\n",
       "            <tr>\n",
       "                        <th id=\"T_45097c2c_50df_11eb_a2cd_9457a5da7b96level0_row32\" class=\"row_heading level0 row32\" >Pakistan</th>\n",
       "                        <td id=\"T_45097c2c_50df_11eb_a2cd_9457a5da7b96row32_col0\" class=\"data row32 col0\" >22812</td>\n",
       "            </tr>\n",
       "            <tr>\n",
       "                        <th id=\"T_45097c2c_50df_11eb_a2cd_9457a5da7b96level0_row33\" class=\"row_heading level0 row33\" >Russia</th>\n",
       "                        <td id=\"T_45097c2c_50df_11eb_a2cd_9457a5da7b96row33_col0\" class=\"data row33 col0\" >22758</td>\n",
       "            </tr>\n",
       "            <tr>\n",
       "                        <th id=\"T_45097c2c_50df_11eb_a2cd_9457a5da7b96level0_row34\" class=\"row_heading level0 row34\" >Thailand</th>\n",
       "                        <td id=\"T_45097c2c_50df_11eb_a2cd_9457a5da7b96row34_col0\" class=\"data row34 col0\" >20130</td>\n",
       "            </tr>\n",
       "            <tr>\n",
       "                        <th id=\"T_45097c2c_50df_11eb_a2cd_9457a5da7b96level0_row35\" class=\"row_heading level0 row35\" >Philippines</th>\n",
       "                        <td id=\"T_45097c2c_50df_11eb_a2cd_9457a5da7b96row35_col0\" class=\"data row35 col0\" >19497</td>\n",
       "            </tr>\n",
       "            <tr>\n",
       "                        <th id=\"T_45097c2c_50df_11eb_a2cd_9457a5da7b96level0_row36\" class=\"row_heading level0 row36\" >Finland</th>\n",
       "                        <td id=\"T_45097c2c_50df_11eb_a2cd_9457a5da7b96row36_col0\" class=\"data row36 col0\" >17998</td>\n",
       "            </tr>\n",
       "            <tr>\n",
       "                        <th id=\"T_45097c2c_50df_11eb_a2cd_9457a5da7b96level0_row37\" class=\"row_heading level0 row37\" >Greece</th>\n",
       "                        <td id=\"T_45097c2c_50df_11eb_a2cd_9457a5da7b96row37_col0\" class=\"data row37 col0\" >17981</td>\n",
       "            </tr>\n",
       "            <tr>\n",
       "                        <th id=\"T_45097c2c_50df_11eb_a2cd_9457a5da7b96level0_row38\" class=\"row_heading level0 row38\" >Saudi Arabia</th>\n",
       "                        <td id=\"T_45097c2c_50df_11eb_a2cd_9457a5da7b96row38_col0\" class=\"data row38 col0\" >17910</td>\n",
       "            </tr>\n",
       "            <tr>\n",
       "                        <th id=\"T_45097c2c_50df_11eb_a2cd_9457a5da7b96level0_row39\" class=\"row_heading level0 row39\" >India</th>\n",
       "                        <td id=\"T_45097c2c_50df_11eb_a2cd_9457a5da7b96row39_col0\" class=\"data row39 col0\" >17446</td>\n",
       "            </tr>\n",
       "            <tr>\n",
       "                        <th id=\"T_45097c2c_50df_11eb_a2cd_9457a5da7b96level0_row40\" class=\"row_heading level0 row40\" >Indonesia</th>\n",
       "                        <td id=\"T_45097c2c_50df_11eb_a2cd_9457a5da7b96row40_col0\" class=\"data row40 col0\" >17424</td>\n",
       "            </tr>\n",
       "            <tr>\n",
       "                        <th id=\"T_45097c2c_50df_11eb_a2cd_9457a5da7b96level0_row41\" class=\"row_heading level0 row41\" >Singapore</th>\n",
       "                        <td id=\"T_45097c2c_50df_11eb_a2cd_9457a5da7b96row41_col0\" class=\"data row41 col0\" >16287</td>\n",
       "            </tr>\n",
       "            <tr>\n",
       "                        <th id=\"T_45097c2c_50df_11eb_a2cd_9457a5da7b96level0_row42\" class=\"row_heading level0 row42\" >Iceland</th>\n",
       "                        <td id=\"T_45097c2c_50df_11eb_a2cd_9457a5da7b96row42_col0\" class=\"data row42 col0\" >15203</td>\n",
       "            </tr>\n",
       "            <tr>\n",
       "                        <th id=\"T_45097c2c_50df_11eb_a2cd_9457a5da7b96level0_row43\" class=\"row_heading level0 row43\" >South Africa</th>\n",
       "                        <td id=\"T_45097c2c_50df_11eb_a2cd_9457a5da7b96row43_col0\" class=\"data row43 col0\" >14520</td>\n",
       "            </tr>\n",
       "            <tr>\n",
       "                        <th id=\"T_45097c2c_50df_11eb_a2cd_9457a5da7b96level0_row44\" class=\"row_heading level0 row44\" >Qatar</th>\n",
       "                        <td id=\"T_45097c2c_50df_11eb_a2cd_9457a5da7b96row44_col0\" class=\"data row44 col0\" >13152</td>\n",
       "            </tr>\n",
       "            <tr>\n",
       "                        <th id=\"T_45097c2c_50df_11eb_a2cd_9457a5da7b96level0_row45\" class=\"row_heading level0 row45\" >Peru</th>\n",
       "                        <td id=\"T_45097c2c_50df_11eb_a2cd_9457a5da7b96row45_col0\" class=\"data row45 col0\" >12034</td>\n",
       "            </tr>\n",
       "            <tr>\n",
       "                        <th id=\"T_45097c2c_50df_11eb_a2cd_9457a5da7b96level0_row46\" class=\"row_heading level0 row46\" >Panama</th>\n",
       "                        <td id=\"T_45097c2c_50df_11eb_a2cd_9457a5da7b96row46_col0\" class=\"data row46 col0\" >11290</td>\n",
       "            </tr>\n",
       "            <tr>\n",
       "                        <th id=\"T_45097c2c_50df_11eb_a2cd_9457a5da7b96level0_row47\" class=\"row_heading level0 row47\" >Slovenia</th>\n",
       "                        <td id=\"T_45097c2c_50df_11eb_a2cd_9457a5da7b96row47_col0\" class=\"data row47 col0\" >11281</td>\n",
       "            </tr>\n",
       "            <tr>\n",
       "                        <th id=\"T_45097c2c_50df_11eb_a2cd_9457a5da7b96level0_row48\" class=\"row_heading level0 row48\" >Mexico</th>\n",
       "                        <td id=\"T_45097c2c_50df_11eb_a2cd_9457a5da7b96row48_col0\" class=\"data row48 col0\" >11029</td>\n",
       "            </tr>\n",
       "            <tr>\n",
       "                        <th id=\"T_45097c2c_50df_11eb_a2cd_9457a5da7b96level0_row49\" class=\"row_heading level0 row49\" >Dominican Republic</th>\n",
       "                        <td id=\"T_45097c2c_50df_11eb_a2cd_9457a5da7b96row49_col0\" class=\"data row49 col0\" >10292</td>\n",
       "            </tr>\n",
       "            <tr>\n",
       "                        <th id=\"T_45097c2c_50df_11eb_a2cd_9457a5da7b96level0_row50\" class=\"row_heading level0 row50\" >Argentina</th>\n",
       "                        <td id=\"T_45097c2c_50df_11eb_a2cd_9457a5da7b96row50_col0\" class=\"data row50 col0\" >9981</td>\n",
       "            </tr>\n",
       "            <tr>\n",
       "                        <th id=\"T_45097c2c_50df_11eb_a2cd_9457a5da7b96level0_row51\" class=\"row_heading level0 row51\" >Estonia</th>\n",
       "                        <td id=\"T_45097c2c_50df_11eb_a2cd_9457a5da7b96row51_col0\" class=\"data row51 col0\" >9951</td>\n",
       "            </tr>\n",
       "            <tr>\n",
       "                        <th id=\"T_45097c2c_50df_11eb_a2cd_9457a5da7b96level0_row52\" class=\"row_heading level0 row52\" >Bahrain</th>\n",
       "                        <td id=\"T_45097c2c_50df_11eb_a2cd_9457a5da7b96row52_col0\" class=\"data row52 col0\" >9816</td>\n",
       "            </tr>\n",
       "            <tr>\n",
       "                        <th id=\"T_45097c2c_50df_11eb_a2cd_9457a5da7b96level0_row53\" class=\"row_heading level0 row53\" >Egypt</th>\n",
       "                        <td id=\"T_45097c2c_50df_11eb_a2cd_9457a5da7b96row53_col0\" class=\"data row53 col0\" >9785</td>\n",
       "            </tr>\n",
       "            <tr>\n",
       "                        <th id=\"T_45097c2c_50df_11eb_a2cd_9457a5da7b96level0_row54\" class=\"row_heading level0 row54\" >Colombia</th>\n",
       "                        <td id=\"T_45097c2c_50df_11eb_a2cd_9457a5da7b96row54_col0\" class=\"data row54 col0\" >9625</td>\n",
       "            </tr>\n",
       "            <tr>\n",
       "                        <th id=\"T_45097c2c_50df_11eb_a2cd_9457a5da7b96level0_row55\" class=\"row_heading level0 row55\" >Serbia</th>\n",
       "                        <td id=\"T_45097c2c_50df_11eb_a2cd_9457a5da7b96row55_col0\" class=\"data row55 col0\" >9572</td>\n",
       "            </tr>\n",
       "            <tr>\n",
       "                        <th id=\"T_45097c2c_50df_11eb_a2cd_9457a5da7b96level0_row56\" class=\"row_heading level0 row56\" >Croatia</th>\n",
       "                        <td id=\"T_45097c2c_50df_11eb_a2cd_9457a5da7b96row56_col0\" class=\"data row56 col0\" >9475</td>\n",
       "            </tr>\n",
       "            <tr>\n",
       "                        <th id=\"T_45097c2c_50df_11eb_a2cd_9457a5da7b96level0_row57\" class=\"row_heading level0 row57\" >United Arab Emirates</th>\n",
       "                        <td id=\"T_45097c2c_50df_11eb_a2cd_9457a5da7b96row57_col0\" class=\"data row57 col0\" >8897</td>\n",
       "            </tr>\n",
       "            <tr>\n",
       "                        <th id=\"T_45097c2c_50df_11eb_a2cd_9457a5da7b96level0_row58\" class=\"row_heading level0 row58\" >Iraq</th>\n",
       "                        <td id=\"T_45097c2c_50df_11eb_a2cd_9457a5da7b96row58_col0\" class=\"data row58 col0\" >8689</td>\n",
       "            </tr>\n",
       "            <tr>\n",
       "                        <th id=\"T_45097c2c_50df_11eb_a2cd_9457a5da7b96level0_row59\" class=\"row_heading level0 row59\" >Algeria</th>\n",
       "                        <td id=\"T_45097c2c_50df_11eb_a2cd_9457a5da7b96row59_col0\" class=\"data row59 col0\" >7832</td>\n",
       "            </tr>\n",
       "            <tr>\n",
       "                        <th id=\"T_45097c2c_50df_11eb_a2cd_9457a5da7b96level0_row60\" class=\"row_heading level0 row60\" >Lebanon</th>\n",
       "                        <td id=\"T_45097c2c_50df_11eb_a2cd_9457a5da7b96row60_col0\" class=\"data row60 col0\" >6673</td>\n",
       "            </tr>\n",
       "            <tr>\n",
       "                        <th id=\"T_45097c2c_50df_11eb_a2cd_9457a5da7b96level0_row61\" class=\"row_heading level0 row61\" >Armenia</th>\n",
       "                        <td id=\"T_45097c2c_50df_11eb_a2cd_9457a5da7b96row61_col0\" class=\"data row61 col0\" >6069</td>\n",
       "            </tr>\n",
       "            <tr>\n",
       "                        <th id=\"T_45097c2c_50df_11eb_a2cd_9457a5da7b96level0_row62\" class=\"row_heading level0 row62\" >New Zealand</th>\n",
       "                        <td id=\"T_45097c2c_50df_11eb_a2cd_9457a5da7b96row62_col0\" class=\"data row62 col0\" >6012</td>\n",
       "            </tr>\n",
       "            <tr>\n",
       "                        <th id=\"T_45097c2c_50df_11eb_a2cd_9457a5da7b96level0_row63\" class=\"row_heading level0 row63\" >Morocco</th>\n",
       "                        <td id=\"T_45097c2c_50df_11eb_a2cd_9457a5da7b96row63_col0\" class=\"data row63 col0\" >5911</td>\n",
       "            </tr>\n",
       "            <tr>\n",
       "                        <th id=\"T_45097c2c_50df_11eb_a2cd_9457a5da7b96level0_row64\" class=\"row_heading level0 row64\" >Ukraine</th>\n",
       "                        <td id=\"T_45097c2c_50df_11eb_a2cd_9457a5da7b96row64_col0\" class=\"data row64 col0\" >5827</td>\n",
       "            </tr>\n",
       "            <tr>\n",
       "                        <th id=\"T_45097c2c_50df_11eb_a2cd_9457a5da7b96level0_row65\" class=\"row_heading level0 row65\" >Taiwan*</th>\n",
       "                        <td id=\"T_45097c2c_50df_11eb_a2cd_9457a5da7b96row65_col0\" class=\"data row65 col0\" >5561</td>\n",
       "            </tr>\n",
       "            <tr>\n",
       "                        <th id=\"T_45097c2c_50df_11eb_a2cd_9457a5da7b96level0_row66\" class=\"row_heading level0 row66\" >Lithuania</th>\n",
       "                        <td id=\"T_45097c2c_50df_11eb_a2cd_9457a5da7b96row66_col0\" class=\"data row66 col0\" >5551</td>\n",
       "            </tr>\n",
       "            <tr>\n",
       "                        <th id=\"T_45097c2c_50df_11eb_a2cd_9457a5da7b96level0_row67\" class=\"row_heading level0 row67\" >Kuwait</th>\n",
       "                        <td id=\"T_45097c2c_50df_11eb_a2cd_9457a5da7b96row67_col0\" class=\"data row67 col0\" >5401</td>\n",
       "            </tr>\n",
       "            <tr>\n",
       "                        <th id=\"T_45097c2c_50df_11eb_a2cd_9457a5da7b96level0_row68\" class=\"row_heading level0 row68\" >Hungary</th>\n",
       "                        <td id=\"T_45097c2c_50df_11eb_a2cd_9457a5da7b96row68_col0\" class=\"data row68 col0\" >5245</td>\n",
       "            </tr>\n",
       "            <tr>\n",
       "                        <th id=\"T_45097c2c_50df_11eb_a2cd_9457a5da7b96level0_row69\" class=\"row_heading level0 row69\" >Bulgaria</th>\n",
       "                        <td id=\"T_45097c2c_50df_11eb_a2cd_9457a5da7b96row69_col0\" class=\"data row69 col0\" >4940</td>\n",
       "            </tr>\n",
       "            <tr>\n",
       "                        <th id=\"T_45097c2c_50df_11eb_a2cd_9457a5da7b96level0_row70\" class=\"row_heading level0 row70\" >Slovakia</th>\n",
       "                        <td id=\"T_45097c2c_50df_11eb_a2cd_9457a5da7b96row70_col0\" class=\"data row70 col0\" >4716</td>\n",
       "            </tr>\n",
       "            <tr>\n",
       "                        <th id=\"T_45097c2c_50df_11eb_a2cd_9457a5da7b96level0_row71\" class=\"row_heading level0 row71\" >Latvia</th>\n",
       "                        <td id=\"T_45097c2c_50df_11eb_a2cd_9457a5da7b96row71_col0\" class=\"data row71 col0\" >4674</td>\n",
       "            </tr>\n",
       "            <tr>\n",
       "                        <th id=\"T_45097c2c_50df_11eb_a2cd_9457a5da7b96level0_row72\" class=\"row_heading level0 row72\" >Bosnia and Herzegovina</th>\n",
       "                        <td id=\"T_45097c2c_50df_11eb_a2cd_9457a5da7b96row72_col0\" class=\"data row72 col0\" >4397</td>\n",
       "            </tr>\n",
       "            <tr>\n",
       "                        <th id=\"T_45097c2c_50df_11eb_a2cd_9457a5da7b96level0_row73\" class=\"row_heading level0 row73\" >San Marino</th>\n",
       "                        <td id=\"T_45097c2c_50df_11eb_a2cd_9457a5da7b96row73_col0\" class=\"data row73 col0\" >4190</td>\n",
       "            </tr>\n",
       "            <tr>\n",
       "                        <th id=\"T_45097c2c_50df_11eb_a2cd_9457a5da7b96level0_row74\" class=\"row_heading level0 row74\" >Costa Rica</th>\n",
       "                        <td id=\"T_45097c2c_50df_11eb_a2cd_9457a5da7b96row74_col0\" class=\"data row74 col0\" >4174</td>\n",
       "            </tr>\n",
       "            <tr>\n",
       "                        <th id=\"T_45097c2c_50df_11eb_a2cd_9457a5da7b96level0_row75\" class=\"row_heading level0 row75\" >Andorra</th>\n",
       "                        <td id=\"T_45097c2c_50df_11eb_a2cd_9457a5da7b96row75_col0\" class=\"data row75 col0\" >4044</td>\n",
       "            </tr>\n",
       "            <tr>\n",
       "                        <th id=\"T_45097c2c_50df_11eb_a2cd_9457a5da7b96level0_row76\" class=\"row_heading level0 row76\" >Tunisia</th>\n",
       "                        <td id=\"T_45097c2c_50df_11eb_a2cd_9457a5da7b96row76_col0\" class=\"data row76 col0\" >3849</td>\n",
       "            </tr>\n",
       "            <tr>\n",
       "                        <th id=\"T_45097c2c_50df_11eb_a2cd_9457a5da7b96level0_row77\" class=\"row_heading level0 row77\" >Moldova</th>\n",
       "                        <td id=\"T_45097c2c_50df_11eb_a2cd_9457a5da7b96row77_col0\" class=\"data row77 col0\" >3847</td>\n",
       "            </tr>\n",
       "            <tr>\n",
       "                        <th id=\"T_45097c2c_50df_11eb_a2cd_9457a5da7b96level0_row78\" class=\"row_heading level0 row78\" >Uruguay</th>\n",
       "                        <td id=\"T_45097c2c_50df_11eb_a2cd_9457a5da7b96row78_col0\" class=\"data row78 col0\" >3787</td>\n",
       "            </tr>\n",
       "            <tr>\n",
       "                        <th id=\"T_45097c2c_50df_11eb_a2cd_9457a5da7b96level0_row79\" class=\"row_heading level0 row79\" >North Macedonia</th>\n",
       "                        <td id=\"T_45097c2c_50df_11eb_a2cd_9457a5da7b96row79_col0\" class=\"data row79 col0\" >3641</td>\n",
       "            </tr>\n",
       "            <tr>\n",
       "                        <th id=\"T_45097c2c_50df_11eb_a2cd_9457a5da7b96level0_row80\" class=\"row_heading level0 row80\" >Vietnam</th>\n",
       "                        <td id=\"T_45097c2c_50df_11eb_a2cd_9457a5da7b96row80_col0\" class=\"data row80 col0\" >3618</td>\n",
       "            </tr>\n",
       "            <tr>\n",
       "                        <th id=\"T_45097c2c_50df_11eb_a2cd_9457a5da7b96level0_row81\" class=\"row_heading level0 row81\" >Jordan</th>\n",
       "                        <td id=\"T_45097c2c_50df_11eb_a2cd_9457a5da7b96row81_col0\" class=\"data row81 col0\" >3308</td>\n",
       "            </tr>\n",
       "            <tr>\n",
       "                        <th id=\"T_45097c2c_50df_11eb_a2cd_9457a5da7b96level0_row82\" class=\"row_heading level0 row82\" >Kazakhstan</th>\n",
       "                        <td id=\"T_45097c2c_50df_11eb_a2cd_9457a5da7b96row82_col0\" class=\"data row82 col0\" >3215</td>\n",
       "            </tr>\n",
       "            <tr>\n",
       "                        <th id=\"T_45097c2c_50df_11eb_a2cd_9457a5da7b96level0_row83\" class=\"row_heading level0 row83\" >Cyprus</th>\n",
       "                        <td id=\"T_45097c2c_50df_11eb_a2cd_9457a5da7b96row83_col0\" class=\"data row83 col0\" >3161</td>\n",
       "            </tr>\n",
       "            <tr>\n",
       "                        <th id=\"T_45097c2c_50df_11eb_a2cd_9457a5da7b96level0_row84\" class=\"row_heading level0 row84\" >Azerbaijan</th>\n",
       "                        <td id=\"T_45097c2c_50df_11eb_a2cd_9457a5da7b96row84_col0\" class=\"data row84 col0\" >3130</td>\n",
       "            </tr>\n",
       "            <tr>\n",
       "                        <th id=\"T_45097c2c_50df_11eb_a2cd_9457a5da7b96level0_row85\" class=\"row_heading level0 row85\" >Albania</th>\n",
       "                        <td id=\"T_45097c2c_50df_11eb_a2cd_9457a5da7b96row85_col0\" class=\"data row85 col0\" >3072</td>\n",
       "            </tr>\n",
       "            <tr>\n",
       "                        <th id=\"T_45097c2c_50df_11eb_a2cd_9457a5da7b96level0_row86\" class=\"row_heading level0 row86\" >Burkina Faso</th>\n",
       "                        <td id=\"T_45097c2c_50df_11eb_a2cd_9457a5da7b96row86_col0\" class=\"data row86 col0\" >2773</td>\n",
       "            </tr>\n",
       "            <tr>\n",
       "                        <th id=\"T_45097c2c_50df_11eb_a2cd_9457a5da7b96level0_row87\" class=\"row_heading level0 row87\" >Oman</th>\n",
       "                        <td id=\"T_45097c2c_50df_11eb_a2cd_9457a5da7b96row87_col0\" class=\"data row87 col0\" >2415</td>\n",
       "            </tr>\n",
       "            <tr>\n",
       "                        <th id=\"T_45097c2c_50df_11eb_a2cd_9457a5da7b96level0_row88\" class=\"row_heading level0 row88\" >Malta</th>\n",
       "                        <td id=\"T_45097c2c_50df_11eb_a2cd_9457a5da7b96row88_col0\" class=\"data row88 col0\" >2293</td>\n",
       "            </tr>\n",
       "            <tr>\n",
       "                        <th id=\"T_45097c2c_50df_11eb_a2cd_9457a5da7b96level0_row89\" class=\"row_heading level0 row89\" >Belarus</th>\n",
       "                        <td id=\"T_45097c2c_50df_11eb_a2cd_9457a5da7b96row89_col0\" class=\"data row89 col0\" >2285</td>\n",
       "            </tr>\n",
       "            <tr>\n",
       "                        <th id=\"T_45097c2c_50df_11eb_a2cd_9457a5da7b96level0_row90\" class=\"row_heading level0 row90\" >Cameroon</th>\n",
       "                        <td id=\"T_45097c2c_50df_11eb_a2cd_9457a5da7b96row90_col0\" class=\"data row90 col0\" >2115</td>\n",
       "            </tr>\n",
       "            <tr>\n",
       "                        <th id=\"T_45097c2c_50df_11eb_a2cd_9457a5da7b96level0_row91\" class=\"row_heading level0 row91\" >Brunei</th>\n",
       "                        <td id=\"T_45097c2c_50df_11eb_a2cd_9457a5da7b96row91_col0\" class=\"data row91 col0\" >2086</td>\n",
       "            </tr>\n",
       "            <tr>\n",
       "                        <th id=\"T_45097c2c_50df_11eb_a2cd_9457a5da7b96level0_row92\" class=\"row_heading level0 row92\" >Senegal</th>\n",
       "                        <td id=\"T_45097c2c_50df_11eb_a2cd_9457a5da7b96row92_col0\" class=\"data row92 col0\" >2036</td>\n",
       "            </tr>\n",
       "            <tr>\n",
       "                        <th id=\"T_45097c2c_50df_11eb_a2cd_9457a5da7b96level0_row93\" class=\"row_heading level0 row93\" >Afghanistan</th>\n",
       "                        <td id=\"T_45097c2c_50df_11eb_a2cd_9457a5da7b96row93_col0\" class=\"data row93 col0\" >2016</td>\n",
       "            </tr>\n",
       "            <tr>\n",
       "                        <th id=\"T_45097c2c_50df_11eb_a2cd_9457a5da7b96level0_row94\" class=\"row_heading level0 row94\" >Sri Lanka</th>\n",
       "                        <td id=\"T_45097c2c_50df_11eb_a2cd_9457a5da7b96row94_col0\" class=\"data row94 col0\" >1961</td>\n",
       "            </tr>\n",
       "            <tr>\n",
       "                        <th id=\"T_45097c2c_50df_11eb_a2cd_9457a5da7b96level0_row95\" class=\"row_heading level0 row95\" >West Bank and Gaza</th>\n",
       "                        <td id=\"T_45097c2c_50df_11eb_a2cd_9457a5da7b96row95_col0\" class=\"data row95 col0\" >1844</td>\n",
       "            </tr>\n",
       "            <tr>\n",
       "                        <th id=\"T_45097c2c_50df_11eb_a2cd_9457a5da7b96level0_row96\" class=\"row_heading level0 row96\" >Ghana</th>\n",
       "                        <td id=\"T_45097c2c_50df_11eb_a2cd_9457a5da7b96row96_col0\" class=\"data row96 col0\" >1750</td>\n",
       "            </tr>\n",
       "            <tr>\n",
       "                        <th id=\"T_45097c2c_50df_11eb_a2cd_9457a5da7b96level0_row97\" class=\"row_heading level0 row97\" >Venezuela</th>\n",
       "                        <td id=\"T_45097c2c_50df_11eb_a2cd_9457a5da7b96row97_col0\" class=\"data row97 col0\" >1738</td>\n",
       "            </tr>\n",
       "            <tr>\n",
       "                        <th id=\"T_45097c2c_50df_11eb_a2cd_9457a5da7b96level0_row98\" class=\"row_heading level0 row98\" >Cuba</th>\n",
       "                        <td id=\"T_45097c2c_50df_11eb_a2cd_9457a5da7b96row98_col0\" class=\"data row98 col0\" >1734</td>\n",
       "            </tr>\n",
       "            <tr>\n",
       "                        <th id=\"T_45097c2c_50df_11eb_a2cd_9457a5da7b96level0_row99\" class=\"row_heading level0 row99\" >Uzbekistan</th>\n",
       "                        <td id=\"T_45097c2c_50df_11eb_a2cd_9457a5da7b96row99_col0\" class=\"data row99 col0\" >1675</td>\n",
       "            </tr>\n",
       "            <tr>\n",
       "                        <th id=\"T_45097c2c_50df_11eb_a2cd_9457a5da7b96level0_row100\" class=\"row_heading level0 row100\" >Georgia</th>\n",
       "                        <td id=\"T_45097c2c_50df_11eb_a2cd_9457a5da7b96row100_col0\" class=\"data row100 col0\" >1666</td>\n",
       "            </tr>\n",
       "            <tr>\n",
       "                        <th id=\"T_45097c2c_50df_11eb_a2cd_9457a5da7b96level0_row101\" class=\"row_heading level0 row101\" >Cote d'Ivoire</th>\n",
       "                        <td id=\"T_45097c2c_50df_11eb_a2cd_9457a5da7b96row101_col0\" class=\"data row101 col0\" >1653</td>\n",
       "            </tr>\n",
       "            <tr>\n",
       "                        <th id=\"T_45097c2c_50df_11eb_a2cd_9457a5da7b96level0_row102\" class=\"row_heading level0 row102\" >Cambodia</th>\n",
       "                        <td id=\"T_45097c2c_50df_11eb_a2cd_9457a5da7b96row102_col0\" class=\"data row102 col0\" >1592</td>\n",
       "            </tr>\n",
       "            <tr>\n",
       "                        <th id=\"T_45097c2c_50df_11eb_a2cd_9457a5da7b96level0_row103\" class=\"row_heading level0 row103\" >Honduras</th>\n",
       "                        <td id=\"T_45097c2c_50df_11eb_a2cd_9457a5da7b96row103_col0\" class=\"data row103 col0\" >1434</td>\n",
       "            </tr>\n",
       "            <tr>\n",
       "                        <th id=\"T_45097c2c_50df_11eb_a2cd_9457a5da7b96level0_row104\" class=\"row_heading level0 row104\" >Nigeria</th>\n",
       "                        <td id=\"T_45097c2c_50df_11eb_a2cd_9457a5da7b96row104_col0\" class=\"data row104 col0\" >1413</td>\n",
       "            </tr>\n",
       "            <tr>\n",
       "                        <th id=\"T_45097c2c_50df_11eb_a2cd_9457a5da7b96level0_row105\" class=\"row_heading level0 row105\" >Mauritius</th>\n",
       "                        <td id=\"T_45097c2c_50df_11eb_a2cd_9457a5da7b96row105_col0\" class=\"data row105 col0\" >1357</td>\n",
       "            </tr>\n",
       "            <tr>\n",
       "                        <th id=\"T_45097c2c_50df_11eb_a2cd_9457a5da7b96level0_row106\" class=\"row_heading level0 row106\" >Montenegro</th>\n",
       "                        <td id=\"T_45097c2c_50df_11eb_a2cd_9457a5da7b96row106_col0\" class=\"data row106 col0\" >1143</td>\n",
       "            </tr>\n",
       "            <tr>\n",
       "                        <th id=\"T_45097c2c_50df_11eb_a2cd_9457a5da7b96level0_row107\" class=\"row_heading level0 row107\" >Bolivia</th>\n",
       "                        <td id=\"T_45097c2c_50df_11eb_a2cd_9457a5da7b96row107_col0\" class=\"data row107 col0\" >1052</td>\n",
       "            </tr>\n",
       "            <tr>\n",
       "                        <th id=\"T_45097c2c_50df_11eb_a2cd_9457a5da7b96level0_row108\" class=\"row_heading level0 row108\" >Trinidad and Tobago</th>\n",
       "                        <td id=\"T_45097c2c_50df_11eb_a2cd_9457a5da7b96row108_col0\" class=\"data row108 col0\" >1039</td>\n",
       "            </tr>\n",
       "            <tr>\n",
       "                        <th id=\"T_45097c2c_50df_11eb_a2cd_9457a5da7b96level0_row109\" class=\"row_heading level0 row109\" >Congo (Kinshasa)</th>\n",
       "                        <td id=\"T_45097c2c_50df_11eb_a2cd_9457a5da7b96row109_col0\" class=\"data row109 col0\" >1019</td>\n",
       "            </tr>\n",
       "            <tr>\n",
       "                        <th id=\"T_45097c2c_50df_11eb_a2cd_9457a5da7b96level0_row110\" class=\"row_heading level0 row110\" >Kyrgyzstan</th>\n",
       "                        <td id=\"T_45097c2c_50df_11eb_a2cd_9457a5da7b96row110_col0\" class=\"data row110 col0\" >944</td>\n",
       "            </tr>\n",
       "            <tr>\n",
       "                        <th id=\"T_45097c2c_50df_11eb_a2cd_9457a5da7b96level0_row111\" class=\"row_heading level0 row111\" >Kosovo</th>\n",
       "                        <td id=\"T_45097c2c_50df_11eb_a2cd_9457a5da7b96row111_col0\" class=\"data row111 col0\" >924</td>\n",
       "            </tr>\n",
       "            <tr>\n",
       "                        <th id=\"T_45097c2c_50df_11eb_a2cd_9457a5da7b96level0_row112\" class=\"row_heading level0 row112\" >Liechtenstein</th>\n",
       "                        <td id=\"T_45097c2c_50df_11eb_a2cd_9457a5da7b96row112_col0\" class=\"data row112 col0\" >912</td>\n",
       "            </tr>\n",
       "            <tr>\n",
       "                        <th id=\"T_45097c2c_50df_11eb_a2cd_9457a5da7b96level0_row113\" class=\"row_heading level0 row113\" >Rwanda</th>\n",
       "                        <td id=\"T_45097c2c_50df_11eb_a2cd_9457a5da7b96row113_col0\" class=\"data row113 col0\" >834</td>\n",
       "            </tr>\n",
       "            <tr>\n",
       "                        <th id=\"T_45097c2c_50df_11eb_a2cd_9457a5da7b96level0_row114\" class=\"row_heading level0 row114\" >Paraguay</th>\n",
       "                        <td id=\"T_45097c2c_50df_11eb_a2cd_9457a5da7b96row114_col0\" class=\"data row114 col0\" >784</td>\n",
       "            </tr>\n",
       "            <tr>\n",
       "                        <th id=\"T_45097c2c_50df_11eb_a2cd_9457a5da7b96level0_row115\" class=\"row_heading level0 row115\" >Bangladesh</th>\n",
       "                        <td id=\"T_45097c2c_50df_11eb_a2cd_9457a5da7b96row115_col0\" class=\"data row115 col0\" >717</td>\n",
       "            </tr>\n",
       "            <tr>\n",
       "                        <th id=\"T_45097c2c_50df_11eb_a2cd_9457a5da7b96level0_row116\" class=\"row_heading level0 row116\" >Kenya</th>\n",
       "                        <td id=\"T_45097c2c_50df_11eb_a2cd_9457a5da7b96row116_col0\" class=\"data row116 col0\" >683</td>\n",
       "            </tr>\n",
       "            <tr>\n",
       "                        <th id=\"T_45097c2c_50df_11eb_a2cd_9457a5da7b96level0_row117\" class=\"row_heading level0 row117\" >Monaco</th>\n",
       "                        <td id=\"T_45097c2c_50df_11eb_a2cd_9457a5da7b96row117_col0\" class=\"data row117 col0\" >613</td>\n",
       "            </tr>\n",
       "            <tr>\n",
       "                        <th id=\"T_45097c2c_50df_11eb_a2cd_9457a5da7b96level0_row118\" class=\"row_heading level0 row118\" >Jamaica</th>\n",
       "                        <td id=\"T_45097c2c_50df_11eb_a2cd_9457a5da7b96row118_col0\" class=\"data row118 col0\" >520</td>\n",
       "            </tr>\n",
       "            <tr>\n",
       "                        <th id=\"T_45097c2c_50df_11eb_a2cd_9457a5da7b96level0_row119\" class=\"row_heading level0 row119\" >Guatemala</th>\n",
       "                        <td id=\"T_45097c2c_50df_11eb_a2cd_9457a5da7b96row119_col0\" class=\"data row119 col0\" >469</td>\n",
       "            </tr>\n",
       "            <tr>\n",
       "                        <th id=\"T_45097c2c_50df_11eb_a2cd_9457a5da7b96level0_row120\" class=\"row_heading level0 row120\" >Madagascar</th>\n",
       "                        <td id=\"T_45097c2c_50df_11eb_a2cd_9457a5da7b96row120_col0\" class=\"data row120 col0\" >457</td>\n",
       "            </tr>\n",
       "            <tr>\n",
       "                        <th id=\"T_45097c2c_50df_11eb_a2cd_9457a5da7b96level0_row121\" class=\"row_heading level0 row121\" >Niger</th>\n",
       "                        <td id=\"T_45097c2c_50df_11eb_a2cd_9457a5da7b96row121_col0\" class=\"data row121 col0\" >411</td>\n",
       "            </tr>\n",
       "            <tr>\n",
       "                        <th id=\"T_45097c2c_50df_11eb_a2cd_9457a5da7b96level0_row122\" class=\"row_heading level0 row122\" >Togo</th>\n",
       "                        <td id=\"T_45097c2c_50df_11eb_a2cd_9457a5da7b96row122_col0\" class=\"data row122 col0\" >393</td>\n",
       "            </tr>\n",
       "            <tr>\n",
       "                        <th id=\"T_45097c2c_50df_11eb_a2cd_9457a5da7b96level0_row123\" class=\"row_heading level0 row123\" >Barbados</th>\n",
       "                        <td id=\"T_45097c2c_50df_11eb_a2cd_9457a5da7b96row123_col0\" class=\"data row123 col0\" >386</td>\n",
       "            </tr>\n",
       "            <tr>\n",
       "                        <th id=\"T_45097c2c_50df_11eb_a2cd_9457a5da7b96level0_row124\" class=\"row_heading level0 row124\" >Uganda</th>\n",
       "                        <td id=\"T_45097c2c_50df_11eb_a2cd_9457a5da7b96row124_col0\" class=\"data row124 col0\" >348</td>\n",
       "            </tr>\n",
       "            <tr>\n",
       "                        <th id=\"T_45097c2c_50df_11eb_a2cd_9457a5da7b96level0_row125\" class=\"row_heading level0 row125\" >Maldives</th>\n",
       "                        <td id=\"T_45097c2c_50df_11eb_a2cd_9457a5da7b96row125_col0\" class=\"data row125 col0\" >346</td>\n",
       "            </tr>\n",
       "            <tr>\n",
       "                        <th id=\"T_45097c2c_50df_11eb_a2cd_9457a5da7b96level0_row126\" class=\"row_heading level0 row126\" >Zambia</th>\n",
       "                        <td id=\"T_45097c2c_50df_11eb_a2cd_9457a5da7b96row126_col0\" class=\"data row126 col0\" >308</td>\n",
       "            </tr>\n",
       "            <tr>\n",
       "                        <th id=\"T_45097c2c_50df_11eb_a2cd_9457a5da7b96level0_row127\" class=\"row_heading level0 row127\" >Ethiopia</th>\n",
       "                        <td id=\"T_45097c2c_50df_11eb_a2cd_9457a5da7b96row127_col0\" class=\"data row127 col0\" >296</td>\n",
       "            </tr>\n",
       "            <tr>\n",
       "                        <th id=\"T_45097c2c_50df_11eb_a2cd_9457a5da7b96level0_row128\" class=\"row_heading level0 row128\" >El Salvador</th>\n",
       "                        <td id=\"T_45097c2c_50df_11eb_a2cd_9457a5da7b96row128_col0\" class=\"data row128 col0\" >275</td>\n",
       "            </tr>\n",
       "            <tr>\n",
       "                        <th id=\"T_45097c2c_50df_11eb_a2cd_9457a5da7b96level0_row129\" class=\"row_heading level0 row129\" >Guinea</th>\n",
       "                        <td id=\"T_45097c2c_50df_11eb_a2cd_9457a5da7b96row129_col0\" class=\"data row129 col0\" >259</td>\n",
       "            </tr>\n",
       "            <tr>\n",
       "                        <th id=\"T_45097c2c_50df_11eb_a2cd_9457a5da7b96level0_row130\" class=\"row_heading level0 row130\" >Djibouti</th>\n",
       "                        <td id=\"T_45097c2c_50df_11eb_a2cd_9457a5da7b96row130_col0\" class=\"data row130 col0\" >247</td>\n",
       "            </tr>\n",
       "            <tr>\n",
       "                        <th id=\"T_45097c2c_50df_11eb_a2cd_9457a5da7b96level0_row131\" class=\"row_heading level0 row131\" >Tanzania</th>\n",
       "                        <td id=\"T_45097c2c_50df_11eb_a2cd_9457a5da7b96row131_col0\" class=\"data row131 col0\" >223</td>\n",
       "            </tr>\n",
       "            <tr>\n",
       "                        <th id=\"T_45097c2c_50df_11eb_a2cd_9457a5da7b96level0_row132\" class=\"row_heading level0 row132\" >Mali</th>\n",
       "                        <td id=\"T_45097c2c_50df_11eb_a2cd_9457a5da7b96row132_col0\" class=\"data row132 col0\" >212</td>\n",
       "            </tr>\n",
       "            <tr>\n",
       "                        <th id=\"T_45097c2c_50df_11eb_a2cd_9457a5da7b96level0_row133\" class=\"row_heading level0 row133\" >Guyana</th>\n",
       "                        <td id=\"T_45097c2c_50df_11eb_a2cd_9457a5da7b96row133_col0\" class=\"data row133 col0\" >202</td>\n",
       "            </tr>\n",
       "            <tr>\n",
       "                        <th id=\"T_45097c2c_50df_11eb_a2cd_9457a5da7b96level0_row134\" class=\"row_heading level0 row134\" >Mongolia</th>\n",
       "                        <td id=\"T_45097c2c_50df_11eb_a2cd_9457a5da7b96row134_col0\" class=\"data row134 col0\" >192</td>\n",
       "            </tr>\n",
       "            <tr>\n",
       "                        <th id=\"T_45097c2c_50df_11eb_a2cd_9457a5da7b96level0_row135\" class=\"row_heading level0 row135\" >Equatorial Guinea</th>\n",
       "                        <td id=\"T_45097c2c_50df_11eb_a2cd_9457a5da7b96row135_col0\" class=\"data row135 col0\" >176</td>\n",
       "            </tr>\n",
       "            <tr>\n",
       "                        <th id=\"T_45097c2c_50df_11eb_a2cd_9457a5da7b96level0_row136\" class=\"row_heading level0 row136\" >Bahamas</th>\n",
       "                        <td id=\"T_45097c2c_50df_11eb_a2cd_9457a5da7b96row136_col0\" class=\"data row136 col0\" >168</td>\n",
       "            </tr>\n",
       "            <tr>\n",
       "                        <th id=\"T_45097c2c_50df_11eb_a2cd_9457a5da7b96level0_row137\" class=\"row_heading level0 row137\" >Congo (Brazzaville)</th>\n",
       "                        <td id=\"T_45097c2c_50df_11eb_a2cd_9457a5da7b96row137_col0\" class=\"data row137 col0\" >160</td>\n",
       "            </tr>\n",
       "            <tr>\n",
       "                        <th id=\"T_45097c2c_50df_11eb_a2cd_9457a5da7b96level0_row138\" class=\"row_heading level0 row138\" >Haiti</th>\n",
       "                        <td id=\"T_45097c2c_50df_11eb_a2cd_9457a5da7b96row138_col0\" class=\"data row138 col0\" >146</td>\n",
       "            </tr>\n",
       "            <tr>\n",
       "                        <th id=\"T_45097c2c_50df_11eb_a2cd_9457a5da7b96level0_row139\" class=\"row_heading level0 row139\" >Gabon</th>\n",
       "                        <td id=\"T_45097c2c_50df_11eb_a2cd_9457a5da7b96row139_col0\" class=\"data row139 col0\" >146</td>\n",
       "            </tr>\n",
       "            <tr>\n",
       "                        <th id=\"T_45097c2c_50df_11eb_a2cd_9457a5da7b96level0_row140\" class=\"row_heading level0 row140\" >Seychelles</th>\n",
       "                        <td id=\"T_45097c2c_50df_11eb_a2cd_9457a5da7b96row140_col0\" class=\"data row140 col0\" >141</td>\n",
       "            </tr>\n",
       "            <tr>\n",
       "                        <th id=\"T_45097c2c_50df_11eb_a2cd_9457a5da7b96level0_row141\" class=\"row_heading level0 row141\" >Namibia</th>\n",
       "                        <td id=\"T_45097c2c_50df_11eb_a2cd_9457a5da7b96row141_col0\" class=\"data row141 col0\" >139</td>\n",
       "            </tr>\n",
       "            <tr>\n",
       "                        <th id=\"T_45097c2c_50df_11eb_a2cd_9457a5da7b96level0_row142\" class=\"row_heading level0 row142\" >Eritrea</th>\n",
       "                        <td id=\"T_45097c2c_50df_11eb_a2cd_9457a5da7b96row142_col0\" class=\"data row142 col0\" >124</td>\n",
       "            </tr>\n",
       "            <tr>\n",
       "                        <th id=\"T_45097c2c_50df_11eb_a2cd_9457a5da7b96level0_row143\" class=\"row_heading level0 row143\" >Suriname</th>\n",
       "                        <td id=\"T_45097c2c_50df_11eb_a2cd_9457a5da7b96row143_col0\" class=\"data row143 col0\" >118</td>\n",
       "            </tr>\n",
       "            <tr>\n",
       "                        <th id=\"T_45097c2c_50df_11eb_a2cd_9457a5da7b96level0_row144\" class=\"row_heading level0 row144\" >Dominica</th>\n",
       "                        <td id=\"T_45097c2c_50df_11eb_a2cd_9457a5da7b96row144_col0\" class=\"data row144 col0\" >115</td>\n",
       "            </tr>\n",
       "            <tr>\n",
       "                        <th id=\"T_45097c2c_50df_11eb_a2cd_9457a5da7b96level0_row145\" class=\"row_heading level0 row145\" >Benin</th>\n",
       "                        <td id=\"T_45097c2c_50df_11eb_a2cd_9457a5da7b96row145_col0\" class=\"data row145 col0\" >110</td>\n",
       "            </tr>\n",
       "            <tr>\n",
       "                        <th id=\"T_45097c2c_50df_11eb_a2cd_9457a5da7b96level0_row146\" class=\"row_heading level0 row146\" >Burma</th>\n",
       "                        <td id=\"T_45097c2c_50df_11eb_a2cd_9457a5da7b96row146_col0\" class=\"data row146 col0\" >110</td>\n",
       "            </tr>\n",
       "            <tr>\n",
       "                        <th id=\"T_45097c2c_50df_11eb_a2cd_9457a5da7b96level0_row147\" class=\"row_heading level0 row147\" >Nepal</th>\n",
       "                        <td id=\"T_45097c2c_50df_11eb_a2cd_9457a5da7b96row147_col0\" class=\"data row147 col0\" >109</td>\n",
       "            </tr>\n",
       "            <tr>\n",
       "                        <th id=\"T_45097c2c_50df_11eb_a2cd_9457a5da7b96level0_row148\" class=\"row_heading level0 row148\" >Saint Lucia</th>\n",
       "                        <td id=\"T_45097c2c_50df_11eb_a2cd_9457a5da7b96row148_col0\" class=\"data row148 col0\" >105</td>\n",
       "            </tr>\n",
       "            <tr>\n",
       "                        <th id=\"T_45097c2c_50df_11eb_a2cd_9457a5da7b96level0_row149\" class=\"row_heading level0 row149\" >Eswatini</th>\n",
       "                        <td id=\"T_45097c2c_50df_11eb_a2cd_9457a5da7b96row149_col0\" class=\"data row149 col0\" >102</td>\n",
       "            </tr>\n",
       "            <tr>\n",
       "                        <th id=\"T_45097c2c_50df_11eb_a2cd_9457a5da7b96level0_row150\" class=\"row_heading level0 row150\" >Syria</th>\n",
       "                        <td id=\"T_45097c2c_50df_11eb_a2cd_9457a5da7b96row150_col0\" class=\"data row150 col0\" >94</td>\n",
       "            </tr>\n",
       "            <tr>\n",
       "                        <th id=\"T_45097c2c_50df_11eb_a2cd_9457a5da7b96level0_row151\" class=\"row_heading level0 row151\" >Antigua and Barbuda</th>\n",
       "                        <td id=\"T_45097c2c_50df_11eb_a2cd_9457a5da7b96row151_col0\" class=\"data row151 col0\" >92</td>\n",
       "            </tr>\n",
       "            <tr>\n",
       "                        <th id=\"T_45097c2c_50df_11eb_a2cd_9457a5da7b96level0_row152\" class=\"row_heading level0 row152\" >Mozambique</th>\n",
       "                        <td id=\"T_45097c2c_50df_11eb_a2cd_9457a5da7b96row152_col0\" class=\"data row152 col0\" >86</td>\n",
       "            </tr>\n",
       "            <tr>\n",
       "                        <th id=\"T_45097c2c_50df_11eb_a2cd_9457a5da7b96level0_row153\" class=\"row_heading level0 row153\" >Grenada</th>\n",
       "                        <td id=\"T_45097c2c_50df_11eb_a2cd_9457a5da7b96row153_col0\" class=\"data row153 col0\" >83</td>\n",
       "            </tr>\n",
       "            <tr>\n",
       "                        <th id=\"T_45097c2c_50df_11eb_a2cd_9457a5da7b96level0_row154\" class=\"row_heading level0 row154\" >Laos</th>\n",
       "                        <td id=\"T_45097c2c_50df_11eb_a2cd_9457a5da7b96row154_col0\" class=\"data row154 col0\" >80</td>\n",
       "            </tr>\n",
       "            <tr>\n",
       "                        <th id=\"T_45097c2c_50df_11eb_a2cd_9457a5da7b96level0_row155\" class=\"row_heading level0 row155\" >Zimbabwe</th>\n",
       "                        <td id=\"T_45097c2c_50df_11eb_a2cd_9457a5da7b96row155_col0\" class=\"data row155 col0\" >79</td>\n",
       "            </tr>\n",
       "            <tr>\n",
       "                        <th id=\"T_45097c2c_50df_11eb_a2cd_9457a5da7b96level0_row156\" class=\"row_heading level0 row156\" >Holy See</th>\n",
       "                        <td id=\"T_45097c2c_50df_11eb_a2cd_9457a5da7b96row156_col0\" class=\"data row156 col0\" >78</td>\n",
       "            </tr>\n",
       "            <tr>\n",
       "                        <th id=\"T_45097c2c_50df_11eb_a2cd_9457a5da7b96level0_row157\" class=\"row_heading level0 row157\" >Sudan</th>\n",
       "                        <td id=\"T_45097c2c_50df_11eb_a2cd_9457a5da7b96row157_col0\" class=\"data row157 col0\" >78</td>\n",
       "            </tr>\n",
       "            <tr>\n",
       "                        <th id=\"T_45097c2c_50df_11eb_a2cd_9457a5da7b96level0_row158\" class=\"row_heading level0 row158\" >Angola</th>\n",
       "                        <td id=\"T_45097c2c_50df_11eb_a2cd_9457a5da7b96row158_col0\" class=\"data row158 col0\" >72</td>\n",
       "            </tr>\n",
       "            <tr>\n",
       "                        <th id=\"T_45097c2c_50df_11eb_a2cd_9457a5da7b96level0_row159\" class=\"row_heading level0 row159\" >Cabo Verde</th>\n",
       "                        <td id=\"T_45097c2c_50df_11eb_a2cd_9457a5da7b96row159_col0\" class=\"data row159 col0\" >67</td>\n",
       "            </tr>\n",
       "            <tr>\n",
       "                        <th id=\"T_45097c2c_50df_11eb_a2cd_9457a5da7b96level0_row160\" class=\"row_heading level0 row160\" >Fiji</th>\n",
       "                        <td id=\"T_45097c2c_50df_11eb_a2cd_9457a5da7b96row160_col0\" class=\"data row160 col0\" >66</td>\n",
       "            </tr>\n",
       "            <tr>\n",
       "                        <th id=\"T_45097c2c_50df_11eb_a2cd_9457a5da7b96level0_row161\" class=\"row_heading level0 row161\" >Libya</th>\n",
       "                        <td id=\"T_45097c2c_50df_11eb_a2cd_9457a5da7b96row161_col0\" class=\"data row161 col0\" >65</td>\n",
       "            </tr>\n",
       "            <tr>\n",
       "                        <th id=\"T_45097c2c_50df_11eb_a2cd_9457a5da7b96level0_row162\" class=\"row_heading level0 row162\" >Mauritania</th>\n",
       "                        <td id=\"T_45097c2c_50df_11eb_a2cd_9457a5da7b96row162_col0\" class=\"data row162 col0\" >64</td>\n",
       "            </tr>\n",
       "            <tr>\n",
       "                        <th id=\"T_45097c2c_50df_11eb_a2cd_9457a5da7b96level0_row163\" class=\"row_heading level0 row163\" >Bhutan</th>\n",
       "                        <td id=\"T_45097c2c_50df_11eb_a2cd_9457a5da7b96row163_col0\" class=\"data row163 col0\" >60</td>\n",
       "            </tr>\n",
       "            <tr>\n",
       "                        <th id=\"T_45097c2c_50df_11eb_a2cd_9457a5da7b96level0_row164\" class=\"row_heading level0 row164\" >Liberia</th>\n",
       "                        <td id=\"T_45097c2c_50df_11eb_a2cd_9457a5da7b96row164_col0\" class=\"data row164 col0\" >60</td>\n",
       "            </tr>\n",
       "            <tr>\n",
       "                        <th id=\"T_45097c2c_50df_11eb_a2cd_9457a5da7b96level0_row165\" class=\"row_heading level0 row165\" >Guinea-Bissau</th>\n",
       "                        <td id=\"T_45097c2c_50df_11eb_a2cd_9457a5da7b96row165_col0\" class=\"data row165 col0\" >59</td>\n",
       "            </tr>\n",
       "            <tr>\n",
       "                        <th id=\"T_45097c2c_50df_11eb_a2cd_9457a5da7b96level0_row166\" class=\"row_heading level0 row166\" >Chad</th>\n",
       "                        <td id=\"T_45097c2c_50df_11eb_a2cd_9457a5da7b96row166_col0\" class=\"data row166 col0\" >58</td>\n",
       "            </tr>\n",
       "            <tr>\n",
       "                        <th id=\"T_45097c2c_50df_11eb_a2cd_9457a5da7b96level0_row167\" class=\"row_heading level0 row167\" >Central African Republic</th>\n",
       "                        <td id=\"T_45097c2c_50df_11eb_a2cd_9457a5da7b96row167_col0\" class=\"data row167 col0\" >55</td>\n",
       "            </tr>\n",
       "            <tr>\n",
       "                        <th id=\"T_45097c2c_50df_11eb_a2cd_9457a5da7b96level0_row168\" class=\"row_heading level0 row168\" >Saint Kitts and Nevis</th>\n",
       "                        <td id=\"T_45097c2c_50df_11eb_a2cd_9457a5da7b96row168_col0\" class=\"data row168 col0\" >51</td>\n",
       "            </tr>\n",
       "            <tr>\n",
       "                        <th id=\"T_45097c2c_50df_11eb_a2cd_9457a5da7b96level0_row169\" class=\"row_heading level0 row169\" >Nicaragua</th>\n",
       "                        <td id=\"T_45097c2c_50df_11eb_a2cd_9457a5da7b96row169_col0\" class=\"data row169 col0\" >48</td>\n",
       "            </tr>\n",
       "            <tr>\n",
       "                        <th id=\"T_45097c2c_50df_11eb_a2cd_9457a5da7b96level0_row170\" class=\"row_heading level0 row170\" >Gambia</th>\n",
       "                        <td id=\"T_45097c2c_50df_11eb_a2cd_9457a5da7b96row170_col0\" class=\"data row170 col0\" >47</td>\n",
       "            </tr>\n",
       "            <tr>\n",
       "                        <th id=\"T_45097c2c_50df_11eb_a2cd_9457a5da7b96level0_row171\" class=\"row_heading level0 row171\" >Somalia</th>\n",
       "                        <td id=\"T_45097c2c_50df_11eb_a2cd_9457a5da7b96row171_col0\" class=\"data row171 col0\" >46</td>\n",
       "            </tr>\n",
       "            <tr>\n",
       "                        <th id=\"T_45097c2c_50df_11eb_a2cd_9457a5da7b96level0_row172\" class=\"row_heading level0 row172\" >MS Zaandam</th>\n",
       "                        <td id=\"T_45097c2c_50df_11eb_a2cd_9457a5da7b96row172_col0\" class=\"data row172 col0\" >35</td>\n",
       "            </tr>\n",
       "            <tr>\n",
       "                        <th id=\"T_45097c2c_50df_11eb_a2cd_9457a5da7b96level0_row173\" class=\"row_heading level0 row173\" >Belize</th>\n",
       "                        <td id=\"T_45097c2c_50df_11eb_a2cd_9457a5da7b96row173_col0\" class=\"data row173 col0\" >28</td>\n",
       "            </tr>\n",
       "            <tr>\n",
       "                        <th id=\"T_45097c2c_50df_11eb_a2cd_9457a5da7b96level0_row174\" class=\"row_heading level0 row174\" >Saint Vincent and the Grenadines</th>\n",
       "                        <td id=\"T_45097c2c_50df_11eb_a2cd_9457a5da7b96row174_col0\" class=\"data row174 col0\" >24</td>\n",
       "            </tr>\n",
       "            <tr>\n",
       "                        <th id=\"T_45097c2c_50df_11eb_a2cd_9457a5da7b96level0_row175\" class=\"row_heading level0 row175\" >Botswana</th>\n",
       "                        <td id=\"T_45097c2c_50df_11eb_a2cd_9457a5da7b96row175_col0\" class=\"data row175 col0\" >19</td>\n",
       "            </tr>\n",
       "            <tr>\n",
       "                        <th id=\"T_45097c2c_50df_11eb_a2cd_9457a5da7b96level0_row176\" class=\"row_heading level0 row176\" >Papua New Guinea</th>\n",
       "                        <td id=\"T_45097c2c_50df_11eb_a2cd_9457a5da7b96row176_col0\" class=\"data row176 col0\" >15</td>\n",
       "            </tr>\n",
       "            <tr>\n",
       "                        <th id=\"T_45097c2c_50df_11eb_a2cd_9457a5da7b96level0_row177\" class=\"row_heading level0 row177\" >Timor-Leste</th>\n",
       "                        <td id=\"T_45097c2c_50df_11eb_a2cd_9457a5da7b96row177_col0\" class=\"data row177 col0\" >13</td>\n",
       "            </tr>\n",
       "            <tr>\n",
       "                        <th id=\"T_45097c2c_50df_11eb_a2cd_9457a5da7b96level0_row178\" class=\"row_heading level0 row178\" >Burundi</th>\n",
       "                        <td id=\"T_45097c2c_50df_11eb_a2cd_9457a5da7b96row178_col0\" class=\"data row178 col0\" >10</td>\n",
       "            </tr>\n",
       "            <tr>\n",
       "                        <th id=\"T_45097c2c_50df_11eb_a2cd_9457a5da7b96level0_row179\" class=\"row_heading level0 row179\" >Sierra Leone</th>\n",
       "                        <td id=\"T_45097c2c_50df_11eb_a2cd_9457a5da7b96row179_col0\" class=\"data row179 col0\" >7</td>\n",
       "            </tr>\n",
       "            <tr>\n",
       "                        <th id=\"T_45097c2c_50df_11eb_a2cd_9457a5da7b96level0_row180\" class=\"row_heading level0 row180\" >Malawi</th>\n",
       "                        <td id=\"T_45097c2c_50df_11eb_a2cd_9457a5da7b96row180_col0\" class=\"data row180 col0\" >6</td>\n",
       "            </tr>\n",
       "    </tbody></table>"
      ],
      "text/plain": [
       "<pandas.io.formats.style.Styler at 0x1c24e831408>"
      ]
     },
     "execution_count": 15,
     "metadata": {},
     "output_type": "execute_result"
    }
   ],
   "source": [
    "total_confirm = df.groupby('Country/Region')['Confirmed'].sum().sort_values(ascending=False).to_frame()\n",
    "total_confirm.style.background_gradient(cmap='Reds')"
   ]
  },
  {
   "cell_type": "code",
   "execution_count": 56,
   "metadata": {},
   "outputs": [],
   "source": [
    "confirm_df = total_confirm.groupby('Country/Region')['Confirmed'].sum().sort_values(ascending=True).reset_index()\n",
    "confirm_df  = confirm_df.loc[confirm_df['Country/Region'].isin(['China', 'US', 'Italy', 'Spain', 'Germany', 'Iran', 'France', 'South Korea', 'United Kingdom','Switzerland'])]"
   ]
  },
  {
   "cell_type": "code",
   "execution_count": 59,
   "metadata": {},
   "outputs": [
    {
     "data": {
      "application/vnd.plotly.v1+json": {
       "config": {
        "plotlyServerURL": "https://plot.ly"
       },
       "data": [
        {
         "alignmentgroup": "True",
         "hovertemplate": "Confirmed=%{marker.color}<br>Country/Region=%{y}<extra></extra>",
         "legendgroup": "",
         "marker": {
          "color": [
           211338,
           268468,
           287007,
           593692,
           678808,
           842583,
           1078079,
           1556732,
           1819379,
           4435607
          ],
          "coloraxis": "coloraxis"
         },
         "name": "",
         "offsetgroup": "",
         "orientation": "h",
         "showlegend": false,
         "text": [
          211338,
          268468,
          287007,
          593692,
          678808,
          842583,
          1078079,
          1556732,
          1819379,
          4435607
         ],
         "textposition": "auto",
         "type": "bar",
         "x": [
          211338,
          268468,
          287007,
          593692,
          678808,
          842583,
          1078079,
          1556732,
          1819379,
          4435607
         ],
         "xaxis": "x",
         "y": [
          "Switzerland",
          "United Kingdom",
          "South Korea",
          "France",
          "Iran",
          "Germany",
          "Spain",
          "Italy",
          "US",
          "China"
         ],
         "yaxis": "y"
        }
       ],
       "layout": {
        "barmode": "relative",
        "coloraxis": {
         "colorbar": {
          "title": {
           "text": "Confirmed"
          }
         },
         "colorscale": [
          [
           0,
           "#0d0887"
          ],
          [
           0.1111111111111111,
           "#46039f"
          ],
          [
           0.2222222222222222,
           "#7201a8"
          ],
          [
           0.3333333333333333,
           "#9c179e"
          ],
          [
           0.4444444444444444,
           "#bd3786"
          ],
          [
           0.5555555555555556,
           "#d8576b"
          ],
          [
           0.6666666666666666,
           "#ed7953"
          ],
          [
           0.7777777777777778,
           "#fb9f3a"
          ],
          [
           0.8888888888888888,
           "#fdca26"
          ],
          [
           1,
           "#f0f921"
          ]
         ]
        },
        "height": 1000,
        "legend": {
         "tracegroupgap": 0
        },
        "template": {
         "data": {
          "bar": [
           {
            "error_x": {
             "color": "#2a3f5f"
            },
            "error_y": {
             "color": "#2a3f5f"
            },
            "marker": {
             "line": {
              "color": "#E5ECF6",
              "width": 0.5
             }
            },
            "type": "bar"
           }
          ],
          "barpolar": [
           {
            "marker": {
             "line": {
              "color": "#E5ECF6",
              "width": 0.5
             }
            },
            "type": "barpolar"
           }
          ],
          "carpet": [
           {
            "aaxis": {
             "endlinecolor": "#2a3f5f",
             "gridcolor": "white",
             "linecolor": "white",
             "minorgridcolor": "white",
             "startlinecolor": "#2a3f5f"
            },
            "baxis": {
             "endlinecolor": "#2a3f5f",
             "gridcolor": "white",
             "linecolor": "white",
             "minorgridcolor": "white",
             "startlinecolor": "#2a3f5f"
            },
            "type": "carpet"
           }
          ],
          "choropleth": [
           {
            "colorbar": {
             "outlinewidth": 0,
             "ticks": ""
            },
            "type": "choropleth"
           }
          ],
          "contour": [
           {
            "colorbar": {
             "outlinewidth": 0,
             "ticks": ""
            },
            "colorscale": [
             [
              0,
              "#0d0887"
             ],
             [
              0.1111111111111111,
              "#46039f"
             ],
             [
              0.2222222222222222,
              "#7201a8"
             ],
             [
              0.3333333333333333,
              "#9c179e"
             ],
             [
              0.4444444444444444,
              "#bd3786"
             ],
             [
              0.5555555555555556,
              "#d8576b"
             ],
             [
              0.6666666666666666,
              "#ed7953"
             ],
             [
              0.7777777777777778,
              "#fb9f3a"
             ],
             [
              0.8888888888888888,
              "#fdca26"
             ],
             [
              1,
              "#f0f921"
             ]
            ],
            "type": "contour"
           }
          ],
          "contourcarpet": [
           {
            "colorbar": {
             "outlinewidth": 0,
             "ticks": ""
            },
            "type": "contourcarpet"
           }
          ],
          "heatmap": [
           {
            "colorbar": {
             "outlinewidth": 0,
             "ticks": ""
            },
            "colorscale": [
             [
              0,
              "#0d0887"
             ],
             [
              0.1111111111111111,
              "#46039f"
             ],
             [
              0.2222222222222222,
              "#7201a8"
             ],
             [
              0.3333333333333333,
              "#9c179e"
             ],
             [
              0.4444444444444444,
              "#bd3786"
             ],
             [
              0.5555555555555556,
              "#d8576b"
             ],
             [
              0.6666666666666666,
              "#ed7953"
             ],
             [
              0.7777777777777778,
              "#fb9f3a"
             ],
             [
              0.8888888888888888,
              "#fdca26"
             ],
             [
              1,
              "#f0f921"
             ]
            ],
            "type": "heatmap"
           }
          ],
          "heatmapgl": [
           {
            "colorbar": {
             "outlinewidth": 0,
             "ticks": ""
            },
            "colorscale": [
             [
              0,
              "#0d0887"
             ],
             [
              0.1111111111111111,
              "#46039f"
             ],
             [
              0.2222222222222222,
              "#7201a8"
             ],
             [
              0.3333333333333333,
              "#9c179e"
             ],
             [
              0.4444444444444444,
              "#bd3786"
             ],
             [
              0.5555555555555556,
              "#d8576b"
             ],
             [
              0.6666666666666666,
              "#ed7953"
             ],
             [
              0.7777777777777778,
              "#fb9f3a"
             ],
             [
              0.8888888888888888,
              "#fdca26"
             ],
             [
              1,
              "#f0f921"
             ]
            ],
            "type": "heatmapgl"
           }
          ],
          "histogram": [
           {
            "marker": {
             "colorbar": {
              "outlinewidth": 0,
              "ticks": ""
             }
            },
            "type": "histogram"
           }
          ],
          "histogram2d": [
           {
            "colorbar": {
             "outlinewidth": 0,
             "ticks": ""
            },
            "colorscale": [
             [
              0,
              "#0d0887"
             ],
             [
              0.1111111111111111,
              "#46039f"
             ],
             [
              0.2222222222222222,
              "#7201a8"
             ],
             [
              0.3333333333333333,
              "#9c179e"
             ],
             [
              0.4444444444444444,
              "#bd3786"
             ],
             [
              0.5555555555555556,
              "#d8576b"
             ],
             [
              0.6666666666666666,
              "#ed7953"
             ],
             [
              0.7777777777777778,
              "#fb9f3a"
             ],
             [
              0.8888888888888888,
              "#fdca26"
             ],
             [
              1,
              "#f0f921"
             ]
            ],
            "type": "histogram2d"
           }
          ],
          "histogram2dcontour": [
           {
            "colorbar": {
             "outlinewidth": 0,
             "ticks": ""
            },
            "colorscale": [
             [
              0,
              "#0d0887"
             ],
             [
              0.1111111111111111,
              "#46039f"
             ],
             [
              0.2222222222222222,
              "#7201a8"
             ],
             [
              0.3333333333333333,
              "#9c179e"
             ],
             [
              0.4444444444444444,
              "#bd3786"
             ],
             [
              0.5555555555555556,
              "#d8576b"
             ],
             [
              0.6666666666666666,
              "#ed7953"
             ],
             [
              0.7777777777777778,
              "#fb9f3a"
             ],
             [
              0.8888888888888888,
              "#fdca26"
             ],
             [
              1,
              "#f0f921"
             ]
            ],
            "type": "histogram2dcontour"
           }
          ],
          "mesh3d": [
           {
            "colorbar": {
             "outlinewidth": 0,
             "ticks": ""
            },
            "type": "mesh3d"
           }
          ],
          "parcoords": [
           {
            "line": {
             "colorbar": {
              "outlinewidth": 0,
              "ticks": ""
             }
            },
            "type": "parcoords"
           }
          ],
          "pie": [
           {
            "automargin": true,
            "type": "pie"
           }
          ],
          "scatter": [
           {
            "marker": {
             "colorbar": {
              "outlinewidth": 0,
              "ticks": ""
             }
            },
            "type": "scatter"
           }
          ],
          "scatter3d": [
           {
            "line": {
             "colorbar": {
              "outlinewidth": 0,
              "ticks": ""
             }
            },
            "marker": {
             "colorbar": {
              "outlinewidth": 0,
              "ticks": ""
             }
            },
            "type": "scatter3d"
           }
          ],
          "scattercarpet": [
           {
            "marker": {
             "colorbar": {
              "outlinewidth": 0,
              "ticks": ""
             }
            },
            "type": "scattercarpet"
           }
          ],
          "scattergeo": [
           {
            "marker": {
             "colorbar": {
              "outlinewidth": 0,
              "ticks": ""
             }
            },
            "type": "scattergeo"
           }
          ],
          "scattergl": [
           {
            "marker": {
             "colorbar": {
              "outlinewidth": 0,
              "ticks": ""
             }
            },
            "type": "scattergl"
           }
          ],
          "scattermapbox": [
           {
            "marker": {
             "colorbar": {
              "outlinewidth": 0,
              "ticks": ""
             }
            },
            "type": "scattermapbox"
           }
          ],
          "scatterpolar": [
           {
            "marker": {
             "colorbar": {
              "outlinewidth": 0,
              "ticks": ""
             }
            },
            "type": "scatterpolar"
           }
          ],
          "scatterpolargl": [
           {
            "marker": {
             "colorbar": {
              "outlinewidth": 0,
              "ticks": ""
             }
            },
            "type": "scatterpolargl"
           }
          ],
          "scatterternary": [
           {
            "marker": {
             "colorbar": {
              "outlinewidth": 0,
              "ticks": ""
             }
            },
            "type": "scatterternary"
           }
          ],
          "surface": [
           {
            "colorbar": {
             "outlinewidth": 0,
             "ticks": ""
            },
            "colorscale": [
             [
              0,
              "#0d0887"
             ],
             [
              0.1111111111111111,
              "#46039f"
             ],
             [
              0.2222222222222222,
              "#7201a8"
             ],
             [
              0.3333333333333333,
              "#9c179e"
             ],
             [
              0.4444444444444444,
              "#bd3786"
             ],
             [
              0.5555555555555556,
              "#d8576b"
             ],
             [
              0.6666666666666666,
              "#ed7953"
             ],
             [
              0.7777777777777778,
              "#fb9f3a"
             ],
             [
              0.8888888888888888,
              "#fdca26"
             ],
             [
              1,
              "#f0f921"
             ]
            ],
            "type": "surface"
           }
          ],
          "table": [
           {
            "cells": {
             "fill": {
              "color": "#EBF0F8"
             },
             "line": {
              "color": "white"
             }
            },
            "header": {
             "fill": {
              "color": "#C8D4E3"
             },
             "line": {
              "color": "white"
             }
            },
            "type": "table"
           }
          ]
         },
         "layout": {
          "annotationdefaults": {
           "arrowcolor": "#2a3f5f",
           "arrowhead": 0,
           "arrowwidth": 1
          },
          "coloraxis": {
           "colorbar": {
            "outlinewidth": 0,
            "ticks": ""
           }
          },
          "colorscale": {
           "diverging": [
            [
             0,
             "#8e0152"
            ],
            [
             0.1,
             "#c51b7d"
            ],
            [
             0.2,
             "#de77ae"
            ],
            [
             0.3,
             "#f1b6da"
            ],
            [
             0.4,
             "#fde0ef"
            ],
            [
             0.5,
             "#f7f7f7"
            ],
            [
             0.6,
             "#e6f5d0"
            ],
            [
             0.7,
             "#b8e186"
            ],
            [
             0.8,
             "#7fbc41"
            ],
            [
             0.9,
             "#4d9221"
            ],
            [
             1,
             "#276419"
            ]
           ],
           "sequential": [
            [
             0,
             "#0d0887"
            ],
            [
             0.1111111111111111,
             "#46039f"
            ],
            [
             0.2222222222222222,
             "#7201a8"
            ],
            [
             0.3333333333333333,
             "#9c179e"
            ],
            [
             0.4444444444444444,
             "#bd3786"
            ],
            [
             0.5555555555555556,
             "#d8576b"
            ],
            [
             0.6666666666666666,
             "#ed7953"
            ],
            [
             0.7777777777777778,
             "#fb9f3a"
            ],
            [
             0.8888888888888888,
             "#fdca26"
            ],
            [
             1,
             "#f0f921"
            ]
           ],
           "sequentialminus": [
            [
             0,
             "#0d0887"
            ],
            [
             0.1111111111111111,
             "#46039f"
            ],
            [
             0.2222222222222222,
             "#7201a8"
            ],
            [
             0.3333333333333333,
             "#9c179e"
            ],
            [
             0.4444444444444444,
             "#bd3786"
            ],
            [
             0.5555555555555556,
             "#d8576b"
            ],
            [
             0.6666666666666666,
             "#ed7953"
            ],
            [
             0.7777777777777778,
             "#fb9f3a"
            ],
            [
             0.8888888888888888,
             "#fdca26"
            ],
            [
             1,
             "#f0f921"
            ]
           ]
          },
          "colorway": [
           "#636efa",
           "#EF553B",
           "#00cc96",
           "#ab63fa",
           "#FFA15A",
           "#19d3f3",
           "#FF6692",
           "#B6E880",
           "#FF97FF",
           "#FECB52"
          ],
          "font": {
           "color": "#2a3f5f"
          },
          "geo": {
           "bgcolor": "white",
           "lakecolor": "white",
           "landcolor": "#E5ECF6",
           "showlakes": true,
           "showland": true,
           "subunitcolor": "white"
          },
          "hoverlabel": {
           "align": "left"
          },
          "hovermode": "closest",
          "mapbox": {
           "style": "light"
          },
          "paper_bgcolor": "white",
          "plot_bgcolor": "#E5ECF6",
          "polar": {
           "angularaxis": {
            "gridcolor": "white",
            "linecolor": "white",
            "ticks": ""
           },
           "bgcolor": "#E5ECF6",
           "radialaxis": {
            "gridcolor": "white",
            "linecolor": "white",
            "ticks": ""
           }
          },
          "scene": {
           "xaxis": {
            "backgroundcolor": "#E5ECF6",
            "gridcolor": "white",
            "gridwidth": 2,
            "linecolor": "white",
            "showbackground": true,
            "ticks": "",
            "zerolinecolor": "white"
           },
           "yaxis": {
            "backgroundcolor": "#E5ECF6",
            "gridcolor": "white",
            "gridwidth": 2,
            "linecolor": "white",
            "showbackground": true,
            "ticks": "",
            "zerolinecolor": "white"
           },
           "zaxis": {
            "backgroundcolor": "#E5ECF6",
            "gridcolor": "white",
            "gridwidth": 2,
            "linecolor": "white",
            "showbackground": true,
            "ticks": "",
            "zerolinecolor": "white"
           }
          },
          "shapedefaults": {
           "line": {
            "color": "#2a3f5f"
           }
          },
          "ternary": {
           "aaxis": {
            "gridcolor": "white",
            "linecolor": "white",
            "ticks": ""
           },
           "baxis": {
            "gridcolor": "white",
            "linecolor": "white",
            "ticks": ""
           },
           "bgcolor": "#E5ECF6",
           "caxis": {
            "gridcolor": "white",
            "linecolor": "white",
            "ticks": ""
           }
          },
          "title": {
           "x": 0.05
          },
          "xaxis": {
           "automargin": true,
           "gridcolor": "white",
           "linecolor": "white",
           "ticks": "",
           "title": {
            "standoff": 15
           },
           "zerolinecolor": "white",
           "zerolinewidth": 2
          },
          "yaxis": {
           "automargin": true,
           "gridcolor": "white",
           "linecolor": "white",
           "ticks": "",
           "title": {
            "standoff": 15
           },
           "zerolinecolor": "white",
           "zerolinewidth": 2
          }
         }
        },
        "title": {
         "text": "Total confirm cases"
        },
        "xaxis": {
         "anchor": "y",
         "domain": [
          0,
          1
         ],
         "range": [
          0,
          4435607
         ],
         "title": {
          "text": "Confirmed"
         }
        },
        "yaxis": {
         "anchor": "x",
         "domain": [
          0,
          1
         ],
         "title": {
          "text": "Country/Region"
         }
        }
       }
      },
      "text/html": [
       "<div>\n",
       "        \n",
       "        \n",
       "            <div id=\"46faddfc-9365-412b-8a49-884970349acd\" class=\"plotly-graph-div\" style=\"height:1000px; width:100%;\"></div>\n",
       "            <script type=\"text/javascript\">\n",
       "                require([\"plotly\"], function(Plotly) {\n",
       "                    window.PLOTLYENV=window.PLOTLYENV || {};\n",
       "                    \n",
       "                if (document.getElementById(\"46faddfc-9365-412b-8a49-884970349acd\")) {\n",
       "                    Plotly.newPlot(\n",
       "                        '46faddfc-9365-412b-8a49-884970349acd',\n",
       "                        [{\"alignmentgroup\": \"True\", \"hovertemplate\": \"Confirmed=%{marker.color}<br>Country/Region=%{y}<extra></extra>\", \"legendgroup\": \"\", \"marker\": {\"color\": [211338, 268468, 287007, 593692, 678808, 842583, 1078079, 1556732, 1819379, 4435607], \"coloraxis\": \"coloraxis\"}, \"name\": \"\", \"offsetgroup\": \"\", \"orientation\": \"h\", \"showlegend\": false, \"text\": [211338.0, 268468.0, 287007.0, 593692.0, 678808.0, 842583.0, 1078079.0, 1556732.0, 1819379.0, 4435607.0], \"textposition\": \"auto\", \"type\": \"bar\", \"x\": [211338, 268468, 287007, 593692, 678808, 842583, 1078079, 1556732, 1819379, 4435607], \"xaxis\": \"x\", \"y\": [\"Switzerland\", \"United Kingdom\", \"South Korea\", \"France\", \"Iran\", \"Germany\", \"Spain\", \"Italy\", \"US\", \"China\"], \"yaxis\": \"y\"}],\n",
       "                        {\"barmode\": \"relative\", \"coloraxis\": {\"colorbar\": {\"title\": {\"text\": \"Confirmed\"}}, \"colorscale\": [[0.0, \"#0d0887\"], [0.1111111111111111, \"#46039f\"], [0.2222222222222222, \"#7201a8\"], [0.3333333333333333, \"#9c179e\"], [0.4444444444444444, \"#bd3786\"], [0.5555555555555556, \"#d8576b\"], [0.6666666666666666, \"#ed7953\"], [0.7777777777777778, \"#fb9f3a\"], [0.8888888888888888, \"#fdca26\"], [1.0, \"#f0f921\"]]}, \"height\": 1000, \"legend\": {\"tracegroupgap\": 0}, \"template\": {\"data\": {\"bar\": [{\"error_x\": {\"color\": \"#2a3f5f\"}, \"error_y\": {\"color\": \"#2a3f5f\"}, \"marker\": {\"line\": {\"color\": \"#E5ECF6\", \"width\": 0.5}}, \"type\": \"bar\"}], \"barpolar\": [{\"marker\": {\"line\": {\"color\": \"#E5ECF6\", \"width\": 0.5}}, \"type\": \"barpolar\"}], \"carpet\": [{\"aaxis\": {\"endlinecolor\": \"#2a3f5f\", \"gridcolor\": \"white\", \"linecolor\": \"white\", \"minorgridcolor\": \"white\", \"startlinecolor\": \"#2a3f5f\"}, \"baxis\": {\"endlinecolor\": \"#2a3f5f\", \"gridcolor\": \"white\", \"linecolor\": \"white\", \"minorgridcolor\": \"white\", \"startlinecolor\": \"#2a3f5f\"}, \"type\": \"carpet\"}], \"choropleth\": [{\"colorbar\": {\"outlinewidth\": 0, \"ticks\": \"\"}, \"type\": \"choropleth\"}], \"contour\": [{\"colorbar\": {\"outlinewidth\": 0, \"ticks\": \"\"}, \"colorscale\": [[0.0, \"#0d0887\"], [0.1111111111111111, \"#46039f\"], [0.2222222222222222, \"#7201a8\"], [0.3333333333333333, \"#9c179e\"], [0.4444444444444444, \"#bd3786\"], [0.5555555555555556, \"#d8576b\"], [0.6666666666666666, \"#ed7953\"], [0.7777777777777778, \"#fb9f3a\"], [0.8888888888888888, \"#fdca26\"], [1.0, \"#f0f921\"]], \"type\": \"contour\"}], \"contourcarpet\": [{\"colorbar\": {\"outlinewidth\": 0, \"ticks\": \"\"}, \"type\": \"contourcarpet\"}], \"heatmap\": [{\"colorbar\": {\"outlinewidth\": 0, \"ticks\": \"\"}, \"colorscale\": [[0.0, \"#0d0887\"], [0.1111111111111111, \"#46039f\"], [0.2222222222222222, \"#7201a8\"], [0.3333333333333333, \"#9c179e\"], [0.4444444444444444, \"#bd3786\"], [0.5555555555555556, \"#d8576b\"], [0.6666666666666666, \"#ed7953\"], [0.7777777777777778, \"#fb9f3a\"], [0.8888888888888888, \"#fdca26\"], [1.0, \"#f0f921\"]], \"type\": \"heatmap\"}], \"heatmapgl\": [{\"colorbar\": {\"outlinewidth\": 0, \"ticks\": \"\"}, \"colorscale\": [[0.0, \"#0d0887\"], [0.1111111111111111, \"#46039f\"], [0.2222222222222222, \"#7201a8\"], [0.3333333333333333, \"#9c179e\"], [0.4444444444444444, \"#bd3786\"], [0.5555555555555556, \"#d8576b\"], [0.6666666666666666, \"#ed7953\"], [0.7777777777777778, \"#fb9f3a\"], [0.8888888888888888, \"#fdca26\"], [1.0, \"#f0f921\"]], \"type\": \"heatmapgl\"}], \"histogram\": [{\"marker\": {\"colorbar\": {\"outlinewidth\": 0, \"ticks\": \"\"}}, \"type\": \"histogram\"}], \"histogram2d\": [{\"colorbar\": {\"outlinewidth\": 0, \"ticks\": \"\"}, \"colorscale\": [[0.0, \"#0d0887\"], [0.1111111111111111, \"#46039f\"], [0.2222222222222222, \"#7201a8\"], [0.3333333333333333, \"#9c179e\"], [0.4444444444444444, \"#bd3786\"], [0.5555555555555556, \"#d8576b\"], [0.6666666666666666, \"#ed7953\"], [0.7777777777777778, \"#fb9f3a\"], [0.8888888888888888, \"#fdca26\"], [1.0, \"#f0f921\"]], \"type\": \"histogram2d\"}], \"histogram2dcontour\": [{\"colorbar\": {\"outlinewidth\": 0, \"ticks\": \"\"}, \"colorscale\": [[0.0, \"#0d0887\"], [0.1111111111111111, \"#46039f\"], [0.2222222222222222, \"#7201a8\"], [0.3333333333333333, \"#9c179e\"], [0.4444444444444444, \"#bd3786\"], [0.5555555555555556, \"#d8576b\"], [0.6666666666666666, \"#ed7953\"], [0.7777777777777778, \"#fb9f3a\"], [0.8888888888888888, \"#fdca26\"], [1.0, \"#f0f921\"]], \"type\": \"histogram2dcontour\"}], \"mesh3d\": [{\"colorbar\": {\"outlinewidth\": 0, \"ticks\": \"\"}, \"type\": \"mesh3d\"}], \"parcoords\": [{\"line\": {\"colorbar\": {\"outlinewidth\": 0, \"ticks\": \"\"}}, \"type\": \"parcoords\"}], \"pie\": [{\"automargin\": true, \"type\": \"pie\"}], \"scatter\": [{\"marker\": {\"colorbar\": {\"outlinewidth\": 0, \"ticks\": \"\"}}, \"type\": \"scatter\"}], \"scatter3d\": [{\"line\": {\"colorbar\": {\"outlinewidth\": 0, \"ticks\": \"\"}}, \"marker\": {\"colorbar\": {\"outlinewidth\": 0, \"ticks\": \"\"}}, \"type\": \"scatter3d\"}], \"scattercarpet\": [{\"marker\": {\"colorbar\": {\"outlinewidth\": 0, \"ticks\": \"\"}}, \"type\": \"scattercarpet\"}], \"scattergeo\": [{\"marker\": {\"colorbar\": {\"outlinewidth\": 0, \"ticks\": \"\"}}, \"type\": \"scattergeo\"}], \"scattergl\": [{\"marker\": {\"colorbar\": {\"outlinewidth\": 0, \"ticks\": \"\"}}, \"type\": \"scattergl\"}], \"scattermapbox\": [{\"marker\": {\"colorbar\": {\"outlinewidth\": 0, \"ticks\": \"\"}}, \"type\": \"scattermapbox\"}], \"scatterpolar\": [{\"marker\": {\"colorbar\": {\"outlinewidth\": 0, \"ticks\": \"\"}}, \"type\": \"scatterpolar\"}], \"scatterpolargl\": [{\"marker\": {\"colorbar\": {\"outlinewidth\": 0, \"ticks\": \"\"}}, \"type\": \"scatterpolargl\"}], \"scatterternary\": [{\"marker\": {\"colorbar\": {\"outlinewidth\": 0, \"ticks\": \"\"}}, \"type\": \"scatterternary\"}], \"surface\": [{\"colorbar\": {\"outlinewidth\": 0, \"ticks\": \"\"}, \"colorscale\": [[0.0, \"#0d0887\"], [0.1111111111111111, \"#46039f\"], [0.2222222222222222, \"#7201a8\"], [0.3333333333333333, \"#9c179e\"], [0.4444444444444444, \"#bd3786\"], [0.5555555555555556, \"#d8576b\"], [0.6666666666666666, \"#ed7953\"], [0.7777777777777778, \"#fb9f3a\"], [0.8888888888888888, \"#fdca26\"], [1.0, \"#f0f921\"]], \"type\": \"surface\"}], \"table\": [{\"cells\": {\"fill\": {\"color\": \"#EBF0F8\"}, \"line\": {\"color\": \"white\"}}, \"header\": {\"fill\": {\"color\": \"#C8D4E3\"}, \"line\": {\"color\": \"white\"}}, \"type\": \"table\"}]}, \"layout\": {\"annotationdefaults\": {\"arrowcolor\": \"#2a3f5f\", \"arrowhead\": 0, \"arrowwidth\": 1}, \"coloraxis\": {\"colorbar\": {\"outlinewidth\": 0, \"ticks\": \"\"}}, \"colorscale\": {\"diverging\": [[0, \"#8e0152\"], [0.1, \"#c51b7d\"], [0.2, \"#de77ae\"], [0.3, \"#f1b6da\"], [0.4, \"#fde0ef\"], [0.5, \"#f7f7f7\"], [0.6, \"#e6f5d0\"], [0.7, \"#b8e186\"], [0.8, \"#7fbc41\"], [0.9, \"#4d9221\"], [1, \"#276419\"]], \"sequential\": [[0.0, \"#0d0887\"], [0.1111111111111111, \"#46039f\"], [0.2222222222222222, \"#7201a8\"], [0.3333333333333333, \"#9c179e\"], [0.4444444444444444, \"#bd3786\"], [0.5555555555555556, \"#d8576b\"], [0.6666666666666666, \"#ed7953\"], [0.7777777777777778, \"#fb9f3a\"], [0.8888888888888888, \"#fdca26\"], [1.0, \"#f0f921\"]], \"sequentialminus\": [[0.0, \"#0d0887\"], [0.1111111111111111, \"#46039f\"], [0.2222222222222222, \"#7201a8\"], [0.3333333333333333, \"#9c179e\"], [0.4444444444444444, \"#bd3786\"], [0.5555555555555556, \"#d8576b\"], [0.6666666666666666, \"#ed7953\"], [0.7777777777777778, \"#fb9f3a\"], [0.8888888888888888, \"#fdca26\"], [1.0, \"#f0f921\"]]}, \"colorway\": [\"#636efa\", \"#EF553B\", \"#00cc96\", \"#ab63fa\", \"#FFA15A\", \"#19d3f3\", \"#FF6692\", \"#B6E880\", \"#FF97FF\", \"#FECB52\"], \"font\": {\"color\": \"#2a3f5f\"}, \"geo\": {\"bgcolor\": \"white\", \"lakecolor\": \"white\", \"landcolor\": \"#E5ECF6\", \"showlakes\": true, \"showland\": true, \"subunitcolor\": \"white\"}, \"hoverlabel\": {\"align\": \"left\"}, \"hovermode\": \"closest\", \"mapbox\": {\"style\": \"light\"}, \"paper_bgcolor\": \"white\", \"plot_bgcolor\": \"#E5ECF6\", \"polar\": {\"angularaxis\": {\"gridcolor\": \"white\", \"linecolor\": \"white\", \"ticks\": \"\"}, \"bgcolor\": \"#E5ECF6\", \"radialaxis\": {\"gridcolor\": \"white\", \"linecolor\": \"white\", \"ticks\": \"\"}}, \"scene\": {\"xaxis\": {\"backgroundcolor\": \"#E5ECF6\", \"gridcolor\": \"white\", \"gridwidth\": 2, \"linecolor\": \"white\", \"showbackground\": true, \"ticks\": \"\", \"zerolinecolor\": \"white\"}, \"yaxis\": {\"backgroundcolor\": \"#E5ECF6\", \"gridcolor\": \"white\", \"gridwidth\": 2, \"linecolor\": \"white\", \"showbackground\": true, \"ticks\": \"\", \"zerolinecolor\": \"white\"}, \"zaxis\": {\"backgroundcolor\": \"#E5ECF6\", \"gridcolor\": \"white\", \"gridwidth\": 2, \"linecolor\": \"white\", \"showbackground\": true, \"ticks\": \"\", \"zerolinecolor\": \"white\"}}, \"shapedefaults\": {\"line\": {\"color\": \"#2a3f5f\"}}, \"ternary\": {\"aaxis\": {\"gridcolor\": \"white\", \"linecolor\": \"white\", \"ticks\": \"\"}, \"baxis\": {\"gridcolor\": \"white\", \"linecolor\": \"white\", \"ticks\": \"\"}, \"bgcolor\": \"#E5ECF6\", \"caxis\": {\"gridcolor\": \"white\", \"linecolor\": \"white\", \"ticks\": \"\"}}, \"title\": {\"x\": 0.05}, \"xaxis\": {\"automargin\": true, \"gridcolor\": \"white\", \"linecolor\": \"white\", \"ticks\": \"\", \"title\": {\"standoff\": 15}, \"zerolinecolor\": \"white\", \"zerolinewidth\": 2}, \"yaxis\": {\"automargin\": true, \"gridcolor\": \"white\", \"linecolor\": \"white\", \"ticks\": \"\", \"title\": {\"standoff\": 15}, \"zerolinecolor\": \"white\", \"zerolinewidth\": 2}}}, \"title\": {\"text\": \"Total confirm cases\"}, \"xaxis\": {\"anchor\": \"y\", \"domain\": [0.0, 1.0], \"range\": [0, 4435607], \"title\": {\"text\": \"Confirmed\"}}, \"yaxis\": {\"anchor\": \"x\", \"domain\": [0.0, 1.0], \"title\": {\"text\": \"Country/Region\"}}},\n",
       "                        {\"responsive\": true}\n",
       "                    ).then(function(){\n",
       "                            \n",
       "var gd = document.getElementById('46faddfc-9365-412b-8a49-884970349acd');\n",
       "var x = new MutationObserver(function (mutations, observer) {{\n",
       "        var display = window.getComputedStyle(gd).display;\n",
       "        if (!display || display === 'none') {{\n",
       "            console.log([gd, 'removed!']);\n",
       "            Plotly.purge(gd);\n",
       "            observer.disconnect();\n",
       "        }}\n",
       "}});\n",
       "\n",
       "// Listen for the removal of the full notebook cells\n",
       "var notebookContainer = gd.closest('#notebook-container');\n",
       "if (notebookContainer) {{\n",
       "    x.observe(notebookContainer, {childList: true});\n",
       "}}\n",
       "\n",
       "// Listen for the clearing of the current output cell\n",
       "var outputEl = gd.closest('.output');\n",
       "if (outputEl) {{\n",
       "    x.observe(outputEl, {childList: true});\n",
       "}}\n",
       "\n",
       "                        })\n",
       "                };\n",
       "                });\n",
       "            </script>\n",
       "        </div>"
      ]
     },
     "metadata": {},
     "output_type": "display_data"
    }
   ],
   "source": [
    "data = px.data.gapminder()\n",
    "\n",
    "fig = px.bar(confirm_df,x = 'Confirmed',y = 'Country/Region', title = 'Total confirm cases', text = 'Confirmed',\n",
    "            orientation='h', \n",
    "             height=1000,\n",
    "             color='Confirmed',\n",
    "             range_x = [0, max(confirm_df['Confirmed'])])\n",
    "                                           \n",
    "fig.show()"
   ]
  },
  {
   "cell_type": "markdown",
   "metadata": {},
   "source": [
    "### Top 5 countries with highest confirmed cases in each month"
   ]
  },
  {
   "cell_type": "code",
   "execution_count": 103,
   "metadata": {},
   "outputs": [
    {
     "data": {
      "text/plain": [
       "Country/Region    Date      \n",
       "China             2020-01-31      38008\n",
       "Thailand          2020-01-31         94\n",
       "Japan             2020-01-31         56\n",
       "Singapore         2020-01-31         53\n",
       "Taiwan*           2020-01-31         52\n",
       "China             2020-02-29    1634869\n",
       "South Korea       2020-02-29      12128\n",
       "Diamond Princess  2020-02-29      10076\n",
       "Italy             2020-02-29       3966\n",
       "Japan             2020-02-29       2334\n",
       "China             2020-03-31    2515426\n",
       "Italy             2020-03-31    1207121\n",
       "US                2020-03-31    1086308\n",
       "Spain             2020-03-31     742546\n",
       "Germany           2020-03-31     588179\n",
       "US                2020-04-30     732411\n",
       "Italy             2020-04-30     345643\n",
       "Spain             2020-04-30     335382\n",
       "Germany           2020-04-30     253825\n",
       "China             2020-04-30     247304\n",
       "Name: Confirmed, dtype: int64"
      ]
     },
     "execution_count": 103,
     "metadata": {},
     "output_type": "execute_result"
    }
   ],
   "source": [
    "top_5 = df.set_index('Date').groupby('Country/Region').resample('M', how='sum')\n",
    "confirmed = top_5[\"Confirmed\"].groupby(level=1, group_keys=False)\n",
    "confirmed.nlargest(5)"
   ]
  },
  {
   "cell_type": "code",
   "execution_count": null,
   "metadata": {},
   "outputs": [],
   "source": []
  },
  {
   "cell_type": "markdown",
   "metadata": {},
   "source": [
    "### Normal distribution graph of death rate  (deaths/confirmed)  across countries along with mean, median & standard deviations for death rate"
   ]
  },
  {
   "cell_type": "markdown",
   "metadata": {},
   "source": [
    "Here showing graph for US,China, Italy.\n",
    "It can be plotted for all countries in same way"
   ]
  },
  {
   "cell_type": "code",
   "execution_count": 133,
   "metadata": {},
   "outputs": [],
   "source": [
    "df['death_rate'] = df['Deaths']/df['Confirmed']"
   ]
  },
  {
   "cell_type": "code",
   "execution_count": 136,
   "metadata": {},
   "outputs": [],
   "source": [
    "death_rate = pd.DataFrame()\n",
    "death_rate  = df.loc[df['Country/Region'].isin(['China', 'US', 'Italy'])]"
   ]
  },
  {
   "cell_type": "code",
   "execution_count": 138,
   "metadata": {},
   "outputs": [
    {
     "data": {
      "application/vnd.plotly.v1+json": {
       "config": {
        "plotlyServerURL": "https://plot.ly"
       },
       "data": [
        {
         "alignmentgroup": "True",
         "bingroup": "x",
         "hovertemplate": "Country/Region=China<br>Deaths=%{x}<br>count of Confirmed=%{y}<extra></extra>",
         "legendgroup": "China",
         "marker": {
          "color": "#636efa"
         },
         "name": "China",
         "offsetgroup": "China",
         "orientation": "v",
         "showlegend": true,
         "type": "histogram",
         "x": [
          17,
          18,
          26,
          42,
          56,
          82,
          131,
          133,
          171,
          213,
          259,
          361,
          425,
          491,
          563,
          633,
          718,
          805,
          905,
          1012,
          1112,
          1117,
          1369,
          1521,
          1663,
          1766,
          1864,
          2003,
          2116,
          2238,
          2238,
          2443,
          2445,
          2595,
          2665,
          2717,
          2746,
          2790,
          2837,
          2872,
          2914,
          2947,
          2983,
          3015,
          3044,
          3072,
          3100,
          3123,
          3139,
          3161,
          3172,
          3180,
          3193,
          3203,
          3217,
          3230,
          3241,
          3249,
          3253,
          3259,
          3274,
          3274,
          3281,
          3285,
          3291,
          3296,
          3299,
          3304,
          3308,
          3309,
          3316,
          3322,
          3326
         ],
         "xaxis": "x",
         "y": [
          548,
          643,
          920,
          1406,
          2075,
          2877,
          5509,
          6087,
          8141,
          9802,
          11891,
          16630,
          19716,
          23707,
          27440,
          30587,
          34110,
          36814,
          39829,
          42354,
          44386,
          46267,
          59895,
          66358,
          68413,
          70513,
          72434,
          74211,
          74619,
          75077,
          75550,
          77001,
          77022,
          77241,
          77754,
          78166,
          78600,
          78928,
          79356,
          79932,
          80136,
          80261,
          80386,
          80537,
          80690,
          80770,
          80823,
          80860,
          80887,
          80921,
          80932,
          80945,
          80977,
          81003,
          81033,
          81058,
          81102,
          81156,
          81250,
          81305,
          81435,
          81498,
          81591,
          81661,
          81782,
          81897,
          81999,
          82122,
          82198,
          82279,
          82361,
          82432,
          82511
         ],
         "yaxis": "y"
        },
        {
         "alignmentgroup": "True",
         "hovertemplate": "Country/Region=China<br>Deaths=%{x}<extra></extra>",
         "legendgroup": "China",
         "marker": {
          "color": "#636efa"
         },
         "name": "China",
         "notched": true,
         "offsetgroup": "China",
         "showlegend": false,
         "type": "box",
         "x": [
          17,
          18,
          26,
          42,
          56,
          82,
          131,
          133,
          171,
          213,
          259,
          361,
          425,
          491,
          563,
          633,
          718,
          805,
          905,
          1012,
          1112,
          1117,
          1369,
          1521,
          1663,
          1766,
          1864,
          2003,
          2116,
          2238,
          2238,
          2443,
          2445,
          2595,
          2665,
          2717,
          2746,
          2790,
          2837,
          2872,
          2914,
          2947,
          2983,
          3015,
          3044,
          3072,
          3100,
          3123,
          3139,
          3161,
          3172,
          3180,
          3193,
          3203,
          3217,
          3230,
          3241,
          3249,
          3253,
          3259,
          3274,
          3274,
          3281,
          3285,
          3291,
          3296,
          3299,
          3304,
          3308,
          3309,
          3316,
          3322,
          3326
         ],
         "xaxis": "x2",
         "yaxis": "y2"
        },
        {
         "alignmentgroup": "True",
         "bingroup": "x",
         "hovertemplate": "Country/Region=Italy<br>Deaths=%{x}<br>count of Confirmed=%{y}<extra></extra>",
         "legendgroup": "Italy",
         "marker": {
          "color": "#EF553B"
         },
         "name": "Italy",
         "offsetgroup": "Italy",
         "orientation": "v",
         "showlegend": true,
         "type": "histogram",
         "x": [
          0,
          0,
          0,
          0,
          0,
          0,
          0,
          0,
          0,
          0,
          0,
          0,
          0,
          0,
          0,
          0,
          0,
          0,
          0,
          0,
          0,
          0,
          0,
          0,
          0,
          0,
          0,
          0,
          0,
          0,
          1,
          2,
          3,
          7,
          10,
          12,
          17,
          21,
          29,
          34,
          52,
          79,
          107,
          148,
          197,
          233,
          366,
          463,
          631,
          827,
          827,
          1266,
          1441,
          1809,
          2158,
          2503,
          2978,
          3405,
          4032,
          4825,
          5476,
          6077,
          6820,
          7503,
          8215,
          9134,
          10023,
          10779,
          11591,
          12428,
          13155,
          13915,
          14681
         ],
         "xaxis": "x",
         "y": [
          0,
          0,
          0,
          0,
          0,
          0,
          0,
          0,
          0,
          2,
          2,
          2,
          2,
          2,
          2,
          2,
          3,
          3,
          3,
          3,
          3,
          3,
          3,
          3,
          3,
          3,
          3,
          3,
          3,
          3,
          20,
          62,
          155,
          229,
          322,
          453,
          655,
          888,
          1128,
          1694,
          2036,
          2502,
          3089,
          3858,
          4636,
          5883,
          7375,
          9172,
          10149,
          12462,
          12462,
          17660,
          21157,
          24747,
          27980,
          31506,
          35713,
          41035,
          47021,
          53578,
          59138,
          63927,
          69176,
          74386,
          80589,
          86498,
          92472,
          97689,
          101739,
          105792,
          110574,
          115242,
          119827
         ],
         "yaxis": "y"
        },
        {
         "alignmentgroup": "True",
         "hovertemplate": "Country/Region=Italy<br>Deaths=%{x}<extra></extra>",
         "legendgroup": "Italy",
         "marker": {
          "color": "#EF553B"
         },
         "name": "Italy",
         "notched": true,
         "offsetgroup": "Italy",
         "showlegend": false,
         "type": "box",
         "x": [
          0,
          0,
          0,
          0,
          0,
          0,
          0,
          0,
          0,
          0,
          0,
          0,
          0,
          0,
          0,
          0,
          0,
          0,
          0,
          0,
          0,
          0,
          0,
          0,
          0,
          0,
          0,
          0,
          0,
          0,
          1,
          2,
          3,
          7,
          10,
          12,
          17,
          21,
          29,
          34,
          52,
          79,
          107,
          148,
          197,
          233,
          366,
          463,
          631,
          827,
          827,
          1266,
          1441,
          1809,
          2158,
          2503,
          2978,
          3405,
          4032,
          4825,
          5476,
          6077,
          6820,
          7503,
          8215,
          9134,
          10023,
          10779,
          11591,
          12428,
          13155,
          13915,
          14681
         ],
         "xaxis": "x2",
         "yaxis": "y2"
        },
        {
         "alignmentgroup": "True",
         "bingroup": "x",
         "hovertemplate": "Country/Region=US<br>Deaths=%{x}<br>count of Confirmed=%{y}<extra></extra>",
         "legendgroup": "US",
         "marker": {
          "color": "#00cc96"
         },
         "name": "US",
         "offsetgroup": "US",
         "orientation": "v",
         "showlegend": true,
         "type": "histogram",
         "x": [
          0,
          0,
          0,
          0,
          0,
          0,
          0,
          0,
          0,
          0,
          0,
          0,
          0,
          0,
          0,
          0,
          0,
          0,
          0,
          0,
          0,
          0,
          0,
          0,
          0,
          0,
          0,
          0,
          0,
          0,
          0,
          0,
          0,
          0,
          0,
          0,
          0,
          0,
          1,
          1,
          6,
          7,
          11,
          12,
          14,
          17,
          21,
          22,
          28,
          36,
          40,
          47,
          54,
          63,
          85,
          108,
          118,
          200,
          244,
          307,
          417,
          557,
          706,
          942,
          1209,
          1581,
          2026,
          2467,
          2978,
          3873,
          4757,
          5926,
          7087
         ],
         "xaxis": "x",
         "y": [
          1,
          1,
          2,
          2,
          5,
          5,
          5,
          5,
          5,
          7,
          8,
          8,
          11,
          11,
          11,
          11,
          11,
          11,
          11,
          11,
          12,
          12,
          13,
          13,
          13,
          13,
          13,
          13,
          13,
          13,
          15,
          15,
          15,
          51,
          51,
          57,
          58,
          60,
          68,
          74,
          98,
          118,
          149,
          217,
          262,
          402,
          518,
          583,
          959,
          1281,
          1663,
          2179,
          2727,
          3499,
          4632,
          6421,
          7783,
          13677,
          19100,
          25489,
          33276,
          43847,
          53740,
          65778,
          83836,
          101657,
          121478,
          140886,
          161807,
          188172,
          213372,
          243453,
          275586
         ],
         "yaxis": "y"
        },
        {
         "alignmentgroup": "True",
         "hovertemplate": "Country/Region=US<br>Deaths=%{x}<extra></extra>",
         "legendgroup": "US",
         "marker": {
          "color": "#00cc96"
         },
         "name": "US",
         "notched": true,
         "offsetgroup": "US",
         "showlegend": false,
         "type": "box",
         "x": [
          0,
          0,
          0,
          0,
          0,
          0,
          0,
          0,
          0,
          0,
          0,
          0,
          0,
          0,
          0,
          0,
          0,
          0,
          0,
          0,
          0,
          0,
          0,
          0,
          0,
          0,
          0,
          0,
          0,
          0,
          0,
          0,
          0,
          0,
          0,
          0,
          0,
          0,
          1,
          1,
          6,
          7,
          11,
          12,
          14,
          17,
          21,
          22,
          28,
          36,
          40,
          47,
          54,
          63,
          85,
          108,
          118,
          200,
          244,
          307,
          417,
          557,
          706,
          942,
          1209,
          1581,
          2026,
          2467,
          2978,
          3873,
          4757,
          5926,
          7087
         ],
         "xaxis": "x2",
         "yaxis": "y2"
        }
       ],
       "layout": {
        "barmode": "relative",
        "legend": {
         "title": {
          "text": "Country/Region"
         },
         "tracegroupgap": 0
        },
        "margin": {
         "t": 60
        },
        "template": {
         "data": {
          "bar": [
           {
            "error_x": {
             "color": "#2a3f5f"
            },
            "error_y": {
             "color": "#2a3f5f"
            },
            "marker": {
             "line": {
              "color": "#E5ECF6",
              "width": 0.5
             }
            },
            "type": "bar"
           }
          ],
          "barpolar": [
           {
            "marker": {
             "line": {
              "color": "#E5ECF6",
              "width": 0.5
             }
            },
            "type": "barpolar"
           }
          ],
          "carpet": [
           {
            "aaxis": {
             "endlinecolor": "#2a3f5f",
             "gridcolor": "white",
             "linecolor": "white",
             "minorgridcolor": "white",
             "startlinecolor": "#2a3f5f"
            },
            "baxis": {
             "endlinecolor": "#2a3f5f",
             "gridcolor": "white",
             "linecolor": "white",
             "minorgridcolor": "white",
             "startlinecolor": "#2a3f5f"
            },
            "type": "carpet"
           }
          ],
          "choropleth": [
           {
            "colorbar": {
             "outlinewidth": 0,
             "ticks": ""
            },
            "type": "choropleth"
           }
          ],
          "contour": [
           {
            "colorbar": {
             "outlinewidth": 0,
             "ticks": ""
            },
            "colorscale": [
             [
              0,
              "#0d0887"
             ],
             [
              0.1111111111111111,
              "#46039f"
             ],
             [
              0.2222222222222222,
              "#7201a8"
             ],
             [
              0.3333333333333333,
              "#9c179e"
             ],
             [
              0.4444444444444444,
              "#bd3786"
             ],
             [
              0.5555555555555556,
              "#d8576b"
             ],
             [
              0.6666666666666666,
              "#ed7953"
             ],
             [
              0.7777777777777778,
              "#fb9f3a"
             ],
             [
              0.8888888888888888,
              "#fdca26"
             ],
             [
              1,
              "#f0f921"
             ]
            ],
            "type": "contour"
           }
          ],
          "contourcarpet": [
           {
            "colorbar": {
             "outlinewidth": 0,
             "ticks": ""
            },
            "type": "contourcarpet"
           }
          ],
          "heatmap": [
           {
            "colorbar": {
             "outlinewidth": 0,
             "ticks": ""
            },
            "colorscale": [
             [
              0,
              "#0d0887"
             ],
             [
              0.1111111111111111,
              "#46039f"
             ],
             [
              0.2222222222222222,
              "#7201a8"
             ],
             [
              0.3333333333333333,
              "#9c179e"
             ],
             [
              0.4444444444444444,
              "#bd3786"
             ],
             [
              0.5555555555555556,
              "#d8576b"
             ],
             [
              0.6666666666666666,
              "#ed7953"
             ],
             [
              0.7777777777777778,
              "#fb9f3a"
             ],
             [
              0.8888888888888888,
              "#fdca26"
             ],
             [
              1,
              "#f0f921"
             ]
            ],
            "type": "heatmap"
           }
          ],
          "heatmapgl": [
           {
            "colorbar": {
             "outlinewidth": 0,
             "ticks": ""
            },
            "colorscale": [
             [
              0,
              "#0d0887"
             ],
             [
              0.1111111111111111,
              "#46039f"
             ],
             [
              0.2222222222222222,
              "#7201a8"
             ],
             [
              0.3333333333333333,
              "#9c179e"
             ],
             [
              0.4444444444444444,
              "#bd3786"
             ],
             [
              0.5555555555555556,
              "#d8576b"
             ],
             [
              0.6666666666666666,
              "#ed7953"
             ],
             [
              0.7777777777777778,
              "#fb9f3a"
             ],
             [
              0.8888888888888888,
              "#fdca26"
             ],
             [
              1,
              "#f0f921"
             ]
            ],
            "type": "heatmapgl"
           }
          ],
          "histogram": [
           {
            "marker": {
             "colorbar": {
              "outlinewidth": 0,
              "ticks": ""
             }
            },
            "type": "histogram"
           }
          ],
          "histogram2d": [
           {
            "colorbar": {
             "outlinewidth": 0,
             "ticks": ""
            },
            "colorscale": [
             [
              0,
              "#0d0887"
             ],
             [
              0.1111111111111111,
              "#46039f"
             ],
             [
              0.2222222222222222,
              "#7201a8"
             ],
             [
              0.3333333333333333,
              "#9c179e"
             ],
             [
              0.4444444444444444,
              "#bd3786"
             ],
             [
              0.5555555555555556,
              "#d8576b"
             ],
             [
              0.6666666666666666,
              "#ed7953"
             ],
             [
              0.7777777777777778,
              "#fb9f3a"
             ],
             [
              0.8888888888888888,
              "#fdca26"
             ],
             [
              1,
              "#f0f921"
             ]
            ],
            "type": "histogram2d"
           }
          ],
          "histogram2dcontour": [
           {
            "colorbar": {
             "outlinewidth": 0,
             "ticks": ""
            },
            "colorscale": [
             [
              0,
              "#0d0887"
             ],
             [
              0.1111111111111111,
              "#46039f"
             ],
             [
              0.2222222222222222,
              "#7201a8"
             ],
             [
              0.3333333333333333,
              "#9c179e"
             ],
             [
              0.4444444444444444,
              "#bd3786"
             ],
             [
              0.5555555555555556,
              "#d8576b"
             ],
             [
              0.6666666666666666,
              "#ed7953"
             ],
             [
              0.7777777777777778,
              "#fb9f3a"
             ],
             [
              0.8888888888888888,
              "#fdca26"
             ],
             [
              1,
              "#f0f921"
             ]
            ],
            "type": "histogram2dcontour"
           }
          ],
          "mesh3d": [
           {
            "colorbar": {
             "outlinewidth": 0,
             "ticks": ""
            },
            "type": "mesh3d"
           }
          ],
          "parcoords": [
           {
            "line": {
             "colorbar": {
              "outlinewidth": 0,
              "ticks": ""
             }
            },
            "type": "parcoords"
           }
          ],
          "pie": [
           {
            "automargin": true,
            "type": "pie"
           }
          ],
          "scatter": [
           {
            "marker": {
             "colorbar": {
              "outlinewidth": 0,
              "ticks": ""
             }
            },
            "type": "scatter"
           }
          ],
          "scatter3d": [
           {
            "line": {
             "colorbar": {
              "outlinewidth": 0,
              "ticks": ""
             }
            },
            "marker": {
             "colorbar": {
              "outlinewidth": 0,
              "ticks": ""
             }
            },
            "type": "scatter3d"
           }
          ],
          "scattercarpet": [
           {
            "marker": {
             "colorbar": {
              "outlinewidth": 0,
              "ticks": ""
             }
            },
            "type": "scattercarpet"
           }
          ],
          "scattergeo": [
           {
            "marker": {
             "colorbar": {
              "outlinewidth": 0,
              "ticks": ""
             }
            },
            "type": "scattergeo"
           }
          ],
          "scattergl": [
           {
            "marker": {
             "colorbar": {
              "outlinewidth": 0,
              "ticks": ""
             }
            },
            "type": "scattergl"
           }
          ],
          "scattermapbox": [
           {
            "marker": {
             "colorbar": {
              "outlinewidth": 0,
              "ticks": ""
             }
            },
            "type": "scattermapbox"
           }
          ],
          "scatterpolar": [
           {
            "marker": {
             "colorbar": {
              "outlinewidth": 0,
              "ticks": ""
             }
            },
            "type": "scatterpolar"
           }
          ],
          "scatterpolargl": [
           {
            "marker": {
             "colorbar": {
              "outlinewidth": 0,
              "ticks": ""
             }
            },
            "type": "scatterpolargl"
           }
          ],
          "scatterternary": [
           {
            "marker": {
             "colorbar": {
              "outlinewidth": 0,
              "ticks": ""
             }
            },
            "type": "scatterternary"
           }
          ],
          "surface": [
           {
            "colorbar": {
             "outlinewidth": 0,
             "ticks": ""
            },
            "colorscale": [
             [
              0,
              "#0d0887"
             ],
             [
              0.1111111111111111,
              "#46039f"
             ],
             [
              0.2222222222222222,
              "#7201a8"
             ],
             [
              0.3333333333333333,
              "#9c179e"
             ],
             [
              0.4444444444444444,
              "#bd3786"
             ],
             [
              0.5555555555555556,
              "#d8576b"
             ],
             [
              0.6666666666666666,
              "#ed7953"
             ],
             [
              0.7777777777777778,
              "#fb9f3a"
             ],
             [
              0.8888888888888888,
              "#fdca26"
             ],
             [
              1,
              "#f0f921"
             ]
            ],
            "type": "surface"
           }
          ],
          "table": [
           {
            "cells": {
             "fill": {
              "color": "#EBF0F8"
             },
             "line": {
              "color": "white"
             }
            },
            "header": {
             "fill": {
              "color": "#C8D4E3"
             },
             "line": {
              "color": "white"
             }
            },
            "type": "table"
           }
          ]
         },
         "layout": {
          "annotationdefaults": {
           "arrowcolor": "#2a3f5f",
           "arrowhead": 0,
           "arrowwidth": 1
          },
          "coloraxis": {
           "colorbar": {
            "outlinewidth": 0,
            "ticks": ""
           }
          },
          "colorscale": {
           "diverging": [
            [
             0,
             "#8e0152"
            ],
            [
             0.1,
             "#c51b7d"
            ],
            [
             0.2,
             "#de77ae"
            ],
            [
             0.3,
             "#f1b6da"
            ],
            [
             0.4,
             "#fde0ef"
            ],
            [
             0.5,
             "#f7f7f7"
            ],
            [
             0.6,
             "#e6f5d0"
            ],
            [
             0.7,
             "#b8e186"
            ],
            [
             0.8,
             "#7fbc41"
            ],
            [
             0.9,
             "#4d9221"
            ],
            [
             1,
             "#276419"
            ]
           ],
           "sequential": [
            [
             0,
             "#0d0887"
            ],
            [
             0.1111111111111111,
             "#46039f"
            ],
            [
             0.2222222222222222,
             "#7201a8"
            ],
            [
             0.3333333333333333,
             "#9c179e"
            ],
            [
             0.4444444444444444,
             "#bd3786"
            ],
            [
             0.5555555555555556,
             "#d8576b"
            ],
            [
             0.6666666666666666,
             "#ed7953"
            ],
            [
             0.7777777777777778,
             "#fb9f3a"
            ],
            [
             0.8888888888888888,
             "#fdca26"
            ],
            [
             1,
             "#f0f921"
            ]
           ],
           "sequentialminus": [
            [
             0,
             "#0d0887"
            ],
            [
             0.1111111111111111,
             "#46039f"
            ],
            [
             0.2222222222222222,
             "#7201a8"
            ],
            [
             0.3333333333333333,
             "#9c179e"
            ],
            [
             0.4444444444444444,
             "#bd3786"
            ],
            [
             0.5555555555555556,
             "#d8576b"
            ],
            [
             0.6666666666666666,
             "#ed7953"
            ],
            [
             0.7777777777777778,
             "#fb9f3a"
            ],
            [
             0.8888888888888888,
             "#fdca26"
            ],
            [
             1,
             "#f0f921"
            ]
           ]
          },
          "colorway": [
           "#636efa",
           "#EF553B",
           "#00cc96",
           "#ab63fa",
           "#FFA15A",
           "#19d3f3",
           "#FF6692",
           "#B6E880",
           "#FF97FF",
           "#FECB52"
          ],
          "font": {
           "color": "#2a3f5f"
          },
          "geo": {
           "bgcolor": "white",
           "lakecolor": "white",
           "landcolor": "#E5ECF6",
           "showlakes": true,
           "showland": true,
           "subunitcolor": "white"
          },
          "hoverlabel": {
           "align": "left"
          },
          "hovermode": "closest",
          "mapbox": {
           "style": "light"
          },
          "paper_bgcolor": "white",
          "plot_bgcolor": "#E5ECF6",
          "polar": {
           "angularaxis": {
            "gridcolor": "white",
            "linecolor": "white",
            "ticks": ""
           },
           "bgcolor": "#E5ECF6",
           "radialaxis": {
            "gridcolor": "white",
            "linecolor": "white",
            "ticks": ""
           }
          },
          "scene": {
           "xaxis": {
            "backgroundcolor": "#E5ECF6",
            "gridcolor": "white",
            "gridwidth": 2,
            "linecolor": "white",
            "showbackground": true,
            "ticks": "",
            "zerolinecolor": "white"
           },
           "yaxis": {
            "backgroundcolor": "#E5ECF6",
            "gridcolor": "white",
            "gridwidth": 2,
            "linecolor": "white",
            "showbackground": true,
            "ticks": "",
            "zerolinecolor": "white"
           },
           "zaxis": {
            "backgroundcolor": "#E5ECF6",
            "gridcolor": "white",
            "gridwidth": 2,
            "linecolor": "white",
            "showbackground": true,
            "ticks": "",
            "zerolinecolor": "white"
           }
          },
          "shapedefaults": {
           "line": {
            "color": "#2a3f5f"
           }
          },
          "ternary": {
           "aaxis": {
            "gridcolor": "white",
            "linecolor": "white",
            "ticks": ""
           },
           "baxis": {
            "gridcolor": "white",
            "linecolor": "white",
            "ticks": ""
           },
           "bgcolor": "#E5ECF6",
           "caxis": {
            "gridcolor": "white",
            "linecolor": "white",
            "ticks": ""
           }
          },
          "title": {
           "x": 0.05
          },
          "xaxis": {
           "automargin": true,
           "gridcolor": "white",
           "linecolor": "white",
           "ticks": "",
           "title": {
            "standoff": 15
           },
           "zerolinecolor": "white",
           "zerolinewidth": 2
          },
          "yaxis": {
           "automargin": true,
           "gridcolor": "white",
           "linecolor": "white",
           "ticks": "",
           "title": {
            "standoff": 15
           },
           "zerolinecolor": "white",
           "zerolinewidth": 2
          }
         }
        },
        "xaxis": {
         "anchor": "y",
         "domain": [
          0,
          1
         ],
         "title": {
          "text": "Deaths"
         }
        },
        "xaxis2": {
         "anchor": "y2",
         "domain": [
          0,
          1
         ],
         "matches": "x",
         "showgrid": true,
         "showticklabels": false
        },
        "yaxis": {
         "anchor": "x",
         "domain": [
          0,
          0.7326
         ],
         "title": {
          "text": "count of Confirmed"
         }
        },
        "yaxis2": {
         "anchor": "x2",
         "domain": [
          0.7426,
          1
         ],
         "matches": "y2",
         "showgrid": false,
         "showline": false,
         "showticklabels": false,
         "ticks": ""
        }
       }
      },
      "text/html": [
       "<div>\n",
       "        \n",
       "        \n",
       "            <div id=\"9e6a7bdb-36d7-4a0e-998e-3823ded27626\" class=\"plotly-graph-div\" style=\"height:525px; width:100%;\"></div>\n",
       "            <script type=\"text/javascript\">\n",
       "                require([\"plotly\"], function(Plotly) {\n",
       "                    window.PLOTLYENV=window.PLOTLYENV || {};\n",
       "                    \n",
       "                if (document.getElementById(\"9e6a7bdb-36d7-4a0e-998e-3823ded27626\")) {\n",
       "                    Plotly.newPlot(\n",
       "                        '9e6a7bdb-36d7-4a0e-998e-3823ded27626',\n",
       "                        [{\"alignmentgroup\": \"True\", \"bingroup\": \"x\", \"hovertemplate\": \"Country/Region=China<br>Deaths=%{x}<br>count of Confirmed=%{y}<extra></extra>\", \"legendgroup\": \"China\", \"marker\": {\"color\": \"#636efa\"}, \"name\": \"China\", \"offsetgroup\": \"China\", \"orientation\": \"v\", \"showlegend\": true, \"type\": \"histogram\", \"x\": [17, 18, 26, 42, 56, 82, 131, 133, 171, 213, 259, 361, 425, 491, 563, 633, 718, 805, 905, 1012, 1112, 1117, 1369, 1521, 1663, 1766, 1864, 2003, 2116, 2238, 2238, 2443, 2445, 2595, 2665, 2717, 2746, 2790, 2837, 2872, 2914, 2947, 2983, 3015, 3044, 3072, 3100, 3123, 3139, 3161, 3172, 3180, 3193, 3203, 3217, 3230, 3241, 3249, 3253, 3259, 3274, 3274, 3281, 3285, 3291, 3296, 3299, 3304, 3308, 3309, 3316, 3322, 3326], \"xaxis\": \"x\", \"y\": [548, 643, 920, 1406, 2075, 2877, 5509, 6087, 8141, 9802, 11891, 16630, 19716, 23707, 27440, 30587, 34110, 36814, 39829, 42354, 44386, 46267, 59895, 66358, 68413, 70513, 72434, 74211, 74619, 75077, 75550, 77001, 77022, 77241, 77754, 78166, 78600, 78928, 79356, 79932, 80136, 80261, 80386, 80537, 80690, 80770, 80823, 80860, 80887, 80921, 80932, 80945, 80977, 81003, 81033, 81058, 81102, 81156, 81250, 81305, 81435, 81498, 81591, 81661, 81782, 81897, 81999, 82122, 82198, 82279, 82361, 82432, 82511], \"yaxis\": \"y\"}, {\"alignmentgroup\": \"True\", \"hovertemplate\": \"Country/Region=China<br>Deaths=%{x}<extra></extra>\", \"legendgroup\": \"China\", \"marker\": {\"color\": \"#636efa\"}, \"name\": \"China\", \"notched\": true, \"offsetgroup\": \"China\", \"showlegend\": false, \"type\": \"box\", \"x\": [17, 18, 26, 42, 56, 82, 131, 133, 171, 213, 259, 361, 425, 491, 563, 633, 718, 805, 905, 1012, 1112, 1117, 1369, 1521, 1663, 1766, 1864, 2003, 2116, 2238, 2238, 2443, 2445, 2595, 2665, 2717, 2746, 2790, 2837, 2872, 2914, 2947, 2983, 3015, 3044, 3072, 3100, 3123, 3139, 3161, 3172, 3180, 3193, 3203, 3217, 3230, 3241, 3249, 3253, 3259, 3274, 3274, 3281, 3285, 3291, 3296, 3299, 3304, 3308, 3309, 3316, 3322, 3326], \"xaxis\": \"x2\", \"yaxis\": \"y2\"}, {\"alignmentgroup\": \"True\", \"bingroup\": \"x\", \"hovertemplate\": \"Country/Region=Italy<br>Deaths=%{x}<br>count of Confirmed=%{y}<extra></extra>\", \"legendgroup\": \"Italy\", \"marker\": {\"color\": \"#EF553B\"}, \"name\": \"Italy\", \"offsetgroup\": \"Italy\", \"orientation\": \"v\", \"showlegend\": true, \"type\": \"histogram\", \"x\": [0, 0, 0, 0, 0, 0, 0, 0, 0, 0, 0, 0, 0, 0, 0, 0, 0, 0, 0, 0, 0, 0, 0, 0, 0, 0, 0, 0, 0, 0, 1, 2, 3, 7, 10, 12, 17, 21, 29, 34, 52, 79, 107, 148, 197, 233, 366, 463, 631, 827, 827, 1266, 1441, 1809, 2158, 2503, 2978, 3405, 4032, 4825, 5476, 6077, 6820, 7503, 8215, 9134, 10023, 10779, 11591, 12428, 13155, 13915, 14681], \"xaxis\": \"x\", \"y\": [0, 0, 0, 0, 0, 0, 0, 0, 0, 2, 2, 2, 2, 2, 2, 2, 3, 3, 3, 3, 3, 3, 3, 3, 3, 3, 3, 3, 3, 3, 20, 62, 155, 229, 322, 453, 655, 888, 1128, 1694, 2036, 2502, 3089, 3858, 4636, 5883, 7375, 9172, 10149, 12462, 12462, 17660, 21157, 24747, 27980, 31506, 35713, 41035, 47021, 53578, 59138, 63927, 69176, 74386, 80589, 86498, 92472, 97689, 101739, 105792, 110574, 115242, 119827], \"yaxis\": \"y\"}, {\"alignmentgroup\": \"True\", \"hovertemplate\": \"Country/Region=Italy<br>Deaths=%{x}<extra></extra>\", \"legendgroup\": \"Italy\", \"marker\": {\"color\": \"#EF553B\"}, \"name\": \"Italy\", \"notched\": true, \"offsetgroup\": \"Italy\", \"showlegend\": false, \"type\": \"box\", \"x\": [0, 0, 0, 0, 0, 0, 0, 0, 0, 0, 0, 0, 0, 0, 0, 0, 0, 0, 0, 0, 0, 0, 0, 0, 0, 0, 0, 0, 0, 0, 1, 2, 3, 7, 10, 12, 17, 21, 29, 34, 52, 79, 107, 148, 197, 233, 366, 463, 631, 827, 827, 1266, 1441, 1809, 2158, 2503, 2978, 3405, 4032, 4825, 5476, 6077, 6820, 7503, 8215, 9134, 10023, 10779, 11591, 12428, 13155, 13915, 14681], \"xaxis\": \"x2\", \"yaxis\": \"y2\"}, {\"alignmentgroup\": \"True\", \"bingroup\": \"x\", \"hovertemplate\": \"Country/Region=US<br>Deaths=%{x}<br>count of Confirmed=%{y}<extra></extra>\", \"legendgroup\": \"US\", \"marker\": {\"color\": \"#00cc96\"}, \"name\": \"US\", \"offsetgroup\": \"US\", \"orientation\": \"v\", \"showlegend\": true, \"type\": \"histogram\", \"x\": [0, 0, 0, 0, 0, 0, 0, 0, 0, 0, 0, 0, 0, 0, 0, 0, 0, 0, 0, 0, 0, 0, 0, 0, 0, 0, 0, 0, 0, 0, 0, 0, 0, 0, 0, 0, 0, 0, 1, 1, 6, 7, 11, 12, 14, 17, 21, 22, 28, 36, 40, 47, 54, 63, 85, 108, 118, 200, 244, 307, 417, 557, 706, 942, 1209, 1581, 2026, 2467, 2978, 3873, 4757, 5926, 7087], \"xaxis\": \"x\", \"y\": [1, 1, 2, 2, 5, 5, 5, 5, 5, 7, 8, 8, 11, 11, 11, 11, 11, 11, 11, 11, 12, 12, 13, 13, 13, 13, 13, 13, 13, 13, 15, 15, 15, 51, 51, 57, 58, 60, 68, 74, 98, 118, 149, 217, 262, 402, 518, 583, 959, 1281, 1663, 2179, 2727, 3499, 4632, 6421, 7783, 13677, 19100, 25489, 33276, 43847, 53740, 65778, 83836, 101657, 121478, 140886, 161807, 188172, 213372, 243453, 275586], \"yaxis\": \"y\"}, {\"alignmentgroup\": \"True\", \"hovertemplate\": \"Country/Region=US<br>Deaths=%{x}<extra></extra>\", \"legendgroup\": \"US\", \"marker\": {\"color\": \"#00cc96\"}, \"name\": \"US\", \"notched\": true, \"offsetgroup\": \"US\", \"showlegend\": false, \"type\": \"box\", \"x\": [0, 0, 0, 0, 0, 0, 0, 0, 0, 0, 0, 0, 0, 0, 0, 0, 0, 0, 0, 0, 0, 0, 0, 0, 0, 0, 0, 0, 0, 0, 0, 0, 0, 0, 0, 0, 0, 0, 1, 1, 6, 7, 11, 12, 14, 17, 21, 22, 28, 36, 40, 47, 54, 63, 85, 108, 118, 200, 244, 307, 417, 557, 706, 942, 1209, 1581, 2026, 2467, 2978, 3873, 4757, 5926, 7087], \"xaxis\": \"x2\", \"yaxis\": \"y2\"}],\n",
       "                        {\"barmode\": \"relative\", \"legend\": {\"title\": {\"text\": \"Country/Region\"}, \"tracegroupgap\": 0}, \"margin\": {\"t\": 60}, \"template\": {\"data\": {\"bar\": [{\"error_x\": {\"color\": \"#2a3f5f\"}, \"error_y\": {\"color\": \"#2a3f5f\"}, \"marker\": {\"line\": {\"color\": \"#E5ECF6\", \"width\": 0.5}}, \"type\": \"bar\"}], \"barpolar\": [{\"marker\": {\"line\": {\"color\": \"#E5ECF6\", \"width\": 0.5}}, \"type\": \"barpolar\"}], \"carpet\": [{\"aaxis\": {\"endlinecolor\": \"#2a3f5f\", \"gridcolor\": \"white\", \"linecolor\": \"white\", \"minorgridcolor\": \"white\", \"startlinecolor\": \"#2a3f5f\"}, \"baxis\": {\"endlinecolor\": \"#2a3f5f\", \"gridcolor\": \"white\", \"linecolor\": \"white\", \"minorgridcolor\": \"white\", \"startlinecolor\": \"#2a3f5f\"}, \"type\": \"carpet\"}], \"choropleth\": [{\"colorbar\": {\"outlinewidth\": 0, \"ticks\": \"\"}, \"type\": \"choropleth\"}], \"contour\": [{\"colorbar\": {\"outlinewidth\": 0, \"ticks\": \"\"}, \"colorscale\": [[0.0, \"#0d0887\"], [0.1111111111111111, \"#46039f\"], [0.2222222222222222, \"#7201a8\"], [0.3333333333333333, \"#9c179e\"], [0.4444444444444444, \"#bd3786\"], [0.5555555555555556, \"#d8576b\"], [0.6666666666666666, \"#ed7953\"], [0.7777777777777778, \"#fb9f3a\"], [0.8888888888888888, \"#fdca26\"], [1.0, \"#f0f921\"]], \"type\": \"contour\"}], \"contourcarpet\": [{\"colorbar\": {\"outlinewidth\": 0, \"ticks\": \"\"}, \"type\": \"contourcarpet\"}], \"heatmap\": [{\"colorbar\": {\"outlinewidth\": 0, \"ticks\": \"\"}, \"colorscale\": [[0.0, \"#0d0887\"], [0.1111111111111111, \"#46039f\"], [0.2222222222222222, \"#7201a8\"], [0.3333333333333333, \"#9c179e\"], [0.4444444444444444, \"#bd3786\"], [0.5555555555555556, \"#d8576b\"], [0.6666666666666666, \"#ed7953\"], [0.7777777777777778, \"#fb9f3a\"], [0.8888888888888888, \"#fdca26\"], [1.0, \"#f0f921\"]], \"type\": \"heatmap\"}], \"heatmapgl\": [{\"colorbar\": {\"outlinewidth\": 0, \"ticks\": \"\"}, \"colorscale\": [[0.0, \"#0d0887\"], [0.1111111111111111, \"#46039f\"], [0.2222222222222222, \"#7201a8\"], [0.3333333333333333, \"#9c179e\"], [0.4444444444444444, \"#bd3786\"], [0.5555555555555556, \"#d8576b\"], [0.6666666666666666, \"#ed7953\"], [0.7777777777777778, \"#fb9f3a\"], [0.8888888888888888, \"#fdca26\"], [1.0, \"#f0f921\"]], \"type\": \"heatmapgl\"}], \"histogram\": [{\"marker\": {\"colorbar\": {\"outlinewidth\": 0, \"ticks\": \"\"}}, \"type\": \"histogram\"}], \"histogram2d\": [{\"colorbar\": {\"outlinewidth\": 0, \"ticks\": \"\"}, \"colorscale\": [[0.0, \"#0d0887\"], [0.1111111111111111, \"#46039f\"], [0.2222222222222222, \"#7201a8\"], [0.3333333333333333, \"#9c179e\"], [0.4444444444444444, \"#bd3786\"], [0.5555555555555556, \"#d8576b\"], [0.6666666666666666, \"#ed7953\"], [0.7777777777777778, \"#fb9f3a\"], [0.8888888888888888, \"#fdca26\"], [1.0, \"#f0f921\"]], \"type\": \"histogram2d\"}], \"histogram2dcontour\": [{\"colorbar\": {\"outlinewidth\": 0, \"ticks\": \"\"}, \"colorscale\": [[0.0, \"#0d0887\"], [0.1111111111111111, \"#46039f\"], [0.2222222222222222, \"#7201a8\"], [0.3333333333333333, \"#9c179e\"], [0.4444444444444444, \"#bd3786\"], [0.5555555555555556, \"#d8576b\"], [0.6666666666666666, \"#ed7953\"], [0.7777777777777778, \"#fb9f3a\"], [0.8888888888888888, \"#fdca26\"], [1.0, \"#f0f921\"]], \"type\": \"histogram2dcontour\"}], \"mesh3d\": [{\"colorbar\": {\"outlinewidth\": 0, \"ticks\": \"\"}, \"type\": \"mesh3d\"}], \"parcoords\": [{\"line\": {\"colorbar\": {\"outlinewidth\": 0, \"ticks\": \"\"}}, \"type\": \"parcoords\"}], \"pie\": [{\"automargin\": true, \"type\": \"pie\"}], \"scatter\": [{\"marker\": {\"colorbar\": {\"outlinewidth\": 0, \"ticks\": \"\"}}, \"type\": \"scatter\"}], \"scatter3d\": [{\"line\": {\"colorbar\": {\"outlinewidth\": 0, \"ticks\": \"\"}}, \"marker\": {\"colorbar\": {\"outlinewidth\": 0, \"ticks\": \"\"}}, \"type\": \"scatter3d\"}], \"scattercarpet\": [{\"marker\": {\"colorbar\": {\"outlinewidth\": 0, \"ticks\": \"\"}}, \"type\": \"scattercarpet\"}], \"scattergeo\": [{\"marker\": {\"colorbar\": {\"outlinewidth\": 0, \"ticks\": \"\"}}, \"type\": \"scattergeo\"}], \"scattergl\": [{\"marker\": {\"colorbar\": {\"outlinewidth\": 0, \"ticks\": \"\"}}, \"type\": \"scattergl\"}], \"scattermapbox\": [{\"marker\": {\"colorbar\": {\"outlinewidth\": 0, \"ticks\": \"\"}}, \"type\": \"scattermapbox\"}], \"scatterpolar\": [{\"marker\": {\"colorbar\": {\"outlinewidth\": 0, \"ticks\": \"\"}}, \"type\": \"scatterpolar\"}], \"scatterpolargl\": [{\"marker\": {\"colorbar\": {\"outlinewidth\": 0, \"ticks\": \"\"}}, \"type\": \"scatterpolargl\"}], \"scatterternary\": [{\"marker\": {\"colorbar\": {\"outlinewidth\": 0, \"ticks\": \"\"}}, \"type\": \"scatterternary\"}], \"surface\": [{\"colorbar\": {\"outlinewidth\": 0, \"ticks\": \"\"}, \"colorscale\": [[0.0, \"#0d0887\"], [0.1111111111111111, \"#46039f\"], [0.2222222222222222, \"#7201a8\"], [0.3333333333333333, \"#9c179e\"], [0.4444444444444444, \"#bd3786\"], [0.5555555555555556, \"#d8576b\"], [0.6666666666666666, \"#ed7953\"], [0.7777777777777778, \"#fb9f3a\"], [0.8888888888888888, \"#fdca26\"], [1.0, \"#f0f921\"]], \"type\": \"surface\"}], \"table\": [{\"cells\": {\"fill\": {\"color\": \"#EBF0F8\"}, \"line\": {\"color\": \"white\"}}, \"header\": {\"fill\": {\"color\": \"#C8D4E3\"}, \"line\": {\"color\": \"white\"}}, \"type\": \"table\"}]}, \"layout\": {\"annotationdefaults\": {\"arrowcolor\": \"#2a3f5f\", \"arrowhead\": 0, \"arrowwidth\": 1}, \"coloraxis\": {\"colorbar\": {\"outlinewidth\": 0, \"ticks\": \"\"}}, \"colorscale\": {\"diverging\": [[0, \"#8e0152\"], [0.1, \"#c51b7d\"], [0.2, \"#de77ae\"], [0.3, \"#f1b6da\"], [0.4, \"#fde0ef\"], [0.5, \"#f7f7f7\"], [0.6, \"#e6f5d0\"], [0.7, \"#b8e186\"], [0.8, \"#7fbc41\"], [0.9, \"#4d9221\"], [1, \"#276419\"]], \"sequential\": [[0.0, \"#0d0887\"], [0.1111111111111111, \"#46039f\"], [0.2222222222222222, \"#7201a8\"], [0.3333333333333333, \"#9c179e\"], [0.4444444444444444, \"#bd3786\"], [0.5555555555555556, \"#d8576b\"], [0.6666666666666666, \"#ed7953\"], [0.7777777777777778, \"#fb9f3a\"], [0.8888888888888888, \"#fdca26\"], [1.0, \"#f0f921\"]], \"sequentialminus\": [[0.0, \"#0d0887\"], [0.1111111111111111, \"#46039f\"], [0.2222222222222222, \"#7201a8\"], [0.3333333333333333, \"#9c179e\"], [0.4444444444444444, \"#bd3786\"], [0.5555555555555556, \"#d8576b\"], [0.6666666666666666, \"#ed7953\"], [0.7777777777777778, \"#fb9f3a\"], [0.8888888888888888, \"#fdca26\"], [1.0, \"#f0f921\"]]}, \"colorway\": [\"#636efa\", \"#EF553B\", \"#00cc96\", \"#ab63fa\", \"#FFA15A\", \"#19d3f3\", \"#FF6692\", \"#B6E880\", \"#FF97FF\", \"#FECB52\"], \"font\": {\"color\": \"#2a3f5f\"}, \"geo\": {\"bgcolor\": \"white\", \"lakecolor\": \"white\", \"landcolor\": \"#E5ECF6\", \"showlakes\": true, \"showland\": true, \"subunitcolor\": \"white\"}, \"hoverlabel\": {\"align\": \"left\"}, \"hovermode\": \"closest\", \"mapbox\": {\"style\": \"light\"}, \"paper_bgcolor\": \"white\", \"plot_bgcolor\": \"#E5ECF6\", \"polar\": {\"angularaxis\": {\"gridcolor\": \"white\", \"linecolor\": \"white\", \"ticks\": \"\"}, \"bgcolor\": \"#E5ECF6\", \"radialaxis\": {\"gridcolor\": \"white\", \"linecolor\": \"white\", \"ticks\": \"\"}}, \"scene\": {\"xaxis\": {\"backgroundcolor\": \"#E5ECF6\", \"gridcolor\": \"white\", \"gridwidth\": 2, \"linecolor\": \"white\", \"showbackground\": true, \"ticks\": \"\", \"zerolinecolor\": \"white\"}, \"yaxis\": {\"backgroundcolor\": \"#E5ECF6\", \"gridcolor\": \"white\", \"gridwidth\": 2, \"linecolor\": \"white\", \"showbackground\": true, \"ticks\": \"\", \"zerolinecolor\": \"white\"}, \"zaxis\": {\"backgroundcolor\": \"#E5ECF6\", \"gridcolor\": \"white\", \"gridwidth\": 2, \"linecolor\": \"white\", \"showbackground\": true, \"ticks\": \"\", \"zerolinecolor\": \"white\"}}, \"shapedefaults\": {\"line\": {\"color\": \"#2a3f5f\"}}, \"ternary\": {\"aaxis\": {\"gridcolor\": \"white\", \"linecolor\": \"white\", \"ticks\": \"\"}, \"baxis\": {\"gridcolor\": \"white\", \"linecolor\": \"white\", \"ticks\": \"\"}, \"bgcolor\": \"#E5ECF6\", \"caxis\": {\"gridcolor\": \"white\", \"linecolor\": \"white\", \"ticks\": \"\"}}, \"title\": {\"x\": 0.05}, \"xaxis\": {\"automargin\": true, \"gridcolor\": \"white\", \"linecolor\": \"white\", \"ticks\": \"\", \"title\": {\"standoff\": 15}, \"zerolinecolor\": \"white\", \"zerolinewidth\": 2}, \"yaxis\": {\"automargin\": true, \"gridcolor\": \"white\", \"linecolor\": \"white\", \"ticks\": \"\", \"title\": {\"standoff\": 15}, \"zerolinecolor\": \"white\", \"zerolinewidth\": 2}}}, \"xaxis\": {\"anchor\": \"y\", \"domain\": [0.0, 1.0], \"title\": {\"text\": \"Deaths\"}}, \"xaxis2\": {\"anchor\": \"y2\", \"domain\": [0.0, 1.0], \"matches\": \"x\", \"showgrid\": true, \"showticklabels\": false}, \"yaxis\": {\"anchor\": \"x\", \"domain\": [0.0, 0.7326], \"title\": {\"text\": \"count of Confirmed\"}}, \"yaxis2\": {\"anchor\": \"x2\", \"domain\": [0.7426, 1.0], \"matches\": \"y2\", \"showgrid\": false, \"showline\": false, \"showticklabels\": false, \"ticks\": \"\"}},\n",
       "                        {\"responsive\": true}\n",
       "                    ).then(function(){\n",
       "                            \n",
       "var gd = document.getElementById('9e6a7bdb-36d7-4a0e-998e-3823ded27626');\n",
       "var x = new MutationObserver(function (mutations, observer) {{\n",
       "        var display = window.getComputedStyle(gd).display;\n",
       "        if (!display || display === 'none') {{\n",
       "            console.log([gd, 'removed!']);\n",
       "            Plotly.purge(gd);\n",
       "            observer.disconnect();\n",
       "        }}\n",
       "}});\n",
       "\n",
       "// Listen for the removal of the full notebook cells\n",
       "var notebookContainer = gd.closest('#notebook-container');\n",
       "if (notebookContainer) {{\n",
       "    x.observe(notebookContainer, {childList: true});\n",
       "}}\n",
       "\n",
       "// Listen for the clearing of the current output cell\n",
       "var outputEl = gd.closest('.output');\n",
       "if (outputEl) {{\n",
       "    x.observe(outputEl, {childList: true});\n",
       "}}\n",
       "\n",
       "                        })\n",
       "                };\n",
       "                });\n",
       "            </script>\n",
       "        </div>"
      ]
     },
     "metadata": {},
     "output_type": "display_data"
    }
   ],
   "source": [
    "import plotly.express as px\n",
    "# df = px.data.()\n",
    "fig = px.histogram(death_rate, x=\"Deaths\", y=\"Confirmed\", color=\"Country/Region\",\n",
    "                   marginal=\"box\", # or violin, rug\n",
    "                   )\n",
    "fig.show()"
   ]
  }
 ],
 "metadata": {
  "kernelspec": {
   "display_name": "Python 3",
   "language": "python",
   "name": "python3"
  },
  "language_info": {
   "codemirror_mode": {
    "name": "ipython",
    "version": 3
   },
   "file_extension": ".py",
   "mimetype": "text/x-python",
   "name": "python",
   "nbconvert_exporter": "python",
   "pygments_lexer": "ipython3",
   "version": "3.7.4"
  }
 },
 "nbformat": 4,
 "nbformat_minor": 2
}
